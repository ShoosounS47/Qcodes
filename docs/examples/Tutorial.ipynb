{
 "cells": [
  {
   "cell_type": "markdown",
   "metadata": {},
   "source": [
    "# QCoDeS tutorial \n",
    "This notebook was made to accompany 160703_qcodes_tutorial.pptx but should serve as a self standing example. \n",
    "\n",
    "The tutorial is aimed at explaining basic qcodes use. \n",
    "\n",
    "\n",
    "\n"
   ]
  },
  {
   "cell_type": "markdown",
   "metadata": {},
   "source": [
    "## Typical QCodes workflow \n",
    "1. Start up an interactive python session (e.g. using jupyter) \n",
    "2. import desired modules \n",
    "3. instantiate required instruments \n",
    "4. experiment! \n",
    "\n",
    "Note that step 4 (experiment) often involves defining custom loops, plotting and analyzing data, and testing new instruments. \n",
    "**The user *is* the programmer. **\n",
    "\n",
    "\n"
   ]
  },
  {
   "cell_type": "markdown",
   "metadata": {},
   "source": [
    "## Import desired modules (including qcodes as qc) "
   ]
  },
  {
   "cell_type": "code",
   "execution_count": 1,
   "metadata": {
    "collapsed": false
   },
   "outputs": [
    {
     "data": {
      "application/javascript": [
       "/*\n",
       " * Qcodes Jupyter/IPython widgets\n",
       " */\n",
       "require([\n",
       "    'nbextensions/widgets/widgets/js/widget',\n",
       "    'nbextensions/widgets/widgets/js/manager'\n",
       "], function (widget, manager) {\n",
       "\n",
       "    var UpdateView = widget.DOMWidgetView.extend({\n",
       "        render: function() {\n",
       "            window.MYWIDGET = this;\n",
       "            this._interval = 0;\n",
       "            this.update();\n",
       "        },\n",
       "        update: function() {\n",
       "            this.display(this.model.get('_message'));\n",
       "            this.setInterval();\n",
       "        },\n",
       "        display: function(message) {\n",
       "            /*\n",
       "             * display method: override this for custom display logic\n",
       "             */\n",
       "            this.el.innerHTML = message;\n",
       "        },\n",
       "        remove: function() {\n",
       "            clearInterval(this._updater);\n",
       "        },\n",
       "        setInterval: function(newInterval) {\n",
       "            var me = this;\n",
       "            if(newInterval===undefined) newInterval = me.model.get('interval');\n",
       "            if(newInterval===me._interval) return;\n",
       "\n",
       "            me._interval = newInterval;\n",
       "\n",
       "            if(me._updater) clearInterval(me._updater);\n",
       "\n",
       "            if(me._interval) {\n",
       "                me._updater = setInterval(function() {\n",
       "                    me.send({myupdate: true});\n",
       "                    if(!me.model.comm_live) {\n",
       "                        console.log('missing comm, canceling widget updates', me);\n",
       "                        clearInterval(me._updater);\n",
       "                    }\n",
       "                }, me._interval * 1000);\n",
       "            }\n",
       "        }\n",
       "    });\n",
       "    manager.WidgetManager.register_widget_view('UpdateView', UpdateView);\n",
       "\n",
       "    var HiddenUpdateView = UpdateView.extend({\n",
       "        display: function(message) {\n",
       "            this.$el.hide();\n",
       "        }\n",
       "    });\n",
       "    manager.WidgetManager.register_widget_view('HiddenUpdateView', HiddenUpdateView);\n",
       "\n",
       "    var SubprocessView = UpdateView.extend({\n",
       "        render: function() {\n",
       "            var me = this;\n",
       "            me._interval = 0;\n",
       "            me._minimize = '<i class=\"fa-minus fa\"></i>';\n",
       "            me._restore = '<i class=\"fa-plus fa\"></i>';\n",
       "\n",
       "            // max lines of output to show\n",
       "            me.maxOutputLength = 500;\n",
       "\n",
       "            // in case there is already an outputView present,\n",
       "            // like from before restarting the kernel\n",
       "            $('.qcodes-output-view').not(me.$el).remove();\n",
       "\n",
       "            me.$el\n",
       "                .addClass('qcodes-output-view')\n",
       "                .attr('qcodes-state', 'docked')\n",
       "                .html(\n",
       "                    '<div class=\"qcodes-output-header toolbar\">' +\n",
       "                        '<div class=\"qcodes-process-list\"></div>' +\n",
       "                        '<button class=\"btn qcodes-processlines\"><i class=\"fa-list fa\"></i></button>' +\n",
       "                        '<button class=\"btn qcodes-abort-loop disabled\">Abort</button>' +\n",
       "                        '<button class=\"btn qcodes-clear-output disabled qcodes-content\">Clear</button>' +\n",
       "                        '<button class=\"btn js-state qcodes-minimized\"><i class=\"fa-minus fa\"></i></button>' +\n",
       "                        '<button class=\"btn js-state qcodes-docked\"><i class=\"fa-toggle-up fa\"></i></button>' +\n",
       "                        '<button class=\"btn js-state qcodes-floated\"><i class=\"fa-arrows fa\"></i></button>' +\n",
       "                    '</div>' +\n",
       "                    '<pre class=\"qcodes-content\"></pre>'\n",
       "                );\n",
       "\n",
       "            me.clearButton = me.$el.find('.qcodes-clear-output');\n",
       "            me.minButton = me.$el.find('.qcodes-minimize');\n",
       "            me.outputArea = me.$el.find('pre');\n",
       "            me.subprocessList = me.$el.find('.qcodes-process-list');\n",
       "            me.abortButton = me.$el.find('.qcodes-abort-loop');\n",
       "            me.processLinesButton = me.$el.find('.qcodes-processlines')\n",
       "\n",
       "            me.outputLines = [];\n",
       "\n",
       "            me.clearButton.click(function() {\n",
       "                me.outputArea.html('');\n",
       "                me.clearButton.addClass('disabled');\n",
       "            });\n",
       "\n",
       "            me.abortButton.click(function() {\n",
       "                me.send({abort: true});\n",
       "            });\n",
       "\n",
       "            me.processLinesButton.click(function() {\n",
       "                // toggle multiline process list display\n",
       "                me.subprocessesMultiline = !me.subprocessesMultiline;\n",
       "                me.showSubprocesses();\n",
       "            });\n",
       "\n",
       "            me.$el.find('.js-state').click(function() {\n",
       "                var state = this.className.substr(this.className.indexOf('qcodes'))\n",
       "                        .split('-')[1].split(' ')[0];\n",
       "                me.model.set('_state', state);\n",
       "            });\n",
       "\n",
       "            $(window)\n",
       "                .off('resize.qcodes')\n",
       "                .on('resize.qcodes', function() {me.clipBounds();});\n",
       "\n",
       "            me.update();\n",
       "        },\n",
       "\n",
       "        updateState: function() {\n",
       "            var me = this,\n",
       "                oldState = me.$el.attr('qcodes-state'),\n",
       "                state = me.model.get('_state');\n",
       "\n",
       "            if(state === oldState) return;\n",
       "\n",
       "            setTimeout(function() {\n",
       "                // not sure why I can't pop it out of the widgetarea in render, but it seems that\n",
       "                // some other bit of code resets the parent after render if I do it there.\n",
       "                // To be safe, just do it on every state click.\n",
       "                me.$el.appendTo('body');\n",
       "\n",
       "                if(oldState === 'floated') {\n",
       "                    console.log('here');\n",
       "                    me.$el.draggable('destroy').css({left:'', top: ''});\n",
       "                }\n",
       "\n",
       "                me.$el.attr('qcodes-state', state);\n",
       "\n",
       "                if(state === 'floated') {\n",
       "                    me.$el\n",
       "                        .draggable({stop: function() { me.clipBounds(); }})\n",
       "                        .css({\n",
       "                            left: window.innerWidth - me.$el.width() - 15,\n",
       "                            top: window.innerHeight - me.$el.height() - 10\n",
       "                        });\n",
       "                }\n",
       "\n",
       "                // any previous highlighting is now moot\n",
       "                me.$el.removeClass('qcodes-highlight');\n",
       "            }, 0);\n",
       "\n",
       "        },\n",
       "\n",
       "        clipBounds: function() {\n",
       "            var me = this;\n",
       "            if(me.$el.attr('qcodes-state') === 'floated') {\n",
       "                var bounds = me.$el[0].getBoundingClientRect(),\n",
       "                    minVis = 40,\n",
       "                    maxLeft = window.innerWidth - minVis,\n",
       "                    minLeft = minVis - bounds.width,\n",
       "                    maxTop = window.innerHeight - minVis;\n",
       "\n",
       "                if(bounds.left > maxLeft) me.$el.css('left', maxLeft);\n",
       "                else if(bounds.left < minLeft) me.$el.css('left', minLeft);\n",
       "\n",
       "                if(bounds.top > maxTop) me.$el.css('top', maxTop);\n",
       "                else if(bounds.top < 0) me.$el.css('top', 0);\n",
       "            }\n",
       "        },\n",
       "\n",
       "        display: function(message) {\n",
       "            var me = this;\n",
       "            if(message) {\n",
       "                var initialScroll = me.outputArea.scrollTop();\n",
       "                me.outputArea.scrollTop(me.outputArea.prop('scrollHeight'));\n",
       "                var scrollBottom = me.outputArea.scrollTop();\n",
       "\n",
       "                if(me.$el.attr('qcodes-state') === 'minimized') {\n",
       "                    // if we add text and the box is minimized, highlight the\n",
       "                    // title bar to alert the user that there are new messages.\n",
       "                    // remove then add the class, so we get the animation again\n",
       "                    // if it's already highlighted\n",
       "                    me.$el.removeClass('qcodes-highlight');\n",
       "                    setTimeout(function(){\n",
       "                        me.$el.addClass('qcodes-highlight');\n",
       "                    }, 0);\n",
       "                }\n",
       "\n",
       "                var newLines = message.split('\\n'),\n",
       "                    out = me.outputLines,\n",
       "                    outLen = out.length;\n",
       "                if(outLen) out[outLen - 1] += newLines[0];\n",
       "                else out.push(newLines[0]);\n",
       "\n",
       "                for(var i = 1; i < newLines.length; i++) {\n",
       "                    out.push(newLines[i]);\n",
       "                }\n",
       "\n",
       "                if(out.length > me.maxOutputLength) {\n",
       "                    out.splice(0, out.length - me.maxOutputLength + 1,\n",
       "                        '<<< Output clipped >>>');\n",
       "                }\n",
       "\n",
       "                me.outputArea.text(out.join('\\n'));\n",
       "                me.clearButton.removeClass('disabled');\n",
       "\n",
       "                // if we were scrolled to the bottom initially, make sure\n",
       "                // we stay that way.\n",
       "                me.outputArea.scrollTop(initialScroll === scrollBottom ?\n",
       "                    me.outputArea.prop('scrollHeight') : initialScroll);\n",
       "            }\n",
       "\n",
       "            me.showSubprocesses();\n",
       "            me.updateState();\n",
       "        },\n",
       "\n",
       "        showSubprocesses: function() {\n",
       "            var me = this,\n",
       "                replacer = me.subprocessesMultiline ? '<br>' : ', ',\n",
       "                processes = (me.model.get('_processes') || '')\n",
       "                    .replace(/\\n/g, '&gt;' + replacer + '&lt;');\n",
       "\n",
       "            if(processes) processes = '&lt;' + processes + '&gt;';\n",
       "            else processes = 'No subprocesses';\n",
       "\n",
       "            me.abortButton.toggleClass('disabled', processes.indexOf('Measurement')===-1);\n",
       "\n",
       "            me.subprocessList.html(processes);\n",
       "        }\n",
       "    });\n",
       "    manager.WidgetManager.register_widget_view('SubprocessView', SubprocessView);\n",
       "});\n"
      ],
      "text/plain": [
       "<IPython.core.display.Javascript object>"
      ]
     },
     "metadata": {},
     "output_type": "display_data"
    },
    {
     "data": {
      "text/html": [
       "<style>.qcodes-output-view:not(.ui-draggable) {\n",
       "    bottom: 0;\n",
       "    right: 5px;\n",
       "}\n",
       ".qcodes-output-view {\n",
       "    position: fixed;\n",
       "    z-index: 999;\n",
       "    background-color: #fff;\n",
       "    box-shadow: 0 0 12px 1px rgba(87, 87, 87, 0.2);\n",
       "}\n",
       "\n",
       ".qcodes-output-header {\n",
       "    float: right;\n",
       "}\n",
       "\n",
       ".qcodes-highlight {\n",
       "    animation: pulse 1s linear;\n",
       "    background-color: #fa4;\n",
       "}\n",
       "\n",
       "@keyframes pulse {\n",
       "    0% {\n",
       "        background-color: #f00;\n",
       "    }\n",
       "    100% {\n",
       "        background-color: #fa4;\n",
       "    }\n",
       "}\n",
       "\n",
       ".qcodes-process-list {\n",
       "    float: left;\n",
       "    max-width: 780px;\n",
       "    margin: 3px 5px 3px 10px;\n",
       "    overflow: hidden;\n",
       "    white-space: nowrap;\n",
       "    text-overflow: ellipsis;\n",
       "}\n",
       "\n",
       ".qcodes-output-view[qcodes-state=minimized] .qcodes-process-list {\n",
       "    max-width: 300px;\n",
       "}\n",
       "\n",
       ".qcodes-output-view span {\n",
       "    padding: 2px 6px 3px 12px;\n",
       "}\n",
       "\n",
       ".qcodes-output-view .btn {\n",
       "    margin: 0 3px 0 0;\n",
       "}\n",
       "\n",
       ".qcodes-output-view[qcodes-state=docked] .qcodes-docked,\n",
       ".qcodes-output-view[qcodes-state=floated] .qcodes-floated,\n",
       ".qcodes-output-view[qcodes-state=minimized] .qcodes-minimized,\n",
       ".qcodes-output-view[qcodes-state=minimized] .qcodes-content {\n",
       "    display: none;\n",
       "}\n",
       "\n",
       ".qcodes-output-view .disabled {\n",
       "    opacity: 0.4;\n",
       "}\n",
       "\n",
       ".qcodes-abort-loop {\n",
       "    background-color: #844;\n",
       "    color: #fff;\n",
       "}\n",
       "\n",
       ".qcodes-output-view pre {\n",
       "    clear: both;\n",
       "    margin: 0;\n",
       "    border: 0;\n",
       "    border-top: 1px solid #ccc;\n",
       "    background-color: #ffe;\n",
       "    min-height: 50px;\n",
       "    max-height: 400px;\n",
       "    min-width: 400px;\n",
       "    max-width: 1000px;\n",
       "}</style>"
      ],
      "text/plain": [
       "<IPython.core.display.HTML object>"
      ]
     },
     "metadata": {},
     "output_type": "display_data"
    }
   ],
   "source": [
    "%matplotlib nbagg\n",
    "import matplotlib.pyplot as plt\n",
    "from pprint import pprint\n",
    "import time\n",
    "import numpy as np\n",
    "\n",
    "\n",
    "import qcodes as qc\n",
    "\n",
    "qc.set_mp_method('spawn')  # force Windows behavior on mac\n",
    "\n",
    "# this makes a widget in the corner of the window to show and control\n",
    "# subprocesses and any output they would print to the terminal\n",
    "qc.show_subprocess_widget()"
   ]
  },
  {
   "cell_type": "markdown",
   "metadata": {},
   "source": [
    "## Instantiates all the instruments needed for the demo"
   ]
  },
  {
   "cell_type": "code",
   "execution_count": 2,
   "metadata": {
    "collapsed": false
   },
   "outputs": [],
   "source": [
    "# spawn doesn't like function or class definitions in the interpreter\n",
    "# session - had to move them to a file.\n",
    "from toymodel import AModel, MockGates, MockSource, MockMeter, AverageGetter, AverageAndRaw\n",
    "\n",
    "# now create this \"experiment\", note that all these are instruments \n",
    "model = AModel()\n",
    "gates = MockGates('gates', model=model)\n",
    "source = MockSource('source', model=model)\n",
    "meter = MockMeter('meter', model=model)\n",
    "\n",
    "# The station is a container for all instruments that makes it easy \n",
    "# to log meta-data\n",
    "station = qc.Station(gates, source, meter)\n",
    "\n",
    "# it's nice to have the key parameters be part of the global namespace\n",
    "# that way they're objects that we can easily set, get, and slice\n",
    "c0, c1, c2, vsd = gates.chan0, gates.chan1, gates.chan2, source.amplitude\n",
    "\n",
    "# once we have implemented a monitor, defining a station will start a\n",
    "# DataServer process, and you would see it in the subprocess widget,\n",
    "# or via active_children() as here:\n",
    "# qc.active_children()"
   ]
  },
  {
   "cell_type": "markdown",
   "metadata": {},
   "source": [
    "### The location provider can be set globally "
   ]
  },
  {
   "cell_type": "code",
   "execution_count": 3,
   "metadata": {
    "collapsed": true
   },
   "outputs": [],
   "source": [
    "# dm = qc.data.manager.get_data_manager()\n",
    "loc_provider = qc.data.location.FormatLocation(fmt='data/{date}/#{counter}_{name}_{time}')\n",
    "qc.data.data_set.DataSet.location_provider=loc_provider"
   ]
  },
  {
   "cell_type": "markdown",
   "metadata": {},
   "source": [
    "# Running an experiment \n",
    "\n",
    "### Defining the `Loop` and actions\n",
    "\n",
    "Before you run a measurement loop you do two things:\n",
    "1. You describe what parameter(s) to vary and how. This is the creation of a `Loop` object: `loop = Loop(sweep_values, ...)`\n",
    "2. You describe what to do at each step in the loop. This is `loop.each(*actions)` which converts the `Loop` object into an `ActiveLoop` object. Actions can be:\n",
    "  - measurements (any object with a `.get` method will be interpreted as a measurement)\n",
    "  - `Task`: some callable (which can have arguments with it) to be executed each time through the loop. Does not generate data.\n",
    "  - `Wait`: a specialized `Task` just to wait a certain time.\n",
    "  - `BreakIf`: some condition that, if it returns truthy, breaks (this level of) the loop\n",
    "  - Another `ActiveLoop` to nest inside the outer one.\n",
    "\n",
    "For more details, see issue #232 docs: Write bigger picture"
   ]
  },
  {
   "cell_type": "code",
   "execution_count": 4,
   "metadata": {
    "collapsed": false
   },
   "outputs": [
    {
     "name": "stdout",
     "output_type": "stream",
     "text": [
      "DataSet:\n",
      "   mode     = DataMode.PULL_FROM_SERVER\n",
      "   location = 'data/2016-07-12/#003_testsweep_22-48-51'\n",
      "   <Type>   | <array_id>      | <array.name> | <array.shape>\n",
      "   Setpoint | gates_chan0_set | chan0        | (401,)\n",
      "   Measured | meter_amplitude | amplitude    | (401,)\n",
      "started at 2016-07-12 22:48:51\n"
     ]
    }
   ],
   "source": [
    "# Notice that one can use an explicit location and `overwrite=True` here so that\n",
    "# running this notebook over and over won't result in extra files.\n",
    "# If you leave these out, you get a new timestamped DataSet each time.\n",
    "\n",
    "# data = qc.Loop(c0.sweep(-20,20,0.1), delay=0.003).each(meter.amplitude).run(location='testsweep', overwrite=True)\n",
    "data = qc.Loop(c0.sweep(-20,20,0.1), delay=0.003).each(meter.amplitude).run(name='testsweep')\n",
    "\n",
    "# There should be two extra processes running, DataServer and a sweep \n",
    "# this should be visible in the subproces_widget or by calling qc.active_children()"
   ]
  },
  {
   "cell_type": "markdown",
   "metadata": {},
   "source": [
    "## Output of the loop\n",
    "Notice the **\"DataSet\"**.  \n",
    "A loop returns a dataset.  \n",
    "The representation of the dataset shows what arrays it contains and where it is saved.   \n",
    "The dataset initially starts out empty (filled with NAN's) and get's filled while the Loop get's executed. \n",
    "\n",
    "By calling data.sync() the copy in the notebook get's synchronized with the copy on the dataserver\n"
   ]
  },
  {
   "cell_type": "code",
   "execution_count": 5,
   "metadata": {
    "collapsed": false,
    "scrolled": true
   },
   "outputs": [
    {
     "data": {
      "text/plain": [
       "True"
      ]
     },
     "execution_count": 5,
     "metadata": {},
     "output_type": "execute_result"
    }
   ],
   "source": [
    "# manually bring the data into the main process and display it as numbers\n",
    "data.sync()\n",
    "# data.arrays  "
   ]
  },
  {
   "cell_type": "markdown",
   "metadata": {},
   "source": [
    "Once the measurement is done, take a look at the file in finder/explorer (the dataset.location should give you the relative path). \n",
    "Note also the snapshot that captures the settings of all instruments at the start of the Loop. \n",
    "\n",
    "This metadata is also accesible from the dataset and captures a snapshot of each instrument listed in the station. "
   ]
  },
  {
   "cell_type": "code",
   "execution_count": 6,
   "metadata": {
    "collapsed": false
   },
   "outputs": [
    {
     "data": {
      "text/plain": [
       "{'__class__': 'toymodel.MockMeter',\n",
       " 'functions': {},\n",
       " 'name': 'meter',\n",
       " 'parameters': {'IDN': {'__class__': 'qcodes.instrument.parameter.StandardParameter',\n",
       "   'instrument': 'toymodel.MockMeter',\n",
       "   'instrument_name': 'meter',\n",
       "   'label': 'IDN',\n",
       "   'name': 'IDN',\n",
       "   'ts': '2016-07-12 22:48:50',\n",
       "   'units': '',\n",
       "   'value': {'firmware': None, 'model': None, 'serial': None, 'vendor': None}},\n",
       "  'amplitude': {'__class__': 'qcodes.instrument.parameter.StandardParameter',\n",
       "   'instrument': 'toymodel.MockMeter',\n",
       "   'instrument_name': 'meter',\n",
       "   'label': 'Current (nA)',\n",
       "   'name': 'amplitude',\n",
       "   'ts': '2016-07-12 22:48:50',\n",
       "   'units': '',\n",
       "   'value': 0.117}}}"
      ]
     },
     "execution_count": 6,
     "metadata": {},
     "output_type": "execute_result"
    }
   ],
   "source": [
    "meter.snapshot()"
   ]
  },
  {
   "cell_type": "code",
   "execution_count": 7,
   "metadata": {
    "collapsed": false
   },
   "outputs": [],
   "source": [
    "# Commented out to keep the notebook readable, feel free to uncomment and see what comes out\n",
    "# pprint(data.metadata)"
   ]
  },
  {
   "cell_type": "markdown",
   "metadata": {},
   "source": [
    "## Plotting the loop \n",
    "Because the dataset contains all the required meta-data plotting is trivial.  \n",
    "I consider it good practice to reuse the plot monitor but that's a personal style thing. \n"
   ]
  },
  {
   "cell_type": "code",
   "execution_count": 8,
   "metadata": {
    "collapsed": false,
    "scrolled": false
   },
   "outputs": [],
   "source": [
    "# live-updating plot, that syncs the data and stops updating when it's finished\n",
    "\n",
    "# QCodes supports both matplotlib and pyqtgraph for plotting. \n",
    "# for a comparison see http://pyqtgraph.org/ (actually not that biased)\n",
    "# plot = qc.MatPlot(data.meter_amplitude)\n",
    "\n",
    "\n",
    "# I consider it good practice to instantiate the plotting monitor once \n",
    "# and then keep reusing it. \n",
    "plotQ = qc.QtPlot()\n",
    "plotQ.add(data.meter_amplitude)\n",
    "\n",
    "\n"
   ]
  },
  {
   "cell_type": "code",
   "execution_count": 9,
   "metadata": {
    "collapsed": true
   },
   "outputs": [],
   "source": [
    "# It may be that live plotting is not working on your system (see #259)\n",
    "# Below is a snippet that serves as a workaround, this will be removed upon closing #259\n",
    "\n",
    "# while data.sync():\n",
    "#     plotQ.update()\n",
    "# plotQ.update()"
   ]
  },
  {
   "cell_type": "markdown",
   "metadata": {},
   "source": [
    "## Example: multiple 2D measurements "
   ]
  },
  {
   "cell_type": "code",
   "execution_count": 10,
   "metadata": {
    "collapsed": false,
    "scrolled": false
   },
   "outputs": [
    {
     "name": "stdout",
     "output_type": "stream",
     "text": [
      "DataSet:\n",
      "   mode     = DataMode.PULL_FROM_SERVER\n",
      "   location = 'data/2016-07-12/#004_2D_test_22-48-54'\n",
      "   <Type>   | <array_id>        | <array.name> | <array.shape>\n",
      "   Setpoint | gates_chan1_set   | chan1        | (30,)\n",
      "   Setpoint | gates_chan0_set   | chan0        | (30, 54)\n",
      "   Measured | meter_amplitude_0 | amplitude    | (30, 54)\n",
      "   Measured | meter_amplitude_3 | amplitude    | (30, 54)\n",
      "started at 2016-07-12 22:48:55\n"
     ]
    }
   ],
   "source": [
    "data2 = qc.Loop(c1[-15:15:1], 0.01).loop(c0[-15:12:.5], 0.001).each(\n",
    "    meter.amplitude, # first measurement, at c2=0 -> amplitude_0 bcs it's action 0\n",
    "    qc.Task(c2.set, 1), # action 1 -> c2.set(1)\n",
    "    qc.Wait(0.001),\n",
    "    meter.amplitude, # second measurement, at c2=1 -> amplitude_4 bcs it's action 4\n",
    "    qc.Task(c2.set, 0)\n",
    "    ).run(name='2D_test')\n",
    "\n",
    "# use the subplot and add features of qc.MatPlot\n",
    "# plot2 = qc.MatPlot(data2.meter_amplitude_0, cmap=plt.cm.hot, figsize=(12, 4.5), subplots=(1, 2))\n",
    "# plot2.add(data2.meter_amplitude_3, cmap=plt.cm.hot, subplot=2)\n",
    "\n",
    "# the equivalent in QtPlot\n",
    "# by clearing the old window it can be reused\n",
    "plotQ.clear() \n",
    "plotQ.add(data2.meter_amplitude_0, figsize=(1200, 500))\n",
    "plotQ.add(data2.meter_amplitude_3, subplot=2)          "
   ]
  },
  {
   "cell_type": "markdown",
   "metadata": {},
   "source": [
    "## Example same outer loop, different inner loop "
   ]
  },
  {
   "cell_type": "code",
   "execution_count": null,
   "metadata": {
    "collapsed": false
   },
   "outputs": [
    {
     "name": "stdout",
     "output_type": "stream",
     "text": [
      "Waiting for the previous background Loop to finish...\n",
      "...done. Starting data/2016-07-12/#005_TwoD_different_inner_test_22-49-11\n",
      "DataSet:\n",
      "   mode     = DataMode.PULL_FROM_SERVER\n",
      "   location = 'data/2016-07-12/#005_TwoD_different_inner_test_22-49-11'\n",
      "   <Type>   | <array_id>          | <array.name>  | <array.shape>\n",
      "   Setpoint | gates_chan1_set     | chan1         | (30,)\n",
      "   Measured | meter_amplitude_2   | amplitude     | (30,)\n",
      "   Setpoint | gates_chan0_set     | chan0         | (30, 30)\n",
      "   Measured | meter_amplitude_3_0 | amplitude     | (30, 30)\n",
      "   Setpoint | gates_chan2_set     | chan2         | (30, 100)\n",
      "   Measured | meter_amplitude_5_0 | amplitude     | (30, 100)\n",
      "   Measured | meter_avg_amplitude | avg_amplitude | (30,)\n",
      "started at 2016-07-12 22:49:12\n"
     ]
    }
   ],
   "source": [
    "data3 = qc.Loop(c1[-15:15:1], 0.1).each(\n",
    "    qc.Task(c0.set, -10),\n",
    "    qc.Task(c2.set, 0),\n",
    "    # a 1D measurement\n",
    "    meter.amplitude,\n",
    "    # a 2D sweep, .each is actually unnecessary bcs this is the default measurement\n",
    "    qc.Loop(c0[-15:15:1], 0.001).each(meter.amplitude),\n",
    "    qc.Task(c0.set, -10),\n",
    "    # a 2D sweep with the same outer but different inner loop\n",
    "    qc.Loop(c2[-10:10:0.2], 0.001).each(meter.amplitude),\n",
    "    AverageGetter(meter.amplitude, c2[-10:10:0.2], 0.001)\n",
    ").run(name='TwoD_different_inner_test')\n",
    "\n",
    "# several plots updating simultaneously\n",
    "# plot3 = qc.MatPlot(data3.meter_amplitude_3_0, cmap=plt.cm.hot)\n",
    "# plot3b = qc.MatPlot(data3.meter_amplitude_5_0, cmap=plt.cm.hot, figsize=(12, 4.5), subplots=(1,2))\n",
    "# plot3b.add(data3.meter_avg_amplitude, subplot=2)\n",
    "plotQ.clear()\n",
    "plotQ.add(data3.meter_amplitude_3_0)\n",
    "plotQ.add(data3.meter_amplitude_5_0, cmap='viridis', subplot=2)\n",
    "plotQ.add(data3.meter_avg_amplitude, subplot=3)"
   ]
  },
  {
   "cell_type": "markdown",
   "metadata": {},
   "source": [
    "### Example 2D scan and average"
   ]
  },
  {
   "cell_type": "code",
   "execution_count": null,
   "metadata": {
    "collapsed": false,
    "scrolled": false
   },
   "outputs": [
    {
     "name": "stdout",
     "output_type": "stream",
     "text": [
      "Waiting for the previous background Loop to finish...\n"
     ]
    }
   ],
   "source": [
    "# An example of a parameter that returns several values of different dimension\n",
    "# This produces the last two arrays from data3, but only takes the data once.\n",
    "data4 = qc.Loop(c1[-15:15:1], 0.01).each(\n",
    "    AverageAndRaw(meter.amplitude, c2[-10:10:0.2], 0.001)\n",
    ").run(name='TwoD_average_test')\n",
    "\n",
    "# plot4 = qc.MatPlot(data4.meter_amplitude, cmap=plt.cm.hot, subplots=(1,2), figsize=(12, 4.5))\n",
    "# plot4.add(data4.meter_avg_amplitude, subplot=2)\n",
    "\n",
    "plotQ.clear()\n",
    "plotQ.add(data4.meter_amplitude, figsize=(1200, 500), cmap='viridis')\n",
    "plotQ.add(data4.meter_avg_amplitude, subplot=2)"
   ]
  },
  {
   "cell_type": "markdown",
   "metadata": {},
   "source": [
    "# Data analysis, loading old data "
   ]
  },
  {
   "cell_type": "markdown",
   "metadata": {},
   "source": [
    "`DataSet` objects are not intended to be instantiated directly, but\n",
    "rather through the helper functions:\n",
    "- `load_data` for existing data sets, including the data currently\n",
    "  being acquired.\n",
    "- `new_data` to make an empty data set to be populated with new\n",
    "  measurements or simulation data. `new_data` is called internally by\n",
    "  `Loop.run()` so is also generally not needed directly.\n",
    "\n",
    "If you omit `location`, or if `location` matches the data set currently\n",
    "being acquired, `load_data` and subsequent calls to `data_set.sync()`\n",
    "will pull from the `DataServer` (`DataMode.PULL_FROM_SERVER`).\n",
    "Otherwise `load_data` and `data_set.sync()` will read from disk\n",
    "(`DataMode.LOCAL`).\n",
    "\n",
    "Note that a `DataServer` is, at least for now, local to one parent\n",
    "process / notebook, so if you open a separate notebook for analysis, even\n",
    "your live data will be pulled from disk."
   ]
  },
  {
   "cell_type": "code",
   "execution_count": null,
   "metadata": {
    "collapsed": false
   },
   "outputs": [],
   "source": [
    "# Use the location of a file created earlier this session\n",
    "location = data3.location \n",
    "print(location)\n",
    "data = qc.load_data(location=location)"
   ]
  },
  {
   "cell_type": "code",
   "execution_count": null,
   "metadata": {
    "collapsed": false
   },
   "outputs": [],
   "source": [
    "data"
   ]
  },
  {
   "cell_type": "code",
   "execution_count": null,
   "metadata": {
    "collapsed": false
   },
   "outputs": [],
   "source": [
    "plotQ.clear()\n",
    "plotQ.add(data.meter_avg_amplitude)"
   ]
  }
 ],
 "metadata": {
  "kernelspec": {
   "display_name": "Python 3",
   "language": "python",
   "name": "python3"
  },
  "language_info": {
   "codemirror_mode": {
    "name": "ipython",
    "version": 3
   },
   "file_extension": ".py",
   "mimetype": "text/x-python",
   "name": "python",
   "nbconvert_exporter": "python",
   "pygments_lexer": "ipython3",
   "version": "3.5.1"
  },
  "widgets": {
   "state": {},
   "version": "1.1.1"
  }
 },
 "nbformat": 4,
 "nbformat_minor": 0
}
