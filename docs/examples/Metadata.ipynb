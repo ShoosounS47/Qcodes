{
 "cells": [
  {
   "cell_type": "code",
   "execution_count": 1,
   "metadata": {
    "collapsed": false
   },
   "outputs": [
    {
     "data": {
      "application/javascript": [
       "/*\n",
       " * Qcodes Jupyter/IPython widgets\n",
       " */\n",
       "require([\n",
       "    'nbextensions/widgets/widgets/js/widget',\n",
       "    'nbextensions/widgets/widgets/js/manager'\n",
       "], function (widget, manager) {\n",
       "\n",
       "    var UpdateView = widget.DOMWidgetView.extend({\n",
       "        render: function() {\n",
       "            window.MYWIDGET = this;\n",
       "            this._interval = 0;\n",
       "            this.update();\n",
       "        },\n",
       "        update: function() {\n",
       "            this.display(this.model.get('_message'));\n",
       "            this.setInterval();\n",
       "        },\n",
       "        display: function(message) {\n",
       "            /*\n",
       "             * display method: override this for custom display logic\n",
       "             */\n",
       "            this.el.innerHTML = message;\n",
       "        },\n",
       "        remove: function() {\n",
       "            clearInterval(this._updater);\n",
       "        },\n",
       "        setInterval: function(newInterval) {\n",
       "            var me = this;\n",
       "            if(newInterval===undefined) newInterval = me.model.get('interval');\n",
       "            if(newInterval===me._interval) return;\n",
       "\n",
       "            me._interval = newInterval;\n",
       "\n",
       "            if(me._updater) clearInterval(me._updater);\n",
       "\n",
       "            if(me._interval) {\n",
       "                me._updater = setInterval(function() {\n",
       "                    me.send({myupdate: true});\n",
       "                    if(!me.model.comm_live) {\n",
       "                        console.log('missing comm, canceling widget updates', me);\n",
       "                        clearInterval(me._updater);\n",
       "                    }\n",
       "                }, me._interval * 1000);\n",
       "            }\n",
       "        }\n",
       "    });\n",
       "    manager.WidgetManager.register_widget_view('UpdateView', UpdateView);\n",
       "\n",
       "    var HiddenUpdateView = UpdateView.extend({\n",
       "        display: function(message) {\n",
       "            this.$el.hide();\n",
       "        }\n",
       "    });\n",
       "    manager.WidgetManager.register_widget_view('HiddenUpdateView', HiddenUpdateView);\n",
       "\n",
       "    var SubprocessView = UpdateView.extend({\n",
       "        render: function() {\n",
       "            var me = window.SPVIEW = this;\n",
       "            me._interval = 0;\n",
       "            me._minimize = '<i class=\"fa-minus fa\"></i>';\n",
       "            me._restore = '<i class=\"fa-plus fa\"></i>';\n",
       "\n",
       "            // in case there is already an outputView present,\n",
       "            // like from before restarting the kernel\n",
       "            $('.qcodes-output-view').not(me.$el).remove();\n",
       "\n",
       "            me.$el\n",
       "                .addClass('qcodes-output-view')\n",
       "                .attr('qcodes-state', 'docked')\n",
       "                .html(\n",
       "                    '<div class=\"qcodes-output-header toolbar\">' +\n",
       "                        '<span></span>' +\n",
       "                        '<button class=\"btn qcodes-abort-loop disabled\">Abort</button>' +\n",
       "                        '<button class=\"btn qcodes-clear-output disabled qcodes-content\">Clear</button>' +\n",
       "                        '<button class=\"btn js-state qcodes-minimized\"><i class=\"fa-minus fa\"></i></button>' +\n",
       "                        '<button class=\"btn js-state qcodes-docked\"><i class=\"fa-toggle-up fa\"></i></button>' +\n",
       "                        '<button class=\"btn js-state qcodes-floated\"><i class=\"fa-arrows fa\"></i></button>' +\n",
       "                    '</div>' +\n",
       "                    '<pre class=\"qcodes-content\"></pre>'\n",
       "                );\n",
       "\n",
       "            me.clearButton = me.$el.find('.qcodes-clear-output');\n",
       "            me.minButton = me.$el.find('.qcodes-minimize');\n",
       "            me.outputArea = me.$el.find('pre');\n",
       "            me.subprocessList = me.$el.find('span');\n",
       "            me.abortButton = me.$el.find('.qcodes-abort-loop');\n",
       "\n",
       "            me.clearButton.click(function() {\n",
       "                me.outputArea.html('');\n",
       "                me.clearButton.addClass('disabled');\n",
       "            });\n",
       "\n",
       "            me.abortButton.click(function() {\n",
       "                me.send({abort: true});\n",
       "            });\n",
       "\n",
       "            me.$el.find('.js-state').click(function() {\n",
       "                var oldState = me.$el.attr('qcodes-state'),\n",
       "                    state = this.className.substr(this.className.indexOf('qcodes'))\n",
       "                        .split('-')[1].split(' ')[0];\n",
       "\n",
       "                // not sure why I can't pop it out of the widgetarea in render, but it seems that\n",
       "                // some other bit of code resets the parent after render if I do it there.\n",
       "                // To be safe, just do it on every state click.\n",
       "                me.$el.appendTo('body');\n",
       "\n",
       "                if(oldState === 'floated') {\n",
       "                    me.$el.draggable('destroy').css({left:'', top: ''});\n",
       "                }\n",
       "\n",
       "                me.$el.attr('qcodes-state', state);\n",
       "\n",
       "                if(state === 'floated') {\n",
       "                    me.$el.draggable().css({\n",
       "                        left: window.innerWidth - me.$el.width() - 15,\n",
       "                        top: window.innerHeight - me.$el.height() - 10\n",
       "                    });\n",
       "                }\n",
       "            });\n",
       "\n",
       "            $(window).resize(function() {\n",
       "                if(me.$el.attr('qcodes-state') === 'floated') {\n",
       "                    var position = me.$el.position(),\n",
       "                        minVis = 20,\n",
       "                        maxLeft = window.innerWidth - minVis,\n",
       "                        maxTop = window.innerHeight - minVis;\n",
       "\n",
       "                    if(position.left > maxLeft) me.$el.css('left', maxLeft);\n",
       "                    if(position.top > maxTop) me.$el.css('top', maxTop);\n",
       "                }\n",
       "            });\n",
       "\n",
       "            me.update();\n",
       "        },\n",
       "\n",
       "        display: function(message) {\n",
       "            if(message) {\n",
       "                var initialScroll = this.outputArea.scrollTop();\n",
       "                this.outputArea.scrollTop(this.outputArea.prop('scrollHeight'));\n",
       "                var scrollBottom = this.outputArea.scrollTop();\n",
       "\n",
       "                if(this.$el.attr('qcodes-state') === 'minimized') {\n",
       "                    this.$el.find('.qcodes-docked').click();\n",
       "                    // always scroll to the bottom if we're restoring\n",
       "                    // because of a new message\n",
       "                    initialScroll = scrollBottom;\n",
       "                }\n",
       "\n",
       "                this.outputArea.append(message);\n",
       "                this.clearButton.removeClass('disabled');\n",
       "\n",
       "                // if we were scrolled to the bottom initially, make sure\n",
       "                // we stay that way.\n",
       "                this.outputArea.scrollTop(initialScroll === scrollBottom ?\n",
       "                    this.outputArea.prop('scrollHeight') : initialScroll);\n",
       "            }\n",
       "\n",
       "            var processes = this.model.get('_processes') || 'No subprocesses';\n",
       "            this.abortButton.toggleClass('disabled', processes.indexOf('Measurement')===-1);\n",
       "            this.subprocessList.text(processes);\n",
       "        }\n",
       "    });\n",
       "    manager.WidgetManager.register_widget_view('SubprocessView', SubprocessView);\n",
       "});\n"
      ],
      "text/plain": [
       "<IPython.core.display.Javascript object>"
      ]
     },
     "metadata": {},
     "output_type": "display_data"
    },
    {
     "data": {
      "text/html": [
       "<style>.qcodes-output-view:not(.ui-draggable) {\n",
       "    bottom: 0;\n",
       "    right: 5px;\n",
       "}\n",
       ".qcodes-output-view {\n",
       "    position: fixed;\n",
       "    z-index: 999;\n",
       "    background-color: #fff;\n",
       "    box-shadow: 0 0 12px 1px rgba(87, 87, 87, 0.2);\n",
       "}\n",
       "\n",
       ".qcodes-output-header  {\n",
       "    float: right;\n",
       "}\n",
       "\n",
       ".qcodes-output-view span {\n",
       "    padding: 2px 6px 3px 12px;\n",
       "}\n",
       "\n",
       ".qcodes-output-view .btn {\n",
       "    margin: 0 3px 0 0;\n",
       "}\n",
       "\n",
       ".qcodes-output-view[qcodes-state=docked] .qcodes-docked,\n",
       ".qcodes-output-view[qcodes-state=floated] .qcodes-floated,\n",
       ".qcodes-output-view[qcodes-state=minimized] .qcodes-minimized,\n",
       ".qcodes-output-view[qcodes-state=minimized] .qcodes-content {\n",
       "    display: none;\n",
       "}\n",
       "\n",
       ".qcodes-output-view .disabled {\n",
       "    opacity: 0.4;\n",
       "}\n",
       "\n",
       ".qcodes-abort-loop {\n",
       "    background-color: #844;\n",
       "    color: #fff;\n",
       "}\n",
       "\n",
       ".qcodes-output-view pre {\n",
       "    clear: both;\n",
       "    margin: 0;\n",
       "    border: 0;\n",
       "    border-top: 1px solid #ccc;\n",
       "    background-color: #ffe;\n",
       "    min-height: 50px;\n",
       "    max-height: 400px;\n",
       "    min-width: 400px;\n",
       "    max-width: 1000px;\n",
       "}</style>"
      ],
      "text/plain": [
       "<IPython.core.display.HTML object>"
      ]
     },
     "metadata": {},
     "output_type": "display_data"
    }
   ],
   "source": [
    "from pprint import pprint\n",
    "import json\n",
    "import os\n",
    "\n",
    "import qcodes as qc\n",
    "\n",
    "qc.set_mp_method('spawn')  # force Windows behavior on mac\n",
    "\n",
    "qc.show_subprocess_widget()\n",
    "from toymodel import AModel, MockGates, MockSource, MockMeter, AverageGetter, AverageAndRaw\n",
    "\n",
    "model = AModel()\n",
    "gates = MockGates('gates', model=model)\n",
    "source = MockSource('source', model=model)\n",
    "meter = MockMeter('meter', model=model)\n",
    "\n",
    "station = qc.Station(gates, source, meter, meter.amplitude)\n",
    "station.set_measurement(meter.amplitude)\n",
    "c0, c1, c2, vsd = gates.chan0, gates.chan1, gates.chan2, source.amplitude\n"
   ]
  },
  {
   "cell_type": "code",
   "execution_count": 2,
   "metadata": {
    "collapsed": false
   },
   "outputs": [
    {
     "name": "stdout",
     "output_type": "stream",
     "text": [
      "{'__class__': 'qcodes.instrument.parameter.StandardParameter',\n",
      " 'instrument': 'MockSource',\n",
      " 'label': 'Source Amplitude (μV)',\n",
      " 'name': 'amplitude',\n",
      " 'ts': '2016-04-29 01:49:14',\n",
      " 'units': '',\n",
      " 'value': 0.1}\n"
     ]
    }
   ],
   "source": [
    "# Parameter snapshot\n",
    "pprint(source.amplitude.snapshot())"
   ]
  },
  {
   "cell_type": "code",
   "execution_count": 3,
   "metadata": {
    "collapsed": false
   },
   "outputs": [
    {
     "name": "stdout",
     "output_type": "stream",
     "text": [
      "{'IDN': {'firmware': None, 'model': None, 'serial': None, 'vendor': None},\n",
      " '__class__': 'toymodel.MockSource',\n",
      " 'functions': {},\n",
      " 'name': 'source',\n",
      " 'parameters': {'amplitude': {'__class__': 'qcodes.instrument.parameter.StandardParameter',\n",
      "                              'instrument': 'MockSource',\n",
      "                              'label': 'Source Amplitude (μV)',\n",
      "                              'name': 'amplitude',\n",
      "                              'ts': '2016-04-29 01:49:14',\n",
      "                              'units': '',\n",
      "                              'value': 0.1}}}\n"
     ]
    }
   ],
   "source": [
    "# Instrument snapshot\n",
    "pprint(source.snapshot())"
   ]
  },
  {
   "cell_type": "code",
   "execution_count": 4,
   "metadata": {
    "collapsed": false
   },
   "outputs": [
    {
     "name": "stdout",
     "output_type": "stream",
     "text": [
      "[{'len': 3, 'max': 3, 'min': 0, 'type': 'sequence'}]\n"
     ]
    }
   ],
   "source": [
    "# Sweep_values snapshot\n",
    "vals = c0[0,3,0.2]\n",
    "pprint(vals.snapshot())"
   ]
  },
  {
   "cell_type": "code",
   "execution_count": 5,
   "metadata": {
    "collapsed": false
   },
   "outputs": [
    {
     "name": "stdout",
     "output_type": "stream",
     "text": [
      "[{'num': None, 'start': 0, 'step': 0.2, 'stop': 3, 'type': 'sweep'}]\n"
     ]
    }
   ],
   "source": [
    "# Sweep_values snapshot\n",
    "vals = c0.sweep(0,3,0.2)\n",
    "pprint(vals.snapshot())"
   ]
  },
  {
   "cell_type": "code",
   "execution_count": 6,
   "metadata": {
    "collapsed": false
   },
   "outputs": [
    {
     "name": "stdout",
     "output_type": "stream",
     "text": [
      "DataSet: DataMode.PULL_FROM_SERVER, location='2016-04-29/01-49-14'\n",
      "   chan0: chan0\n",
      "   amplitude: amplitude\n",
      "started at 2016-04-29 01:49:15\n",
      "{'loop': {'delay': 0,\n",
      "          'values': [{'num': None,\n",
      "                      'start': 0,\n",
      "                      'step': 0.2,\n",
      "                      'stop': 1,\n",
      "                      'type': 'sweep'}]}}\n"
     ]
    }
   ],
   "source": [
    "# This is an qc.loop, here the snapshot is broken, it does not contain the data snapshot.\n",
    "lp = qc.Loop(c0.sweep(0,1,0.2),0)\n",
    "lp.run()\n",
    "pprint(lp.snapshot())"
   ]
  },
  {
   "cell_type": "code",
   "execution_count": 7,
   "metadata": {
    "collapsed": false
   },
   "outputs": [
    {
     "name": "stdout",
     "output_type": "stream",
     "text": [
      "{'data': None,\n",
      " 'loop': {'actions': [{'delay': 1, 'type': 'Wait'}],\n",
      "          'delay': 0,\n",
      "          'sweep_values': [{'num': None,\n",
      "                            'start': 0,\n",
      "                            'step': 0.2,\n",
      "                            'stop': 1,\n",
      "                            'type': 'sweep'}]}}\n"
     ]
    }
   ],
   "source": [
    "# Here the qc.loop becomes an active loop, now the snapshot includes the actions (wait)\n",
    "# and data: None\n",
    "lp = qc.Loop(c0.sweep(0,1,0.2),0).each(qc.Wait(1))\n",
    "pprint(lp.snapshot())"
   ]
  },
  {
   "cell_type": "code",
   "execution_count": 9,
   "metadata": {
    "collapsed": false
   },
   "outputs": [
    {
     "name": "stdout",
     "output_type": "stream",
     "text": [
      "DataSet: DataMode.PULL_FROM_SERVER, location='2016-04-29/01-49-34'\n",
      "   chan0: chan0\n",
      "started at 2016-04-29 01:49:34\n",
      "{'data': {'__class__': 'qcodes.data.data_set.DataSet',\n",
      "          'arrays': [{'array.name': 'chan0', 'array_id': 'chan0'}],\n",
      "          'base_location': '/Users/Merlin/Google '\n",
      "                           'Drive/git/Qcodes/docs/examples',\n",
      "          'formatter': 'qcodes.data.format.GNUPlotFormat',\n",
      "          'io': '<DiskIO, base_location=/Users/Merlin/Google '\n",
      "                'Drive/git/Qcodes/docs/examples>',\n",
      "          'location': '2016-04-29/01-49-34',\n",
      "          'mode': '<DataMode.PUSH_TO_SERVER: 2>'},\n",
      " 'loop': {'actions': [{'delay': 1, 'type': 'Wait'}],\n",
      "          'delay': 0,\n",
      "          'sweep_values': [{'num': None,\n",
      "                            'start': 0,\n",
      "                            'step': 0.2,\n",
      "                            'stop': 1,\n",
      "                            'type': 'sweep'}]}}\n"
     ]
    }
   ],
   "source": [
    "# When we run the loop, the data snap is updated\n",
    "lp.run()\n",
    "pprint(lp.snapshot())"
   ]
  },
  {
   "cell_type": "code",
   "execution_count": 10,
   "metadata": {
    "collapsed": false
   },
   "outputs": [
    {
     "name": "stdout",
     "output_type": "stream",
     "text": [
      "{'data': None,\n",
      " 'loop': {'actions': [{'__class__': 'qcodes.instrument.parameter.StandardParameter',\n",
      "                       'instrument': 'MockGates',\n",
      "                       'label': 'Gate Channel 0 (mV)',\n",
      "                       'name': 'chan0',\n",
      "                       'ts': '2016-04-29 01:49:40',\n",
      "                       'units': '',\n",
      "                       'value': 1.0},\n",
      "                      {'__class__': 'qcodes.instrument.parameter.StandardParameter',\n",
      "                       'instrument': 'MockGates',\n",
      "                       'label': 'Gate Channel 1 (mV)',\n",
      "                       'name': 'chan1',\n",
      "                       'ts': '2016-04-29 01:49:14',\n",
      "                       'units': '',\n",
      "                       'value': 0.0},\n",
      "                      {'__class__': 'qcodes.instrument.parameter.StandardParameter',\n",
      "                       'instrument': 'MockGates',\n",
      "                       'label': 'Gate Channel 2 (mV)',\n",
      "                       'name': 'chan2',\n",
      "                       'ts': '2016-04-29 01:49:14',\n",
      "                       'units': '',\n",
      "                       'value': 0.0}],\n",
      "          'delay': 0,\n",
      "          'sweep_values': [{'num': None,\n",
      "                            'start': 0,\n",
      "                            'step': 0.2,\n",
      "                            'stop': 1,\n",
      "                            'type': 'sweep'}]}}\n"
     ]
    }
   ],
   "source": [
    "# When we add more actions:\n",
    "lp = qc.Loop(c0.sweep(0,1,0.2),0).each(c0, c1, c2)\n",
    "pprint(lp.snapshot())"
   ]
  },
  {
   "cell_type": "code",
   "execution_count": 11,
   "metadata": {
    "collapsed": false
   },
   "outputs": [
    {
     "name": "stdout",
     "output_type": "stream",
     "text": [
      "{'data': None,\n",
      " 'loop': {'actions': [{'data': None,\n",
      "                       'loop': {'actions': [{'__class__': 'qcodes.instrument.parameter.StandardParameter',\n",
      "                                             'instrument': 'MockGates',\n",
      "                                             'label': 'Gate Channel 0 (mV)',\n",
      "                                             'name': 'chan0',\n",
      "                                             'ts': '2016-04-29 01:49:40',\n",
      "                                             'units': '',\n",
      "                                             'value': 1.0},\n",
      "                                            {'__class__': 'qcodes.instrument.parameter.StandardParameter',\n",
      "                                             'instrument': 'MockGates',\n",
      "                                             'label': 'Gate Channel 1 (mV)',\n",
      "                                             'name': 'chan1',\n",
      "                                             'ts': '2016-04-29 01:49:14',\n",
      "                                             'units': '',\n",
      "                                             'value': 0.0},\n",
      "                                            {'__class__': 'qcodes.instrument.parameter.StandardParameter',\n",
      "                                             'instrument': 'MockGates',\n",
      "                                             'label': 'Gate Channel 2 (mV)',\n",
      "                                             'name': 'chan2',\n",
      "                                             'ts': '2016-04-29 01:49:14',\n",
      "                                             'units': '',\n",
      "                                             'value': 0.0}],\n",
      "                                'delay': 0,\n",
      "                                'sweep_values': [{'num': None,\n",
      "                                                  'start': 0,\n",
      "                                                  'step': 0.2,\n",
      "                                                  'stop': 1,\n",
      "                                                  'type': 'sweep'}]}}],\n",
      "          'delay': 0,\n",
      "          'sweep_values': [{'num': None,\n",
      "                            'start': 0,\n",
      "                            'step': 0.2,\n",
      "                            'stop': 1,\n",
      "                            'type': 'sweep'}]}}\n"
     ]
    }
   ],
   "source": [
    "# When we add a second loop it is also just an action:\n",
    "lp = qc.Loop(c0.sweep(0,1,0.2),0).loop(c1.sweep(0,1,0.2),0).each(c0, c1, c2)\n",
    "pprint(lp.snapshot())"
   ]
  },
  {
   "cell_type": "code",
   "execution_count": 16,
   "metadata": {
    "collapsed": false
   },
   "outputs": [],
   "source": [
    "snap = lp.snapshot()\n",
    "\n",
    "file = 'snap.json'\n",
    "\n",
    "with open(file, 'w') as meta_file:\n",
    "    json.dump(snap, meta_file, sort_keys=True, indent=4, ensure_ascii=False)"
   ]
  },
  {
   "cell_type": "code",
   "execution_count": null,
   "metadata": {
    "collapsed": true
   },
   "outputs": [],
   "source": []
  }
 ],
 "metadata": {
  "kernelspec": {
   "display_name": "Python 3",
   "language": "python",
   "name": "python3"
  },
  "language_info": {
   "codemirror_mode": {
    "name": "ipython",
    "version": 3
   },
   "file_extension": ".py",
   "mimetype": "text/x-python",
   "name": "python",
   "nbconvert_exporter": "python",
   "pygments_lexer": "ipython3",
   "version": "3.5.1"
  }
 },
 "nbformat": 4,
 "nbformat_minor": 0
}
