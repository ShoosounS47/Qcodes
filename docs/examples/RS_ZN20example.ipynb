{
 "cells": [
  {
   "cell_type": "code",
   "execution_count": 137,
   "metadata": {
    "collapsed": false
   },
   "outputs": [],
   "source": [
    "import time\n",
    "import numpy as np\n",
    "from imp import reload\n",
    "\n",
    "import qcodes as qc\n",
    "\n",
    "qc.set_mp_method('spawn')  # force Windows behavior on mac\n",
    "\n",
    "# this makes a widget in the corner of the window to show and control\n",
    "# subprocesses and any output they would print to the terminal\n",
    "qc.show_subprocess_widget()"
   ]
  },
  {
   "cell_type": "code",
   "execution_count": 138,
   "metadata": {
    "collapsed": false
   },
   "outputs": [
    {
     "data": {
      "text/plain": [
       "<module 'qcodes.instrument_drivers.rohde_schwarz.ZNB20' from 'a:\\\\qcodesfolder\\\\qcodes\\\\instrument_drivers\\\\rohde_schwarz\\\\ZNB20.py'>"
      ]
     },
     "execution_count": 138,
     "metadata": {},
     "output_type": "execute_result"
    }
   ],
   "source": [
    "import qcodes.instrument_drivers\n",
    "import qcodes.instrument_drivers.rohde_schwarz.ZNB20 as vna; reload(vna)"
   ]
  },
  {
   "cell_type": "code",
   "execution_count": 139,
   "metadata": {
    "collapsed": true
   },
   "outputs": [],
   "source": [
    "v1 =vna.RohdeSchwarz_ZNB20('VNA', 'TCPIP0::172.20.3.89::inst0::INSTR')"
   ]
  },
  {
   "cell_type": "code",
   "execution_count": 146,
   "metadata": {
    "collapsed": false
   },
   "outputs": [],
   "source": [
    "v1.write('AVER:COUN 4')"
   ]
  },
  {
   "cell_type": "code",
   "execution_count": 114,
   "metadata": {
    "collapsed": true
   },
   "outputs": [],
   "source": [
    "station = qc.Station('VNA')"
   ]
  },
  {
   "cell_type": "code",
   "execution_count": 145,
   "metadata": {
    "collapsed": false
   },
   "outputs": [
    {
     "data": {
      "text/plain": [
       "2500050000"
      ]
     },
     "execution_count": 145,
     "metadata": {},
     "output_type": "execute_result"
    }
   ],
   "source": [
    "v1.set('avg',-5)\n",
    "v1.get('centFreq')"
   ]
  },
  {
   "cell_type": "code",
   "execution_count": 116,
   "metadata": {
    "collapsed": false
   },
   "outputs": [],
   "source": [
    "station.set_measurement(v1.power)"
   ]
  },
  {
   "cell_type": "code",
   "execution_count": 118,
   "metadata": {
    "collapsed": false
   },
   "outputs": [
    {
     "data": {
      "text/plain": [
       "[2]"
      ]
     },
     "execution_count": 118,
     "metadata": {},
     "output_type": "execute_result"
    }
   ],
   "source": [
    "station.measure()"
   ]
  },
  {
   "cell_type": "code",
   "execution_count": 23,
   "metadata": {
    "collapsed": false
   },
   "outputs": [
    {
     "ename": "NameError",
     "evalue": "*** error on VisaServer ***\nwhile executing query: ('ASK', 'cmd', (1, 'getTrace'), {})\n\n(<bound method InstrumentServer.handle_cmd of <qcodes.instrument.server.InstrumentServer object at 0x0000000001440358>>, (1, 'getTrace'), {})\nTraceback (most recent call last):\n  File \"a:\\qcodesfolder\\qcodes\\process\\server.py\", line 344, in _process_ask\n    response = func(*args, **kwargs)\n  File \"a:\\qcodesfolder\\qcodes\\instrument\\server.py\", line 175, in handle_cmd\n    return func(*args, **kwargs)\n  File \"a:\\qcodesfolder\\qcodes\\instrument_drivers\\rohde_schwarz\\ZNB20.py\", line 70, in getTrace\n    self.write('SENS:SWE:POIN'+points)\nNameError: name 'points' is not defined\n",
     "output_type": "error",
     "traceback": [
      "\u001b[1;31m---------------------------------------------------------------------------\u001b[0m",
      "\u001b[1;31mNameError\u001b[0m                                 Traceback (most recent call last)",
      "\u001b[1;32m<ipython-input-23-cf077049f5f0>\u001b[0m in \u001b[0;36m<module>\u001b[1;34m()\u001b[0m\n\u001b[1;32m----> 1\u001b[1;33m \u001b[0mv1\u001b[0m\u001b[1;33m.\u001b[0m\u001b[0mgetTrace\u001b[0m\u001b[1;33m(\u001b[0m\u001b[1;33m)\u001b[0m\u001b[1;33m\u001b[0m\u001b[0m\n\u001b[0m",
      "\u001b[1;32ma:\\qcodesfolder\\qcodes\\instrument\\remote.py\u001b[0m in \u001b[0;36m__call__\u001b[1;34m(self, *args, **kwargs)\u001b[0m\n\u001b[0;32m    127\u001b[0m \u001b[1;32mclass\u001b[0m \u001b[0mRemoteMethod\u001b[0m\u001b[1;33m(\u001b[0m\u001b[0mRemoteComponent\u001b[0m\u001b[1;33m)\u001b[0m\u001b[1;33m:\u001b[0m\u001b[1;33m\u001b[0m\u001b[0m\n\u001b[0;32m    128\u001b[0m     \u001b[1;32mdef\u001b[0m \u001b[0m__call__\u001b[0m\u001b[1;33m(\u001b[0m\u001b[0mself\u001b[0m\u001b[1;33m,\u001b[0m \u001b[1;33m*\u001b[0m\u001b[0margs\u001b[0m\u001b[1;33m,\u001b[0m \u001b[1;33m**\u001b[0m\u001b[0mkwargs\u001b[0m\u001b[1;33m)\u001b[0m\u001b[1;33m:\u001b[0m\u001b[1;33m\u001b[0m\u001b[0m\n\u001b[1;32m--> 129\u001b[1;33m         \u001b[1;32mreturn\u001b[0m \u001b[0mself\u001b[0m\u001b[1;33m.\u001b[0m\u001b[0m_instrument\u001b[0m\u001b[1;33m.\u001b[0m\u001b[0m_ask_server\u001b[0m\u001b[1;33m(\u001b[0m\u001b[0mself\u001b[0m\u001b[1;33m.\u001b[0m\u001b[0mname\u001b[0m\u001b[1;33m,\u001b[0m \u001b[1;33m*\u001b[0m\u001b[0margs\u001b[0m\u001b[1;33m,\u001b[0m \u001b[1;33m**\u001b[0m\u001b[0mkwargs\u001b[0m\u001b[1;33m)\u001b[0m\u001b[1;33m\u001b[0m\u001b[0m\n\u001b[0m\u001b[0;32m    130\u001b[0m \u001b[1;33m\u001b[0m\u001b[0m\n\u001b[0;32m    131\u001b[0m \u001b[1;33m\u001b[0m\u001b[0m\n",
      "\u001b[1;32ma:\\qcodesfolder\\qcodes\\instrument\\remote.py\u001b[0m in \u001b[0;36m_ask_server\u001b[1;34m(self, func_name, *args, **kwargs)\u001b[0m\n\u001b[0;32m     68\u001b[0m         \u001b[0mQuery\u001b[0m \u001b[0mthe\u001b[0m \u001b[0mserver\u001b[0m \u001b[0mcopy\u001b[0m \u001b[0mof\u001b[0m \u001b[0mthis\u001b[0m \u001b[0minstrument\u001b[0m\u001b[1;33m,\u001b[0m \u001b[0mexpecting\u001b[0m \u001b[0ma\u001b[0m \u001b[0mresponse\u001b[0m\u001b[1;33m\u001b[0m\u001b[0m\n\u001b[0;32m     69\u001b[0m         \"\"\"\n\u001b[1;32m---> 70\u001b[1;33m         \u001b[1;32mreturn\u001b[0m \u001b[0mself\u001b[0m\u001b[1;33m.\u001b[0m\u001b[0m_manager\u001b[0m\u001b[1;33m.\u001b[0m\u001b[0mask\u001b[0m\u001b[1;33m(\u001b[0m\u001b[1;34m'cmd'\u001b[0m\u001b[1;33m,\u001b[0m \u001b[0mself\u001b[0m\u001b[1;33m.\u001b[0m\u001b[0m_id\u001b[0m\u001b[1;33m,\u001b[0m \u001b[0mfunc_name\u001b[0m\u001b[1;33m,\u001b[0m \u001b[1;33m*\u001b[0m\u001b[0margs\u001b[0m\u001b[1;33m,\u001b[0m \u001b[1;33m**\u001b[0m\u001b[0mkwargs\u001b[0m\u001b[1;33m)\u001b[0m\u001b[1;33m\u001b[0m\u001b[0m\n\u001b[0m\u001b[0;32m     71\u001b[0m \u001b[1;33m\u001b[0m\u001b[0m\n\u001b[0;32m     72\u001b[0m     \u001b[1;32mdef\u001b[0m \u001b[0m_write_server\u001b[0m\u001b[1;33m(\u001b[0m\u001b[0mself\u001b[0m\u001b[1;33m,\u001b[0m \u001b[0mfunc_name\u001b[0m\u001b[1;33m,\u001b[0m \u001b[1;33m*\u001b[0m\u001b[0margs\u001b[0m\u001b[1;33m,\u001b[0m \u001b[1;33m**\u001b[0m\u001b[0mkwargs\u001b[0m\u001b[1;33m)\u001b[0m\u001b[1;33m:\u001b[0m\u001b[1;33m\u001b[0m\u001b[0m\n",
      "\u001b[1;32ma:\\qcodesfolder\\qcodes\\process\\server.py\u001b[0m in \u001b[0;36mask\u001b[1;34m(self, func_name, timeout, *args, **kwargs)\u001b[0m\n\u001b[0;32m    125\u001b[0m             \u001b[0mself\u001b[0m\u001b[1;33m.\u001b[0m\u001b[0m_query_queue\u001b[0m\u001b[1;33m.\u001b[0m\u001b[0mput\u001b[0m\u001b[1;33m(\u001b[0m\u001b[0mquery\u001b[0m\u001b[1;33m)\u001b[0m\u001b[1;33m\u001b[0m\u001b[0m\n\u001b[0;32m    126\u001b[0m \u001b[1;33m\u001b[0m\u001b[0m\n\u001b[1;32m--> 127\u001b[1;33m             \u001b[0mvalue\u001b[0m \u001b[1;33m=\u001b[0m \u001b[0mself\u001b[0m\u001b[1;33m.\u001b[0m\u001b[0m_get_response\u001b[0m\u001b[1;33m(\u001b[0m\u001b[0mtimeout\u001b[0m\u001b[1;33m=\u001b[0m\u001b[0mtimeout\u001b[0m\u001b[1;33m,\u001b[0m \u001b[0mquery\u001b[0m\u001b[1;33m=\u001b[0m\u001b[0mquery\u001b[0m\u001b[1;33m)\u001b[0m\u001b[1;33m\u001b[0m\u001b[0m\n\u001b[0m\u001b[0;32m    128\u001b[0m \u001b[1;33m\u001b[0m\u001b[0m\n\u001b[0;32m    129\u001b[0m             \u001b[1;32mwhile\u001b[0m \u001b[1;32mnot\u001b[0m \u001b[0mself\u001b[0m\u001b[1;33m.\u001b[0m\u001b[0m_response_queue\u001b[0m\u001b[1;33m.\u001b[0m\u001b[0mempty\u001b[0m\u001b[1;33m(\u001b[0m\u001b[1;33m)\u001b[0m\u001b[1;33m:\u001b[0m\u001b[1;33m\u001b[0m\u001b[0m\n",
      "\u001b[1;32ma:\\qcodesfolder\\qcodes\\process\\server.py\u001b[0m in \u001b[0;36m_get_response\u001b[1;34m(self, timeout, query)\u001b[0m\n\u001b[0;32m    146\u001b[0m             \u001b[1;32mreturn\u001b[0m \u001b[0mvalue\u001b[0m\u001b[1;33m\u001b[0m\u001b[0m\n\u001b[0;32m    147\u001b[0m \u001b[1;33m\u001b[0m\u001b[0m\n\u001b[1;32m--> 148\u001b[1;33m         \u001b[0mself\u001b[0m\u001b[1;33m.\u001b[0m\u001b[0m_handle_error\u001b[0m\u001b[1;33m(\u001b[0m\u001b[0mcode\u001b[0m\u001b[1;33m,\u001b[0m \u001b[0mvalue\u001b[0m\u001b[1;33m,\u001b[0m \u001b[0mquery\u001b[0m\u001b[1;33m)\u001b[0m\u001b[1;33m\u001b[0m\u001b[0m\n\u001b[0m\u001b[0;32m    149\u001b[0m \u001b[1;33m\u001b[0m\u001b[0m\n\u001b[0;32m    150\u001b[0m     \u001b[1;32mdef\u001b[0m \u001b[0m_handle_error\u001b[0m\u001b[1;33m(\u001b[0m\u001b[0mself\u001b[0m\u001b[1;33m,\u001b[0m \u001b[0mcode\u001b[0m\u001b[1;33m,\u001b[0m \u001b[0merror_str\u001b[0m\u001b[1;33m,\u001b[0m \u001b[0mquery\u001b[0m\u001b[1;33m=\u001b[0m\u001b[1;32mNone\u001b[0m\u001b[1;33m)\u001b[0m\u001b[1;33m:\u001b[0m\u001b[1;33m\u001b[0m\u001b[0m\n",
      "\u001b[1;32ma:\\qcodesfolder\\qcodes\\process\\server.py\u001b[0m in \u001b[0;36m_handle_error\u001b[1;34m(self, code, error_str, query)\u001b[0m\n\u001b[0;32m    165\u001b[0m             \u001b[0merr_type\u001b[0m \u001b[1;33m=\u001b[0m \u001b[0mRuntimeError\u001b[0m\u001b[1;33m\u001b[0m\u001b[0m\n\u001b[0;32m    166\u001b[0m \u001b[1;33m\u001b[0m\u001b[0m\n\u001b[1;32m--> 167\u001b[1;33m         \u001b[1;32mraise\u001b[0m \u001b[0merr_type\u001b[0m\u001b[1;33m(\u001b[0m\u001b[0merror_head\u001b[0m \u001b[1;33m+\u001b[0m \u001b[1;34m'\\n\\n'\u001b[0m \u001b[1;33m+\u001b[0m \u001b[0merror_str\u001b[0m\u001b[1;33m)\u001b[0m\u001b[1;33m\u001b[0m\u001b[0m\n\u001b[0m\u001b[0;32m    168\u001b[0m \u001b[1;33m\u001b[0m\u001b[0m\n\u001b[0;32m    169\u001b[0m     \u001b[1;32mdef\u001b[0m \u001b[0mhalt\u001b[0m\u001b[1;33m(\u001b[0m\u001b[0mself\u001b[0m\u001b[1;33m,\u001b[0m \u001b[0mtimeout\u001b[0m\u001b[1;33m=\u001b[0m\u001b[1;36m2\u001b[0m\u001b[1;33m)\u001b[0m\u001b[1;33m:\u001b[0m\u001b[1;33m\u001b[0m\u001b[0m\n",
      "\u001b[1;31mNameError\u001b[0m: *** error on VisaServer ***\nwhile executing query: ('ASK', 'cmd', (1, 'getTrace'), {})\n\n(<bound method InstrumentServer.handle_cmd of <qcodes.instrument.server.InstrumentServer object at 0x0000000001440358>>, (1, 'getTrace'), {})\nTraceback (most recent call last):\n  File \"a:\\qcodesfolder\\qcodes\\process\\server.py\", line 344, in _process_ask\n    response = func(*args, **kwargs)\n  File \"a:\\qcodesfolder\\qcodes\\instrument\\server.py\", line 175, in handle_cmd\n    return func(*args, **kwargs)\n  File \"a:\\qcodesfolder\\qcodes\\instrument_drivers\\rohde_schwarz\\ZNB20.py\", line 70, in getTrace\n    self.write('SENS:SWE:POIN'+points)\nNameError: name 'points' is not defined\n"
     ]
    }
   ],
   "source": [
    "v1.getTrace()"
   ]
  },
  {
   "cell_type": "code",
   "execution_count": 130,
   "metadata": {
    "collapsed": true
   },
   "outputs": [],
   "source": [
    "v1.write('INIT1:IMM; *WAI' )"
   ]
  },
  {
   "cell_type": "code",
   "execution_count": 129,
   "metadata": {
    "collapsed": true
   },
   "outputs": [],
   "source": [
    "v1.write('SENSe1:SWEep:POINts 5 ')"
   ]
  },
  {
   "cell_type": "code",
   "execution_count": 121,
   "metadata": {
    "collapsed": true
   },
   "outputs": [],
   "source": [
    "v1.write('INIT:CONT OFF ')"
   ]
  },
  {
   "cell_type": "code",
   "execution_count": 147,
   "metadata": {
    "collapsed": false
   },
   "outputs": [
    {
     "data": {
      "text/plain": [
       "4"
      ]
     },
     "execution_count": 147,
     "metadata": {},
     "output_type": "execute_result"
    }
   ],
   "source": [
    "v1.get('avg')"
   ]
  },
  {
   "cell_type": "code",
   "execution_count": 122,
   "metadata": {
    "collapsed": true
   },
   "outputs": [],
   "source": [
    "v1.write('AVER:CLE')"
   ]
  },
  {
   "cell_type": "code",
   "execution_count": 156,
   "metadata": {
    "collapsed": true
   },
   "outputs": [],
   "source": [
    "data_str = v1.ask('CALC:DATA? SDAT')"
   ]
  },
  {
   "cell_type": "code",
   "execution_count": 154,
   "metadata": {
    "collapsed": false
   },
   "outputs": [],
   "source": [
    "i=0\n",
    "while (i<20):\n",
    "    v1.write('INIT1:IMM; *WAI' )\n",
    "    i+=1"
   ]
  },
  {
   "cell_type": "code",
   "execution_count": 126,
   "metadata": {
    "collapsed": false
   },
   "outputs": [],
   "source": [
    "data_list = list(map(float, data_str.split(',')))"
   ]
  },
  {
   "cell_type": "code",
   "execution_count": 136,
   "metadata": {
    "collapsed": false
   },
   "outputs": [],
   "source": [
    "v1.set('avg',3)"
   ]
  },
  {
   "cell_type": "code",
   "execution_count": 157,
   "metadata": {
    "collapsed": false
   },
   "outputs": [
    {
     "data": {
      "text/plain": [
       "'0.9967593229,0.03166811632,-0.03976883021,-0.03254892426,3.515171594E-005,-0.0001013354638,0.001371747406,-0.002513081079,0.005360152205,-0.01122935928\\n'"
      ]
     },
     "execution_count": 157,
     "metadata": {},
     "output_type": "execute_result"
    }
   ],
   "source": [
    "data_str"
   ]
  },
  {
   "cell_type": "code",
   "execution_count": 127,
   "metadata": {
    "collapsed": true
   },
   "outputs": [],
   "source": [
    "data_mat = list(zip(data_list[0::2], data_list[1::2]))"
   ]
  },
  {
   "cell_type": "code",
   "execution_count": 128,
   "metadata": {
    "collapsed": false
   },
   "outputs": [
    {
     "data": {
      "text/plain": [
       "[(0.9980101936, 0.03449084933),\n",
       " (0.9641232944, -0.1213525732),\n",
       " (0.9248047657, -0.253683769),\n",
       " (0.8631088671, -0.3821524867),\n",
       " (0.7765176241, -0.5179126722),\n",
       " (0.6516295863, -0.6518508877),\n",
       " (0.4707415258, -0.7801893909),\n",
       " (0.2133278849, -0.8747052387),\n",
       " (-0.1444192816, -0.8694090008),\n",
       " (-0.6079639833, -0.6081981622),\n",
       " (-0.5259448106, 0.1256445127),\n",
       " (-0.1245919546, 0.1206358877),\n",
       " (-0.04073624121, 0.05114137597),\n",
       " (-0.01802634779, 0.01942325159),\n",
       " (-0.009734638868, 0.007374580748),\n",
       " (-0.00563669243, 0.002919718603),\n",
       " (-0.003126456651, 0.0007224661367),\n",
       " (-0.001839044218, -0.0001187855554),\n",
       " (-0.001069454326, -0.0004367482394),\n",
       " (-0.0005561144088, -0.0004629771972),\n",
       " (-0.0002541690981, -0.0004597777478),\n",
       " (-6.401986493e-05, -0.0003409592888),\n",
       " (3.314289095e-05, -0.0002256498453),\n",
       " (6.505407182e-05, -7.483131476e-05),\n",
       " (1.981642895e-05, 4.917745824e-05),\n",
       " (-0.0001010966358, 0.0001254573161),\n",
       " (-0.0002549673197, 0.0001475966549),\n",
       " (-0.0004496216418, 2.364507757e-05),\n",
       " (-0.0005684190948, -0.0001107051882),\n",
       " (-0.000609268085, -0.000457759598),\n",
       " (-0.0004745786146, -0.0007118876793),\n",
       " (-0.0001927250617, -0.001135743295),\n",
       " (0.0002692464931, -0.00115823947),\n",
       " (0.0009415248938, -0.001308145506),\n",
       " (0.001503815922, -0.0008541656798),\n",
       " (0.002215714425, -0.000509104864),\n",
       " (0.002369379375, 0.0005814649791),\n",
       " (0.002644747545, 0.001273249666),\n",
       " (0.001783403782, 0.002527987323),\n",
       " (0.001176699587, 0.003137262102),\n",
       " (-0.0007420981553, 0.003803418604),\n",
       " (-0.001842106491, 0.003490722904),\n",
       " (-0.004308626388, 0.002531092927),\n",
       " (-0.005062033302, 0.001093758973),\n",
       " (-0.006799699553, -0.0014222104),\n",
       " (-0.005695853053, -0.003867007549),\n",
       " (-0.005824153633, -0.007403055654),\n",
       " (-0.002295037816, -0.009004741417),\n",
       " (-6.201476062e-06, -0.01167807868),\n",
       " (0.005399152758, -0.01124196556)]"
      ]
     },
     "execution_count": 128,
     "metadata": {},
     "output_type": "execute_result"
    }
   ],
   "source": [
    "data_mat"
   ]
  },
  {
   "cell_type": "code",
   "execution_count": 65,
   "metadata": {
    "collapsed": false
   },
   "outputs": [
    {
     "name": "stdout",
     "output_type": "stream",
     "text": [
      "0.9964303855 0.03377940542  to  0.9970027890523714 0.033887439234905545\n",
      "0.8005660578 0.4470614809  to  0.9169351016325714 0.5092936445971352\n",
      "0.08828613099 -0.1743295848  to  0.19541045279545263 -1.1020161360185385\n",
      "0.001645582064 0.002065456146  to  0.0026408425588072596 0.8980610027115769\n",
      "-0.0001393377 -0.0002059507605  to  0.00024865781787793915 -2.16561576875015\n",
      "-0.0003994069521 -0.0002943489047  to  0.0004961523869577787 -2.5064863374653297\n",
      "0.0006753451163 0.001144215773  to  0.0013286537401792267 1.0375950970589316\n",
      "-0.0008418207931 -0.00325799023  to  0.0033649907260601725 -1.8236524874871223\n",
      "-0.0007194921009 0.005871863938  to  0.005915780167454024 1.6927207027838773\n",
      "0.005368864656 -0.01125694212  to  0.012471706121757204 -1.1257678578809165\n"
     ]
    }
   ],
   "source": [
    "traces = []\n",
    "for (re,im) in data_mat:\n",
    "    mag1 = abs(complex(re, im))\n",
    "    phase1 = phase(complex(re, im))\n",
    "    print(re,im,\" to \",mag1, phase1)\n",
    "    traces.append([mag1, phase1])\n"
   ]
  },
  {
   "cell_type": "code",
   "execution_count": 66,
   "metadata": {
    "collapsed": false
   },
   "outputs": [
    {
     "data": {
      "text/plain": [
       "(0.9964303855+0.03377940542j)"
      ]
     },
     "execution_count": 66,
     "metadata": {},
     "output_type": "execute_result"
    }
   ],
   "source": [
    "complex(0.9964303855 ,0.03377940542  )"
   ]
  },
  {
   "cell_type": "code",
   "execution_count": 67,
   "metadata": {
    "collapsed": false
   },
   "outputs": [
    {
     "data": {
      "text/plain": [
       "0.033887439234905545"
      ]
     },
     "execution_count": 67,
     "metadata": {},
     "output_type": "execute_result"
    }
   ],
   "source": [
    "phase(complex(0.9964303855 ,0.03377940542  ))"
   ]
  },
  {
   "cell_type": "code",
   "execution_count": null,
   "metadata": {
    "collapsed": true
   },
   "outputs": [],
   "source": [
    "avgnum = v1.avg\n",
    "      while (avgnum > 0):\n",
    "          v1.write('INIT')\n",
    "          v1.ask('*OPC?')"
   ]
  }
 ],
 "metadata": {
  "kernelspec": {
   "display_name": "Python 3",
   "language": "python",
   "name": "python3"
  },
  "language_info": {
   "codemirror_mode": {
    "name": "ipython",
    "version": 3
   },
   "file_extension": ".py",
   "mimetype": "text/x-python",
   "name": "python",
   "nbconvert_exporter": "python",
   "pygments_lexer": "ipython3",
   "version": "3.5.1"
  }
 },
 "nbformat": 4,
 "nbformat_minor": 0
}
