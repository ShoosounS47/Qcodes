{
 "cells": [
  {
   "cell_type": "code",
   "execution_count": 1,
   "metadata": {
    "collapsed": false
   },
   "outputs": [
    {
     "data": {
      "application/javascript": [
       "/*\n",
       " * Qcodes Jupyter/IPython widgets\n",
       " */\n",
       "require([\n",
       "    'nbextensions/widgets/widgets/js/widget',\n",
       "    'nbextensions/widgets/widgets/js/manager'\n",
       "], function (widget, manager) {\n",
       "\n",
       "    var UpdateView = widget.DOMWidgetView.extend({\n",
       "        render: function() {\n",
       "            window.MYWIDGET = this;\n",
       "            this._interval = 0;\n",
       "            this.update();\n",
       "        },\n",
       "        update: function() {\n",
       "            this.display(this.model.get('_message'));\n",
       "            this.setInterval();\n",
       "        },\n",
       "        display: function(message) {\n",
       "            /*\n",
       "             * display method: override this for custom display logic\n",
       "             */\n",
       "            this.el.innerHTML = message;\n",
       "        },\n",
       "        remove: function() {\n",
       "            clearInterval(this._updater);\n",
       "        },\n",
       "        setInterval: function(newInterval) {\n",
       "            var me = this;\n",
       "            if(newInterval===undefined) newInterval = me.model.get('interval');\n",
       "            if(newInterval===me._interval) return;\n",
       "\n",
       "            me._interval = newInterval;\n",
       "\n",
       "            if(me._updater) clearInterval(me._updater);\n",
       "\n",
       "            if(me._interval) {\n",
       "                me._updater = setInterval(function() {\n",
       "                    me.send({myupdate: true});\n",
       "                    if(!me.model.comm_live) {\n",
       "                        console.log('missing comm, canceling widget updates', me);\n",
       "                        clearInterval(me._updater);\n",
       "                    }\n",
       "                }, me._interval * 1000);\n",
       "            }\n",
       "        }\n",
       "    });\n",
       "    manager.WidgetManager.register_widget_view('UpdateView', UpdateView);\n",
       "\n",
       "    var HiddenUpdateView = UpdateView.extend({\n",
       "        display: function(message) {\n",
       "            this.$el.hide();\n",
       "        }\n",
       "    });\n",
       "    manager.WidgetManager.register_widget_view('HiddenUpdateView', HiddenUpdateView);\n",
       "\n",
       "    var SubprocessView = UpdateView.extend({\n",
       "        render: function() {\n",
       "            var me = window.SPVIEW = this;\n",
       "            me._interval = 0;\n",
       "            me._minimize = '<i class=\"fa-minus fa\"></i>';\n",
       "            me._restore = '<i class=\"fa-plus fa\"></i>';\n",
       "\n",
       "            // in case there is already an outputView present,\n",
       "            // like from before restarting the kernel\n",
       "            $('.qcodes-output-view').not(me.$el).remove();\n",
       "\n",
       "            me.$el\n",
       "                .addClass('qcodes-output-view')\n",
       "                .attr('qcodes-state', 'docked')\n",
       "                .html(\n",
       "                    '<div class=\"qcodes-output-header toolbar\">' +\n",
       "                        '<span></span>' +\n",
       "                        '<button class=\"btn qcodes-abort-loop disabled\">Abort</button>' +\n",
       "                        '<button class=\"btn qcodes-clear-output disabled qcodes-content\">Clear</button>' +\n",
       "                        '<button class=\"btn js-state qcodes-minimized\"><i class=\"fa-minus fa\"></i></button>' +\n",
       "                        '<button class=\"btn js-state qcodes-docked\"><i class=\"fa-toggle-up fa\"></i></button>' +\n",
       "                        '<button class=\"btn js-state qcodes-floated\"><i class=\"fa-arrows fa\"></i></button>' +\n",
       "                    '</div>' +\n",
       "                    '<pre class=\"qcodes-content\"></pre>'\n",
       "                );\n",
       "\n",
       "            me.clearButton = me.$el.find('.qcodes-clear-output');\n",
       "            me.minButton = me.$el.find('.qcodes-minimize');\n",
       "            me.outputArea = me.$el.find('pre');\n",
       "            me.subprocessList = me.$el.find('span');\n",
       "            me.abortButton = me.$el.find('.qcodes-abort-loop');\n",
       "\n",
       "            me.clearButton.click(function() {\n",
       "                me.outputArea.html('');\n",
       "                me.clearButton.addClass('disabled');\n",
       "            });\n",
       "\n",
       "            me.abortButton.click(function() {\n",
       "                me.send({abort: true});\n",
       "            });\n",
       "\n",
       "            me.$el.find('.js-state').click(function() {\n",
       "                var oldState = me.$el.attr('qcodes-state'),\n",
       "                    state = this.className.substr(this.className.indexOf('qcodes'))\n",
       "                        .split('-')[1].split(' ')[0];\n",
       "\n",
       "                // not sure why I can't pop it out of the widgetarea in render, but it seems that\n",
       "                // some other bit of code resets the parent after render if I do it there.\n",
       "                // To be safe, just do it on every state click.\n",
       "                me.$el.appendTo('body');\n",
       "\n",
       "                if(oldState === 'floated') {\n",
       "                    me.$el.draggable('destroy').css({left:'', top: ''});\n",
       "                }\n",
       "\n",
       "                me.$el.attr('qcodes-state', state);\n",
       "\n",
       "                if(state === 'floated') {\n",
       "                    me.$el.draggable().css({\n",
       "                        left: window.innerWidth - me.$el.width() - 15,\n",
       "                        top: window.innerHeight - me.$el.height() - 10\n",
       "                    });\n",
       "                }\n",
       "            });\n",
       "\n",
       "            $(window).resize(function() {\n",
       "                if(me.$el.attr('qcodes-state') === 'floated') {\n",
       "                    var position = me.$el.position(),\n",
       "                        minVis = 20,\n",
       "                        maxLeft = window.innerWidth - minVis,\n",
       "                        maxTop = window.innerHeight - minVis;\n",
       "\n",
       "                    if(position.left > maxLeft) me.$el.css('left', maxLeft);\n",
       "                    if(position.top > maxTop) me.$el.css('top', maxTop);\n",
       "                }\n",
       "            });\n",
       "\n",
       "            me.update();\n",
       "        },\n",
       "\n",
       "        display: function(message) {\n",
       "            if(message) {\n",
       "                var initialScroll = this.outputArea.scrollTop();\n",
       "                this.outputArea.scrollTop(this.outputArea.prop('scrollHeight'));\n",
       "                var scrollBottom = this.outputArea.scrollTop();\n",
       "\n",
       "                if(this.$el.attr('qcodes-state') === 'minimized') {\n",
       "                    this.$el.find('.qcodes-docked').click();\n",
       "                    // always scroll to the bottom if we're restoring\n",
       "                    // because of a new message\n",
       "                    initialScroll = scrollBottom;\n",
       "                }\n",
       "\n",
       "                this.outputArea.append(message);\n",
       "                this.clearButton.removeClass('disabled');\n",
       "\n",
       "                // if we were scrolled to the bottom initially, make sure\n",
       "                // we stay that way.\n",
       "                this.outputArea.scrollTop(initialScroll === scrollBottom ?\n",
       "                    this.outputArea.prop('scrollHeight') : initialScroll);\n",
       "            }\n",
       "\n",
       "            var processes = this.model.get('_processes') || 'No subprocesses';\n",
       "            this.abortButton.toggleClass('disabled', processes.indexOf('Measurement')===-1);\n",
       "            this.subprocessList.text(processes);\n",
       "        }\n",
       "    });\n",
       "    manager.WidgetManager.register_widget_view('SubprocessView', SubprocessView);\n",
       "});\n"
      ],
      "text/plain": [
       "<IPython.core.display.Javascript object>"
      ]
     },
     "metadata": {},
     "output_type": "display_data"
    },
    {
     "data": {
      "text/html": [
       "<style>.qcodes-output-view:not(.ui-draggable) {\n",
       "    bottom: 0;\n",
       "    right: 5px;\n",
       "}\n",
       ".qcodes-output-view {\n",
       "    position: fixed;\n",
       "    z-index: 999;\n",
       "    background-color: #fff;\n",
       "    box-shadow: 0 0 12px 1px rgba(87, 87, 87, 0.2);\n",
       "}\n",
       "\n",
       ".qcodes-output-header  {\n",
       "    float: right;\n",
       "}\n",
       "\n",
       ".qcodes-output-view span {\n",
       "    padding: 2px 6px 3px 12px;\n",
       "}\n",
       "\n",
       ".qcodes-output-view .btn {\n",
       "    margin: 0 3px 0 0;\n",
       "}\n",
       "\n",
       ".qcodes-output-view[qcodes-state=docked] .qcodes-docked,\n",
       ".qcodes-output-view[qcodes-state=floated] .qcodes-floated,\n",
       ".qcodes-output-view[qcodes-state=minimized] .qcodes-minimized,\n",
       ".qcodes-output-view[qcodes-state=minimized] .qcodes-content {\n",
       "    display: none;\n",
       "}\n",
       "\n",
       ".qcodes-output-view .disabled {\n",
       "    opacity: 0.4;\n",
       "}\n",
       "\n",
       ".qcodes-abort-loop {\n",
       "    background-color: #844;\n",
       "    color: #fff;\n",
       "}\n",
       "\n",
       ".qcodes-output-view pre {\n",
       "    clear: both;\n",
       "    margin: 0;\n",
       "    border: 0;\n",
       "    border-top: 1px solid #ccc;\n",
       "    background-color: #ffe;\n",
       "    min-height: 50px;\n",
       "    max-height: 400px;\n",
       "    min-width: 400px;\n",
       "    max-width: 1000px;\n",
       "}</style>"
      ],
      "text/plain": [
       "<IPython.core.display.HTML object>"
      ]
     },
     "metadata": {},
     "output_type": "display_data"
    },
    {
     "name": "stdout",
     "output_type": "stream",
     "text": [
      "pyqtgraph plotting not supported, try \"from qcodes.plots.pyqtgraph import QtPlot\" to see the full error\n"
     ]
    }
   ],
   "source": [
    "%matplotlib nbagg\n",
    "import matplotlib.pyplot as plt\n",
    "\n",
    "from imp import reload\n",
    "\n",
    "import qcodes as qc\n",
    "\n",
    "qc.set_mp_method('spawn')  # force Windows behavior on mac\n",
    "\n",
    "# this makes a widget in the corner of the window to show and control\n",
    "# subprocesses and any output they would print to the terminal\n",
    "qc.show_subprocess_widget()"
   ]
  },
  {
   "cell_type": "code",
   "execution_count": 2,
   "metadata": {
    "collapsed": false
   },
   "outputs": [
    {
     "data": {
      "text/plain": [
       "<module 'qcodes.instrument_drivers.rohde_schwarz.ZNB20' from '/Users/Natalie/Documents/Qdev/Qcodes/qcodes/instrument_drivers/rohde_schwarz/ZNB20.py'>"
      ]
     },
     "execution_count": 2,
     "metadata": {},
     "output_type": "execute_result"
    }
   ],
   "source": [
    "import qcodes.instrument_drivers\n",
    "import qcodes.instrument_drivers.rohde_schwarz.ZNB20 as vna; reload(vna)"
   ]
  },
  {
   "cell_type": "code",
   "execution_count": 4,
   "metadata": {
    "collapsed": false
   },
   "outputs": [
    {
     "ename": "AttributeError",
     "evalue": "module 'qcodes.instrument_drivers.rohde_schwarz.ZNB20' has no attribute 'RohdeSchwarz_ZNB20'",
     "output_type": "error",
     "traceback": [
      "\u001b[0;31m---------------------------------------------------------------------------\u001b[0m",
      "\u001b[0;31mAttributeError\u001b[0m                            Traceback (most recent call last)",
      "\u001b[0;32m<ipython-input-4-044bff7d96a1>\u001b[0m in \u001b[0;36m<module>\u001b[0;34m()\u001b[0m\n\u001b[0;32m----> 1\u001b[0;31m \u001b[0mv1\u001b[0m \u001b[0;34m=\u001b[0m\u001b[0mvna\u001b[0m\u001b[0;34m.\u001b[0m\u001b[0mRohdeSchwarz_ZNB20\u001b[0m\u001b[0;34m(\u001b[0m\u001b[0;34m'VNA'\u001b[0m\u001b[0;34m,\u001b[0m \u001b[0;34m'TCPIP0::172.20.3.89::inst0::INSTR'\u001b[0m\u001b[0;34m)\u001b[0m\u001b[0;34m\u001b[0m\u001b[0m\n\u001b[0m",
      "\u001b[0;31mAttributeError\u001b[0m: module 'qcodes.instrument_drivers.rohde_schwarz.ZNB20' has no attribute 'RohdeSchwarz_ZNB20'"
     ]
    }
   ],
   "source": [
    "v1 =vna.ZNB20('VNA', 'TCPIP0::172.20.3.89::inst0::INSTR')"
   ]
  },
  {
   "cell_type": "code",
   "execution_count": 114,
   "metadata": {
    "collapsed": true
   },
   "outputs": [],
   "source": [
    "station = qc.Station('VNA')"
   ]
  },
  {
   "cell_type": "code",
   "execution_count": 145,
   "metadata": {
    "collapsed": false
   },
   "outputs": [
    {
     "data": {
      "text/plain": [
       "2500050000"
      ]
     },
     "execution_count": 145,
     "metadata": {},
     "output_type": "execute_result"
    }
   ],
   "source": [
    "v1.avg(5)\n",
    "v1.avg"
   ]
  },
  {
   "cell_type": "code",
   "execution_count": 116,
   "metadata": {
    "collapsed": false
   },
   "outputs": [],
   "source": [
    "v1.start(2500050000)\n",
    "v1.stop(2500060000)"
   ]
  },
  {
   "cell_type": "code",
   "execution_count": null,
   "metadata": {
    "collapsed": true
   },
   "outputs": [],
   "source": [
    "v1.npts(100)"
   ]
  },
  {
   "cell_type": "code",
   "execution_count": 118,
   "metadata": {
    "collapsed": false
   },
   "outputs": [
    {
     "data": {
      "text/plain": [
       "[2]"
      ]
     },
     "execution_count": 118,
     "metadata": {},
     "output_type": "execute_result"
    }
   ],
   "source": [
    "station.set_measurement(v1.power)\n",
    "station.measure()"
   ]
  },
  {
   "cell_type": "code",
   "execution_count": null,
   "metadata": {
    "collapsed": true
   },
   "outputs": [],
   "source": [
    "v1.read()"
   ]
  },
  {
   "cell_type": "code",
   "execution_count": null,
   "metadata": {
    "collapsed": true
   },
   "outputs": [],
   "source": [
    "v1.getTrace(100)"
   ]
  },
  {
   "cell_type": "code",
   "execution_count": 130,
   "metadata": {
    "collapsed": true
   },
   "outputs": [],
   "source": [
    "v1.write('AVER:CLE')"
   ]
  },
  {
   "cell_type": "code",
   "execution_count": 129,
   "metadata": {
    "collapsed": true
   },
   "outputs": [],
   "source": [
    "v1.write('INIT1:IMM; *WAI' )"
   ]
  },
  {
   "cell_type": "code",
   "execution_count": 121,
   "metadata": {
    "collapsed": true
   },
   "outputs": [],
   "source": [
    "data_str = v1.ask('CALC:DATA? SDAT')"
   ]
  },
  {
   "cell_type": "code",
   "execution_count": 122,
   "metadata": {
    "collapsed": true
   },
   "outputs": [],
   "source": [
    "data_list = list(map(float, data_str.split(',')))"
   ]
  },
  {
   "cell_type": "code",
   "execution_count": 156,
   "metadata": {
    "collapsed": true
   },
   "outputs": [],
   "source": [
    "data_list"
   ]
  },
  {
   "cell_type": "code",
   "execution_count": 154,
   "metadata": {
    "collapsed": false
   },
   "outputs": [],
   "source": [
    "data_mat = list(zip(data_list[0::2], data_list[1::2]))"
   ]
  },
  {
   "cell_type": "code",
   "execution_count": 126,
   "metadata": {
    "collapsed": false
   },
   "outputs": [],
   "source": [
    "traces = []\n",
    "for (re,im) in data_mat:\n",
    "    mag1 = abs(complex(re, im))\n",
    "    phase1 = phase(complex(re, im))\n",
    "    print(re,im,\" to \",mag1, phase1)\n",
    "    traces.append([mag1, phase1])"
   ]
  },
  {
   "cell_type": "code",
   "execution_count": 136,
   "metadata": {
    "collapsed": false
   },
   "outputs": [],
   "source": [
    "v1.amplitude()"
   ]
  },
  {
   "cell_type": "code",
   "execution_count": 157,
   "metadata": {
    "collapsed": false
   },
   "outputs": [
    {
     "data": {
      "text/plain": [
       "'0.9967593229,0.03166811632,-0.03976883021,-0.03254892426,3.515171594E-005,-0.0001013354638,0.001371747406,-0.002513081079,0.005360152205,-0.01122935928\\n'"
      ]
     },
     "execution_count": 157,
     "metadata": {},
     "output_type": "execute_result"
    }
   ],
   "source": [
    "v1.write('INIT:CONT OFF ')"
   ]
  },
  {
   "cell_type": "code",
   "execution_count": 127,
   "metadata": {
    "collapsed": true
   },
   "outputs": [],
   "source": [
    "plot = qc.MatPlot(traces[:1])"
   ]
  },
  {
   "cell_type": "code",
   "execution_count": 128,
   "metadata": {
    "collapsed": false
   },
   "outputs": [
    {
     "data": {
      "text/plain": [
       "[(0.9980101936, 0.03449084933),\n",
       " (0.9641232944, -0.1213525732),\n",
       " (0.9248047657, -0.253683769),\n",
       " (0.8631088671, -0.3821524867),\n",
       " (0.7765176241, -0.5179126722),\n",
       " (0.6516295863, -0.6518508877),\n",
       " (0.4707415258, -0.7801893909),\n",
       " (0.2133278849, -0.8747052387),\n",
       " (-0.1444192816, -0.8694090008),\n",
       " (-0.6079639833, -0.6081981622),\n",
       " (-0.5259448106, 0.1256445127),\n",
       " (-0.1245919546, 0.1206358877),\n",
       " (-0.04073624121, 0.05114137597),\n",
       " (-0.01802634779, 0.01942325159),\n",
       " (-0.009734638868, 0.007374580748),\n",
       " (-0.00563669243, 0.002919718603),\n",
       " (-0.003126456651, 0.0007224661367),\n",
       " (-0.001839044218, -0.0001187855554),\n",
       " (-0.001069454326, -0.0004367482394),\n",
       " (-0.0005561144088, -0.0004629771972),\n",
       " (-0.0002541690981, -0.0004597777478),\n",
       " (-6.401986493e-05, -0.0003409592888),\n",
       " (3.314289095e-05, -0.0002256498453),\n",
       " (6.505407182e-05, -7.483131476e-05),\n",
       " (1.981642895e-05, 4.917745824e-05),\n",
       " (-0.0001010966358, 0.0001254573161),\n",
       " (-0.0002549673197, 0.0001475966549),\n",
       " (-0.0004496216418, 2.364507757e-05),\n",
       " (-0.0005684190948, -0.0001107051882),\n",
       " (-0.000609268085, -0.000457759598),\n",
       " (-0.0004745786146, -0.0007118876793),\n",
       " (-0.0001927250617, -0.001135743295),\n",
       " (0.0002692464931, -0.00115823947),\n",
       " (0.0009415248938, -0.001308145506),\n",
       " (0.001503815922, -0.0008541656798),\n",
       " (0.002215714425, -0.000509104864),\n",
       " (0.002369379375, 0.0005814649791),\n",
       " (0.002644747545, 0.001273249666),\n",
       " (0.001783403782, 0.002527987323),\n",
       " (0.001176699587, 0.003137262102),\n",
       " (-0.0007420981553, 0.003803418604),\n",
       " (-0.001842106491, 0.003490722904),\n",
       " (-0.004308626388, 0.002531092927),\n",
       " (-0.005062033302, 0.001093758973),\n",
       " (-0.006799699553, -0.0014222104),\n",
       " (-0.005695853053, -0.003867007549),\n",
       " (-0.005824153633, -0.007403055654),\n",
       " (-0.002295037816, -0.009004741417),\n",
       " (-6.201476062e-06, -0.01167807868),\n",
       " (0.005399152758, -0.01124196556)]"
      ]
     },
     "execution_count": 128,
     "metadata": {},
     "output_type": "execute_result"
    }
   ],
   "source": []
  },
  {
   "cell_type": "code",
   "execution_count": 65,
   "metadata": {
    "collapsed": false
   },
   "outputs": [
    {
     "name": "stdout",
     "output_type": "stream",
     "text": [
      "0.9964303855 0.03377940542  to  0.9970027890523714 0.033887439234905545\n",
      "0.8005660578 0.4470614809  to  0.9169351016325714 0.5092936445971352\n",
      "0.08828613099 -0.1743295848  to  0.19541045279545263 -1.1020161360185385\n",
      "0.001645582064 0.002065456146  to  0.0026408425588072596 0.8980610027115769\n",
      "-0.0001393377 -0.0002059507605  to  0.00024865781787793915 -2.16561576875015\n",
      "-0.0003994069521 -0.0002943489047  to  0.0004961523869577787 -2.5064863374653297\n",
      "0.0006753451163 0.001144215773  to  0.0013286537401792267 1.0375950970589316\n",
      "-0.0008418207931 -0.00325799023  to  0.0033649907260601725 -1.8236524874871223\n",
      "-0.0007194921009 0.005871863938  to  0.005915780167454024 1.6927207027838773\n",
      "0.005368864656 -0.01125694212  to  0.012471706121757204 -1.1257678578809165\n"
     ]
    }
   ],
   "source": []
  },
  {
   "cell_type": "code",
   "execution_count": 66,
   "metadata": {
    "collapsed": false
   },
   "outputs": [
    {
     "data": {
      "text/plain": [
       "(0.9964303855+0.03377940542j)"
      ]
     },
     "execution_count": 66,
     "metadata": {},
     "output_type": "execute_result"
    }
   ],
   "source": []
  },
  {
   "cell_type": "code",
   "execution_count": 67,
   "metadata": {
    "collapsed": false
   },
   "outputs": [
    {
     "data": {
      "text/plain": [
       "0.033887439234905545"
      ]
     },
     "execution_count": 67,
     "metadata": {},
     "output_type": "execute_result"
    }
   ],
   "source": []
  },
  {
   "cell_type": "code",
   "execution_count": null,
   "metadata": {
    "collapsed": true
   },
   "outputs": [],
   "source": []
  }
 ],
 "metadata": {
  "kernelspec": {
   "display_name": "Python 3",
   "language": "python",
   "name": "python3"
  },
  "language_info": {
   "codemirror_mode": {
    "name": "ipython",
    "version": 3
   },
   "file_extension": ".py",
   "mimetype": "text/x-python",
   "name": "python",
   "nbconvert_exporter": "python",
   "pygments_lexer": "ipython3",
   "version": "3.5.1"
  }
 },
 "nbformat": 4,
 "nbformat_minor": 0
}
