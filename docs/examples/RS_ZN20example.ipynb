{
 "cells": [
  {
   "cell_type": "code",
   "execution_count": 1,
   "metadata": {
    "collapsed": false
   },
   "outputs": [
    {
     "name": "stderr",
     "output_type": "stream",
     "text": [
      "C:\\Anaconda3\\lib\\site-packages\\IPython\\kernel\\__init__.py:13: ShimWarning: The `IPython.kernel` package has been deprecated. You should import from ipykernel or jupyter_client instead.\n",
      "  \"You should import from ipykernel or jupyter_client instead.\", ShimWarning)\n"
     ]
    },
    {
     "data": {
      "application/javascript": [
       "/*\r\n",
       " * Qcodes Jupyter/IPython widgets\r\n",
       " */\r\n",
       "require([\r\n",
       "    'nbextensions/widgets/widgets/js/widget',\r\n",
       "    'nbextensions/widgets/widgets/js/manager'\r\n",
       "], function (widget, manager) {\r\n",
       "\r\n",
       "    var UpdateView = widget.DOMWidgetView.extend({\r\n",
       "        render: function() {\r\n",
       "            window.MYWIDGET = this;\r\n",
       "            this._interval = 0;\r\n",
       "            this.update();\r\n",
       "        },\r\n",
       "        update: function() {\r\n",
       "            this.display(this.model.get('_message'));\r\n",
       "            this.setInterval();\r\n",
       "        },\r\n",
       "        display: function(message) {\r\n",
       "            /*\r\n",
       "             * display method: override this for custom display logic\r\n",
       "             */\r\n",
       "            this.el.innerHTML = message;\r\n",
       "        },\r\n",
       "        remove: function() {\r\n",
       "            clearInterval(this._updater);\r\n",
       "        },\r\n",
       "        setInterval: function(newInterval) {\r\n",
       "            var me = this;\r\n",
       "            if(newInterval===undefined) newInterval = me.model.get('interval');\r\n",
       "            if(newInterval===me._interval) return;\r\n",
       "\r\n",
       "            me._interval = newInterval;\r\n",
       "\r\n",
       "            if(me._updater) clearInterval(me._updater);\r\n",
       "\r\n",
       "            if(me._interval) {\r\n",
       "                me._updater = setInterval(function() {\r\n",
       "                    me.send({myupdate: true});\r\n",
       "                    if(!me.model.comm_live) {\r\n",
       "                        console.log('missing comm, canceling widget updates', me);\r\n",
       "                        clearInterval(me._updater);\r\n",
       "                    }\r\n",
       "                }, me._interval * 1000);\r\n",
       "            }\r\n",
       "        }\r\n",
       "    });\r\n",
       "    manager.WidgetManager.register_widget_view('UpdateView', UpdateView);\r\n",
       "\r\n",
       "    var HiddenUpdateView = UpdateView.extend({\r\n",
       "        display: function(message) {\r\n",
       "            this.$el.hide();\r\n",
       "        }\r\n",
       "    });\r\n",
       "    manager.WidgetManager.register_widget_view('HiddenUpdateView', HiddenUpdateView);\r\n",
       "\r\n",
       "    var SubprocessView = UpdateView.extend({\r\n",
       "        render: function() {\r\n",
       "            var me = window.SPVIEW = this;\r\n",
       "            me._interval = 0;\r\n",
       "            me._minimize = '<i class=\"fa-minus fa\"></i>';\r\n",
       "            me._restore = '<i class=\"fa-plus fa\"></i>';\r\n",
       "\r\n",
       "            // in case there is already an outputView present,\r\n",
       "            // like from before restarting the kernel\r\n",
       "            $('.qcodes-output-view').not(me.$el).remove();\r\n",
       "\r\n",
       "            me.$el\r\n",
       "                .addClass('qcodes-output-view')\r\n",
       "                .attr('qcodes-state', 'docked')\r\n",
       "                .html(\r\n",
       "                    '<div class=\"qcodes-output-header toolbar\">' +\r\n",
       "                        '<span></span>' +\r\n",
       "                        '<button class=\"btn qcodes-abort-loop disabled\">Abort</button>' +\r\n",
       "                        '<button class=\"btn qcodes-clear-output disabled qcodes-content\">Clear</button>' +\r\n",
       "                        '<button class=\"btn js-state qcodes-minimized\"><i class=\"fa-minus fa\"></i></button>' +\r\n",
       "                        '<button class=\"btn js-state qcodes-docked\"><i class=\"fa-toggle-up fa\"></i></button>' +\r\n",
       "                        '<button class=\"btn js-state qcodes-floated\"><i class=\"fa-arrows fa\"></i></button>' +\r\n",
       "                    '</div>' +\r\n",
       "                    '<pre class=\"qcodes-content\"></pre>'\r\n",
       "                );\r\n",
       "\r\n",
       "            me.clearButton = me.$el.find('.qcodes-clear-output');\r\n",
       "            me.minButton = me.$el.find('.qcodes-minimize');\r\n",
       "            me.outputArea = me.$el.find('pre');\r\n",
       "            me.subprocessList = me.$el.find('span');\r\n",
       "            me.abortButton = me.$el.find('.qcodes-abort-loop');\r\n",
       "\r\n",
       "            me.clearButton.click(function() {\r\n",
       "                me.outputArea.html('');\r\n",
       "                me.clearButton.addClass('disabled');\r\n",
       "            });\r\n",
       "\r\n",
       "            me.abortButton.click(function() {\r\n",
       "                me.send({abort: true});\r\n",
       "            });\r\n",
       "\r\n",
       "            me.$el.find('.js-state').click(function() {\r\n",
       "                var oldState = me.$el.attr('qcodes-state'),\r\n",
       "                    state = this.className.substr(this.className.indexOf('qcodes'))\r\n",
       "                        .split('-')[1].split(' ')[0];\r\n",
       "\r\n",
       "                // not sure why I can't pop it out of the widgetarea in render, but it seems that\r\n",
       "                // some other bit of code resets the parent after render if I do it there.\r\n",
       "                // To be safe, just do it on every state click.\r\n",
       "                me.$el.appendTo('body');\r\n",
       "\r\n",
       "                if(oldState === 'floated') {\r\n",
       "                    me.$el.draggable('destroy').css({left:'', top: ''});\r\n",
       "                }\r\n",
       "\r\n",
       "                me.$el.attr('qcodes-state', state);\r\n",
       "\r\n",
       "                if(state === 'floated') {\r\n",
       "                    me.$el.draggable().css({\r\n",
       "                        left: window.innerWidth - me.$el.width() - 15,\r\n",
       "                        top: window.innerHeight - me.$el.height() - 10\r\n",
       "                    });\r\n",
       "                }\r\n",
       "            });\r\n",
       "\r\n",
       "            $(window).resize(function() {\r\n",
       "                if(me.$el.attr('qcodes-state') === 'floated') {\r\n",
       "                    var position = me.$el.position(),\r\n",
       "                        minVis = 20,\r\n",
       "                        maxLeft = window.innerWidth - minVis,\r\n",
       "                        maxTop = window.innerHeight - minVis;\r\n",
       "\r\n",
       "                    if(position.left > maxLeft) me.$el.css('left', maxLeft);\r\n",
       "                    if(position.top > maxTop) me.$el.css('top', maxTop);\r\n",
       "                }\r\n",
       "            });\r\n",
       "\r\n",
       "            me.update();\r\n",
       "        },\r\n",
       "\r\n",
       "        display: function(message) {\r\n",
       "            if(message) {\r\n",
       "                var initialScroll = this.outputArea.scrollTop();\r\n",
       "                this.outputArea.scrollTop(this.outputArea.prop('scrollHeight'));\r\n",
       "                var scrollBottom = this.outputArea.scrollTop();\r\n",
       "\r\n",
       "                if(this.$el.attr('qcodes-state') === 'minimized') {\r\n",
       "                    this.$el.find('.qcodes-docked').click();\r\n",
       "                    // always scroll to the bottom if we're restoring\r\n",
       "                    // because of a new message\r\n",
       "                    initialScroll = scrollBottom;\r\n",
       "                }\r\n",
       "\r\n",
       "                this.outputArea.append(message);\r\n",
       "                this.clearButton.removeClass('disabled');\r\n",
       "\r\n",
       "                // if we were scrolled to the bottom initially, make sure\r\n",
       "                // we stay that way.\r\n",
       "                this.outputArea.scrollTop(initialScroll === scrollBottom ?\r\n",
       "                    this.outputArea.prop('scrollHeight') : initialScroll);\r\n",
       "            }\r\n",
       "\r\n",
       "            var processes = this.model.get('_processes') || 'No subprocesses';\r\n",
       "            this.abortButton.toggleClass('disabled', processes.indexOf('Measurement')===-1);\r\n",
       "            this.subprocessList.text(processes);\r\n",
       "        }\r\n",
       "    });\r\n",
       "    manager.WidgetManager.register_widget_view('SubprocessView', SubprocessView);\r\n",
       "});\r\n"
      ],
      "text/plain": [
       "<IPython.core.display.Javascript object>"
      ]
     },
     "metadata": {},
     "output_type": "display_data"
    },
    {
     "data": {
      "text/html": [
       "<style>.qcodes-output-view:not(.ui-draggable) {\r\n",
       "    bottom: 0;\r\n",
       "    right: 5px;\r\n",
       "}\r\n",
       ".qcodes-output-view {\r\n",
       "    position: fixed;\r\n",
       "    z-index: 999;\r\n",
       "    background-color: #fff;\r\n",
       "    box-shadow: 0 0 12px 1px rgba(87, 87, 87, 0.2);\r\n",
       "}\r\n",
       "\r\n",
       ".qcodes-output-header  {\r\n",
       "    float: right;\r\n",
       "}\r\n",
       "\r\n",
       ".qcodes-output-view span {\r\n",
       "    padding: 2px 6px 3px 12px;\r\n",
       "}\r\n",
       "\r\n",
       ".qcodes-output-view .btn {\r\n",
       "    margin: 0 3px 0 0;\r\n",
       "}\r\n",
       "\r\n",
       ".qcodes-output-view[qcodes-state=docked] .qcodes-docked,\r\n",
       ".qcodes-output-view[qcodes-state=floated] .qcodes-floated,\r\n",
       ".qcodes-output-view[qcodes-state=minimized] .qcodes-minimized,\r\n",
       ".qcodes-output-view[qcodes-state=minimized] .qcodes-content {\r\n",
       "    display: none;\r\n",
       "}\r\n",
       "\r\n",
       ".qcodes-output-view .disabled {\r\n",
       "    opacity: 0.4;\r\n",
       "}\r\n",
       "\r\n",
       ".qcodes-abort-loop {\r\n",
       "    background-color: #844;\r\n",
       "    color: #fff;\r\n",
       "}\r\n",
       "\r\n",
       ".qcodes-output-view pre {\r\n",
       "    clear: both;\r\n",
       "    margin: 0;\r\n",
       "    border: 0;\r\n",
       "    border-top: 1px solid #ccc;\r\n",
       "    background-color: #ffe;\r\n",
       "    min-height: 50px;\r\n",
       "    max-height: 400px;\r\n",
       "    min-width: 400px;\r\n",
       "    max-width: 1000px;\r\n",
       "}</style>"
      ],
      "text/plain": [
       "<IPython.core.display.HTML object>"
      ]
     },
     "metadata": {},
     "output_type": "display_data"
    }
   ],
   "source": [
    "%matplotlib nbagg\n",
    "import matplotlib.pyplot as plt\n",
    "\n",
    "from imp import reload\n",
    "\n",
    "import qcodes as qc\n",
    "\n",
    "qc.set_mp_method('spawn')  # force Windows behavior on mac\n",
    "\n",
    "# this makes a widget in the corner of the window to show and control\n",
    "# subprocesses and any output they would print to the terminal\n",
    "qc.show_subprocess_widget()"
   ]
  },
  {
   "cell_type": "code",
   "execution_count": 16,
   "metadata": {
    "collapsed": false
   },
   "outputs": [
    {
     "data": {
      "text/plain": [
       "<module 'qcodes.instrument_drivers.rohde_schwarz.ZNB20' from 'a:\\\\qcodesfolder\\\\qcodes\\\\instrument_drivers\\\\rohde_schwarz\\\\ZNB20.py'>"
      ]
     },
     "execution_count": 16,
     "metadata": {},
     "output_type": "execute_result"
    }
   ],
   "source": [
    "import qcodes.instrument_drivers\n",
    "import qcodes.instrument_drivers.rohde_schwarz.ZNB20 as vna; reload(vna)"
   ]
  },
  {
   "cell_type": "code",
   "execution_count": 17,
   "metadata": {
    "collapsed": false
   },
   "outputs": [
    {
     "name": "stdout",
     "output_type": "stream",
     "text": [
      "Connected to: Rohde-Schwarz ZNB20-2Port (serial:1311601062101551, firmware:2.10) in 0.06s\n"
     ]
    }
   ],
   "source": [
    "v1 =vna.ZNB20('VNA', 'TCPIP0::172.20.2.234::inst0::INSTR', server_name=None)"
   ]
  },
  {
   "cell_type": "code",
   "execution_count": 18,
   "metadata": {
    "collapsed": true
   },
   "outputs": [],
   "source": [
    "station = qc.Station('VNA')"
   ]
  },
  {
   "cell_type": "code",
   "execution_count": 19,
   "metadata": {
    "collapsed": false
   },
   "outputs": [
    {
     "ename": "NoCommandError",
     "evalue": "no get cmd found in Parameter trace",
     "output_type": "error",
     "traceback": [
      "\u001b[1;31m---------------------------------------------------------------------------\u001b[0m",
      "\u001b[1;31mNoCommandError\u001b[0m                            Traceback (most recent call last)",
      "\u001b[1;32m<ipython-input-19-324582f2bb83>\u001b[0m in \u001b[0;36m<module>\u001b[1;34m()\u001b[0m\n\u001b[1;32m----> 1\u001b[1;33m \u001b[0mv1\u001b[0m\u001b[1;33m.\u001b[0m\u001b[0mtrace\u001b[0m\u001b[1;33m(\u001b[0m\u001b[1;33m)\u001b[0m\u001b[1;33m\u001b[0m\u001b[0m\n\u001b[0m",
      "\u001b[1;32ma:\\qcodesfolder\\qcodes\\instrument\\parameter.py\u001b[0m in \u001b[0;36m__call__\u001b[1;34m(self, *args)\u001b[0m\n\u001b[0;32m    234\u001b[0m             \u001b[1;32melse\u001b[0m\u001b[1;33m:\u001b[0m\u001b[1;33m\u001b[0m\u001b[0m\n\u001b[0;32m    235\u001b[0m                 raise NoCommandError('no get cmd found in' +\n\u001b[1;32m--> 236\u001b[1;33m                                      ' Parameter {}'.format(self.name))\n\u001b[0m\u001b[0;32m    237\u001b[0m         \u001b[1;32melse\u001b[0m\u001b[1;33m:\u001b[0m\u001b[1;33m\u001b[0m\u001b[0m\n\u001b[0;32m    238\u001b[0m             \u001b[1;32mif\u001b[0m \u001b[0mself\u001b[0m\u001b[1;33m.\u001b[0m\u001b[0mhas_set\u001b[0m\u001b[1;33m:\u001b[0m\u001b[1;33m\u001b[0m\u001b[0m\n",
      "\u001b[1;31mNoCommandError\u001b[0m: no get cmd found in Parameter trace"
     ]
    }
   ],
   "source": [
    "v1.trace()"
   ]
  },
  {
   "cell_type": "code",
   "execution_count": 79,
   "metadata": {
    "collapsed": false
   },
   "outputs": [],
   "source": [
    "#v1.start(2500050000)\n",
    "#v1.stop(2500060000)"
   ]
  },
  {
   "cell_type": "code",
   "execution_count": 12,
   "metadata": {
    "collapsed": false
   },
   "outputs": [
    {
     "ename": "AttributeError",
     "evalue": "*** error on VisaServer ***\nwhile executing query: ('ASK', 'cmd', (0, 'set', 'npts', 100), {})\n\n(<bound method InstrumentServer.handle_cmd of <qcodes.instrument.server.InstrumentServer object at 0x0000000003E74A20>>, (0, 'set', 'npts', 100), {})\nTraceback (most recent call last):\n  File \"a:\\qcodesfolder\\qcodes\\process\\server.py\", line 344, in _process_ask\n    response = func(*args, **kwargs)\n  File \"a:\\qcodesfolder\\qcodes\\instrument\\server.py\", line 175, in handle_cmd\n    return func(*args, **kwargs)\n  File \"a:\\qcodesfolder\\qcodes\\instrument\\base.py\", line 420, in set\n    self.parameters[param_name].set(value)\n  File \"a:\\qcodesfolder\\qcodes\\instrument\\parameter.py\", line 500, in _validate_and_set\n    raise e\n  File \"a:\\qcodesfolder\\qcodes\\instrument\\parameter.py\", line 491, in _validate_and_set\n    self._set(value)\n  File \"a:\\qcodesfolder\\qcodes\\utils\\sync_async.py\", line 204, in call\n    return self.exec_function(*args)\n  File \"a:\\qcodesfolder\\qcodes\\instrument_drivers\\rohde_schwarz\\ZNB20.py\", line 133, in _set_npts\n    self.read.set_sweep(self.start(), self.stop(), val)\nAttributeError: (\"'function' object has no attribute 'set_sweep'\", 'setting VNA:npts to 100')\n",
     "output_type": "error",
     "traceback": [
      "\u001b[1;31m---------------------------------------------------------------------------\u001b[0m",
      "\u001b[1;31mAttributeError\u001b[0m                            Traceback (most recent call last)",
      "\u001b[1;32m<ipython-input-12-ae581350b2d0>\u001b[0m in \u001b[0;36m<module>\u001b[1;34m()\u001b[0m\n\u001b[1;32m----> 1\u001b[1;33m \u001b[0mv1\u001b[0m\u001b[1;33m.\u001b[0m\u001b[0mnpts\u001b[0m\u001b[1;33m(\u001b[0m\u001b[1;36m100\u001b[0m\u001b[1;33m)\u001b[0m\u001b[1;33m\u001b[0m\u001b[0m\n\u001b[0m",
      "\u001b[1;32ma:\\qcodesfolder\\qcodes\\instrument\\remote.py\u001b[0m in \u001b[0;36m__call__\u001b[1;34m(self, *args)\u001b[0m\n\u001b[0;32m    139\u001b[0m             \u001b[1;32mreturn\u001b[0m \u001b[0mself\u001b[0m\u001b[1;33m.\u001b[0m\u001b[0mget\u001b[0m\u001b[1;33m(\u001b[0m\u001b[1;33m)\u001b[0m\u001b[1;33m\u001b[0m\u001b[0m\n\u001b[0;32m    140\u001b[0m         \u001b[1;32melse\u001b[0m\u001b[1;33m:\u001b[0m\u001b[1;33m\u001b[0m\u001b[0m\n\u001b[1;32m--> 141\u001b[1;33m             \u001b[0mself\u001b[0m\u001b[1;33m.\u001b[0m\u001b[0mset\u001b[0m\u001b[1;33m(\u001b[0m\u001b[1;33m*\u001b[0m\u001b[0margs\u001b[0m\u001b[1;33m)\u001b[0m\u001b[1;33m\u001b[0m\u001b[0m\n\u001b[0m\u001b[0;32m    142\u001b[0m \u001b[1;33m\u001b[0m\u001b[0m\n\u001b[0;32m    143\u001b[0m     \u001b[1;32mdef\u001b[0m \u001b[0mget\u001b[0m\u001b[1;33m(\u001b[0m\u001b[0mself\u001b[0m\u001b[1;33m)\u001b[0m\u001b[1;33m:\u001b[0m\u001b[1;33m\u001b[0m\u001b[0m\n",
      "\u001b[1;32ma:\\qcodesfolder\\qcodes\\instrument\\remote.py\u001b[0m in \u001b[0;36mset\u001b[1;34m(self, value)\u001b[0m\n\u001b[0;32m    149\u001b[0m         \u001b[1;31m# to '_write_server' below. how do we decide, and how do we let the\u001b[0m\u001b[1;33m\u001b[0m\u001b[1;33m\u001b[0m\u001b[0m\n\u001b[0;32m    150\u001b[0m         \u001b[1;31m# user do it?\u001b[0m\u001b[1;33m\u001b[0m\u001b[1;33m\u001b[0m\u001b[0m\n\u001b[1;32m--> 151\u001b[1;33m         \u001b[0mself\u001b[0m\u001b[1;33m.\u001b[0m\u001b[0m_instrument\u001b[0m\u001b[1;33m.\u001b[0m\u001b[0m_ask_server\u001b[0m\u001b[1;33m(\u001b[0m\u001b[1;34m'set'\u001b[0m\u001b[1;33m,\u001b[0m \u001b[0mself\u001b[0m\u001b[1;33m.\u001b[0m\u001b[0mname\u001b[0m\u001b[1;33m,\u001b[0m \u001b[0mvalue\u001b[0m\u001b[1;33m)\u001b[0m\u001b[1;33m\u001b[0m\u001b[0m\n\u001b[0m\u001b[0;32m    152\u001b[0m \u001b[1;33m\u001b[0m\u001b[0m\n\u001b[0;32m    153\u001b[0m     \u001b[1;31m# manually copy over validate and __getitem__ so they execute locally\u001b[0m\u001b[1;33m\u001b[0m\u001b[1;33m\u001b[0m\u001b[0m\n",
      "\u001b[1;32ma:\\qcodesfolder\\qcodes\\instrument\\remote.py\u001b[0m in \u001b[0;36m_ask_server\u001b[1;34m(self, func_name, *args, **kwargs)\u001b[0m\n\u001b[0;32m     68\u001b[0m         \u001b[0mQuery\u001b[0m \u001b[0mthe\u001b[0m \u001b[0mserver\u001b[0m \u001b[0mcopy\u001b[0m \u001b[0mof\u001b[0m \u001b[0mthis\u001b[0m \u001b[0minstrument\u001b[0m\u001b[1;33m,\u001b[0m \u001b[0mexpecting\u001b[0m \u001b[0ma\u001b[0m \u001b[0mresponse\u001b[0m\u001b[1;33m\u001b[0m\u001b[0m\n\u001b[0;32m     69\u001b[0m         \"\"\"\n\u001b[1;32m---> 70\u001b[1;33m         \u001b[1;32mreturn\u001b[0m \u001b[0mself\u001b[0m\u001b[1;33m.\u001b[0m\u001b[0m_manager\u001b[0m\u001b[1;33m.\u001b[0m\u001b[0mask\u001b[0m\u001b[1;33m(\u001b[0m\u001b[1;34m'cmd'\u001b[0m\u001b[1;33m,\u001b[0m \u001b[0mself\u001b[0m\u001b[1;33m.\u001b[0m\u001b[0m_id\u001b[0m\u001b[1;33m,\u001b[0m \u001b[0mfunc_name\u001b[0m\u001b[1;33m,\u001b[0m \u001b[1;33m*\u001b[0m\u001b[0margs\u001b[0m\u001b[1;33m,\u001b[0m \u001b[1;33m**\u001b[0m\u001b[0mkwargs\u001b[0m\u001b[1;33m)\u001b[0m\u001b[1;33m\u001b[0m\u001b[0m\n\u001b[0m\u001b[0;32m     71\u001b[0m \u001b[1;33m\u001b[0m\u001b[0m\n\u001b[0;32m     72\u001b[0m     \u001b[1;32mdef\u001b[0m \u001b[0m_write_server\u001b[0m\u001b[1;33m(\u001b[0m\u001b[0mself\u001b[0m\u001b[1;33m,\u001b[0m \u001b[0mfunc_name\u001b[0m\u001b[1;33m,\u001b[0m \u001b[1;33m*\u001b[0m\u001b[0margs\u001b[0m\u001b[1;33m,\u001b[0m \u001b[1;33m**\u001b[0m\u001b[0mkwargs\u001b[0m\u001b[1;33m)\u001b[0m\u001b[1;33m:\u001b[0m\u001b[1;33m\u001b[0m\u001b[0m\n",
      "\u001b[1;32ma:\\qcodesfolder\\qcodes\\process\\server.py\u001b[0m in \u001b[0;36mask\u001b[1;34m(self, func_name, timeout, *args, **kwargs)\u001b[0m\n\u001b[0;32m    125\u001b[0m             \u001b[0mself\u001b[0m\u001b[1;33m.\u001b[0m\u001b[0m_query_queue\u001b[0m\u001b[1;33m.\u001b[0m\u001b[0mput\u001b[0m\u001b[1;33m(\u001b[0m\u001b[0mquery\u001b[0m\u001b[1;33m)\u001b[0m\u001b[1;33m\u001b[0m\u001b[0m\n\u001b[0;32m    126\u001b[0m \u001b[1;33m\u001b[0m\u001b[0m\n\u001b[1;32m--> 127\u001b[1;33m             \u001b[0mvalue\u001b[0m \u001b[1;33m=\u001b[0m \u001b[0mself\u001b[0m\u001b[1;33m.\u001b[0m\u001b[0m_get_response\u001b[0m\u001b[1;33m(\u001b[0m\u001b[0mtimeout\u001b[0m\u001b[1;33m=\u001b[0m\u001b[0mtimeout\u001b[0m\u001b[1;33m,\u001b[0m \u001b[0mquery\u001b[0m\u001b[1;33m=\u001b[0m\u001b[0mquery\u001b[0m\u001b[1;33m)\u001b[0m\u001b[1;33m\u001b[0m\u001b[0m\n\u001b[0m\u001b[0;32m    128\u001b[0m \u001b[1;33m\u001b[0m\u001b[0m\n\u001b[0;32m    129\u001b[0m             \u001b[1;32mwhile\u001b[0m \u001b[1;32mnot\u001b[0m \u001b[0mself\u001b[0m\u001b[1;33m.\u001b[0m\u001b[0m_response_queue\u001b[0m\u001b[1;33m.\u001b[0m\u001b[0mempty\u001b[0m\u001b[1;33m(\u001b[0m\u001b[1;33m)\u001b[0m\u001b[1;33m:\u001b[0m\u001b[1;33m\u001b[0m\u001b[0m\n",
      "\u001b[1;32ma:\\qcodesfolder\\qcodes\\process\\server.py\u001b[0m in \u001b[0;36m_get_response\u001b[1;34m(self, timeout, query)\u001b[0m\n\u001b[0;32m    146\u001b[0m             \u001b[1;32mreturn\u001b[0m \u001b[0mvalue\u001b[0m\u001b[1;33m\u001b[0m\u001b[0m\n\u001b[0;32m    147\u001b[0m \u001b[1;33m\u001b[0m\u001b[0m\n\u001b[1;32m--> 148\u001b[1;33m         \u001b[0mself\u001b[0m\u001b[1;33m.\u001b[0m\u001b[0m_handle_error\u001b[0m\u001b[1;33m(\u001b[0m\u001b[0mcode\u001b[0m\u001b[1;33m,\u001b[0m \u001b[0mvalue\u001b[0m\u001b[1;33m,\u001b[0m \u001b[0mquery\u001b[0m\u001b[1;33m)\u001b[0m\u001b[1;33m\u001b[0m\u001b[0m\n\u001b[0m\u001b[0;32m    149\u001b[0m \u001b[1;33m\u001b[0m\u001b[0m\n\u001b[0;32m    150\u001b[0m     \u001b[1;32mdef\u001b[0m \u001b[0m_handle_error\u001b[0m\u001b[1;33m(\u001b[0m\u001b[0mself\u001b[0m\u001b[1;33m,\u001b[0m \u001b[0mcode\u001b[0m\u001b[1;33m,\u001b[0m \u001b[0merror_str\u001b[0m\u001b[1;33m,\u001b[0m \u001b[0mquery\u001b[0m\u001b[1;33m=\u001b[0m\u001b[1;32mNone\u001b[0m\u001b[1;33m)\u001b[0m\u001b[1;33m:\u001b[0m\u001b[1;33m\u001b[0m\u001b[0m\n",
      "\u001b[1;32ma:\\qcodesfolder\\qcodes\\process\\server.py\u001b[0m in \u001b[0;36m_handle_error\u001b[1;34m(self, code, error_str, query)\u001b[0m\n\u001b[0;32m    165\u001b[0m             \u001b[0merr_type\u001b[0m \u001b[1;33m=\u001b[0m \u001b[0mRuntimeError\u001b[0m\u001b[1;33m\u001b[0m\u001b[0m\n\u001b[0;32m    166\u001b[0m \u001b[1;33m\u001b[0m\u001b[0m\n\u001b[1;32m--> 167\u001b[1;33m         \u001b[1;32mraise\u001b[0m \u001b[0merr_type\u001b[0m\u001b[1;33m(\u001b[0m\u001b[0merror_head\u001b[0m \u001b[1;33m+\u001b[0m \u001b[1;34m'\\n\\n'\u001b[0m \u001b[1;33m+\u001b[0m \u001b[0merror_str\u001b[0m\u001b[1;33m)\u001b[0m\u001b[1;33m\u001b[0m\u001b[0m\n\u001b[0m\u001b[0;32m    168\u001b[0m \u001b[1;33m\u001b[0m\u001b[0m\n\u001b[0;32m    169\u001b[0m     \u001b[1;32mdef\u001b[0m \u001b[0mhalt\u001b[0m\u001b[1;33m(\u001b[0m\u001b[0mself\u001b[0m\u001b[1;33m,\u001b[0m \u001b[0mtimeout\u001b[0m\u001b[1;33m=\u001b[0m\u001b[1;36m2\u001b[0m\u001b[1;33m)\u001b[0m\u001b[1;33m:\u001b[0m\u001b[1;33m\u001b[0m\u001b[0m\n",
      "\u001b[1;31mAttributeError\u001b[0m: *** error on VisaServer ***\nwhile executing query: ('ASK', 'cmd', (0, 'set', 'npts', 100), {})\n\n(<bound method InstrumentServer.handle_cmd of <qcodes.instrument.server.InstrumentServer object at 0x0000000003E74A20>>, (0, 'set', 'npts', 100), {})\nTraceback (most recent call last):\n  File \"a:\\qcodesfolder\\qcodes\\process\\server.py\", line 344, in _process_ask\n    response = func(*args, **kwargs)\n  File \"a:\\qcodesfolder\\qcodes\\instrument\\server.py\", line 175, in handle_cmd\n    return func(*args, **kwargs)\n  File \"a:\\qcodesfolder\\qcodes\\instrument\\base.py\", line 420, in set\n    self.parameters[param_name].set(value)\n  File \"a:\\qcodesfolder\\qcodes\\instrument\\parameter.py\", line 500, in _validate_and_set\n    raise e\n  File \"a:\\qcodesfolder\\qcodes\\instrument\\parameter.py\", line 491, in _validate_and_set\n    self._set(value)\n  File \"a:\\qcodesfolder\\qcodes\\utils\\sync_async.py\", line 204, in call\n    return self.exec_function(*args)\n  File \"a:\\qcodesfolder\\qcodes\\instrument_drivers\\rohde_schwarz\\ZNB20.py\", line 133, in _set_npts\n    self.read.set_sweep(self.start(), self.stop(), val)\nAttributeError: (\"'function' object has no attribute 'set_sweep'\", 'setting VNA:npts to 100')\n"
     ]
    }
   ],
   "source": [
    "v1.npts(100)"
   ]
  },
  {
   "cell_type": "code",
   "execution_count": 118,
   "metadata": {
    "collapsed": false
   },
   "outputs": [
    {
     "data": {
      "text/plain": [
       "[2]"
      ]
     },
     "execution_count": 118,
     "metadata": {},
     "output_type": "execute_result"
    }
   ],
   "source": [
    "station.set_measurement(v1.power)\n",
    "station.measure()"
   ]
  },
  {
   "cell_type": "code",
   "execution_count": null,
   "metadata": {
    "collapsed": true
   },
   "outputs": [],
   "source": [
    "v1.read()"
   ]
  },
  {
   "cell_type": "code",
   "execution_count": null,
   "metadata": {
    "collapsed": true
   },
   "outputs": [],
   "source": [
    "v1.getTrace(100)"
   ]
  },
  {
   "cell_type": "code",
   "execution_count": 130,
   "metadata": {
    "collapsed": true
   },
   "outputs": [],
   "source": [
    "v1.write('AVER:CLE')"
   ]
  },
  {
   "cell_type": "code",
   "execution_count": 129,
   "metadata": {
    "collapsed": true
   },
   "outputs": [],
   "source": [
    "v1.write('INIT1:IMM; *WAI' )"
   ]
  },
  {
   "cell_type": "code",
   "execution_count": 121,
   "metadata": {
    "collapsed": true
   },
   "outputs": [],
   "source": [
    "data_str = v1.ask('CALC:DATA? SDAT')"
   ]
  },
  {
   "cell_type": "code",
   "execution_count": 122,
   "metadata": {
    "collapsed": true
   },
   "outputs": [],
   "source": [
    "data_list = list(map(float, data_str.split(',')))"
   ]
  },
  {
   "cell_type": "code",
   "execution_count": 156,
   "metadata": {
    "collapsed": true
   },
   "outputs": [],
   "source": [
    "data_list"
   ]
  },
  {
   "cell_type": "code",
   "execution_count": 154,
   "metadata": {
    "collapsed": false
   },
   "outputs": [],
   "source": [
    "data_mat = list(zip(data_list[0::2], data_list[1::2]))"
   ]
  },
  {
   "cell_type": "code",
   "execution_count": 126,
   "metadata": {
    "collapsed": false
   },
   "outputs": [],
   "source": [
    "traces = []\n",
    "for (re,im) in data_mat:\n",
    "    mag1 = abs(complex(re, im))\n",
    "    phase1 = phase(complex(re, im))\n",
    "    print(re,im,\" to \",mag1, phase1)\n",
    "    traces.append([mag1, phase1])"
   ]
  },
  {
   "cell_type": "code",
   "execution_count": 136,
   "metadata": {
    "collapsed": false
   },
   "outputs": [],
   "source": [
    "v1.amplitude()"
   ]
  },
  {
   "cell_type": "code",
   "execution_count": 157,
   "metadata": {
    "collapsed": false
   },
   "outputs": [
    {
     "data": {
      "text/plain": [
       "'0.9967593229,0.03166811632,-0.03976883021,-0.03254892426,3.515171594E-005,-0.0001013354638,0.001371747406,-0.002513081079,0.005360152205,-0.01122935928\\n'"
      ]
     },
     "execution_count": 157,
     "metadata": {},
     "output_type": "execute_result"
    }
   ],
   "source": [
    "v1.write('INIT:CONT OFF ')"
   ]
  },
  {
   "cell_type": "code",
   "execution_count": 127,
   "metadata": {
    "collapsed": true
   },
   "outputs": [],
   "source": [
    "plot = qc.MatPlot(traces[:1])"
   ]
  },
  {
   "cell_type": "code",
   "execution_count": 128,
   "metadata": {
    "collapsed": false
   },
   "outputs": [
    {
     "data": {
      "text/plain": [
       "[(0.9980101936, 0.03449084933),\n",
       " (0.9641232944, -0.1213525732),\n",
       " (0.9248047657, -0.253683769),\n",
       " (0.8631088671, -0.3821524867),\n",
       " (0.7765176241, -0.5179126722),\n",
       " (0.6516295863, -0.6518508877),\n",
       " (0.4707415258, -0.7801893909),\n",
       " (0.2133278849, -0.8747052387),\n",
       " (-0.1444192816, -0.8694090008),\n",
       " (-0.6079639833, -0.6081981622),\n",
       " (-0.5259448106, 0.1256445127),\n",
       " (-0.1245919546, 0.1206358877),\n",
       " (-0.04073624121, 0.05114137597),\n",
       " (-0.01802634779, 0.01942325159),\n",
       " (-0.009734638868, 0.007374580748),\n",
       " (-0.00563669243, 0.002919718603),\n",
       " (-0.003126456651, 0.0007224661367),\n",
       " (-0.001839044218, -0.0001187855554),\n",
       " (-0.001069454326, -0.0004367482394),\n",
       " (-0.0005561144088, -0.0004629771972),\n",
       " (-0.0002541690981, -0.0004597777478),\n",
       " (-6.401986493e-05, -0.0003409592888),\n",
       " (3.314289095e-05, -0.0002256498453),\n",
       " (6.505407182e-05, -7.483131476e-05),\n",
       " (1.981642895e-05, 4.917745824e-05),\n",
       " (-0.0001010966358, 0.0001254573161),\n",
       " (-0.0002549673197, 0.0001475966549),\n",
       " (-0.0004496216418, 2.364507757e-05),\n",
       " (-0.0005684190948, -0.0001107051882),\n",
       " (-0.000609268085, -0.000457759598),\n",
       " (-0.0004745786146, -0.0007118876793),\n",
       " (-0.0001927250617, -0.001135743295),\n",
       " (0.0002692464931, -0.00115823947),\n",
       " (0.0009415248938, -0.001308145506),\n",
       " (0.001503815922, -0.0008541656798),\n",
       " (0.002215714425, -0.000509104864),\n",
       " (0.002369379375, 0.0005814649791),\n",
       " (0.002644747545, 0.001273249666),\n",
       " (0.001783403782, 0.002527987323),\n",
       " (0.001176699587, 0.003137262102),\n",
       " (-0.0007420981553, 0.003803418604),\n",
       " (-0.001842106491, 0.003490722904),\n",
       " (-0.004308626388, 0.002531092927),\n",
       " (-0.005062033302, 0.001093758973),\n",
       " (-0.006799699553, -0.0014222104),\n",
       " (-0.005695853053, -0.003867007549),\n",
       " (-0.005824153633, -0.007403055654),\n",
       " (-0.002295037816, -0.009004741417),\n",
       " (-6.201476062e-06, -0.01167807868),\n",
       " (0.005399152758, -0.01124196556)]"
      ]
     },
     "execution_count": 128,
     "metadata": {},
     "output_type": "execute_result"
    }
   ],
   "source": []
  },
  {
   "cell_type": "code",
   "execution_count": 65,
   "metadata": {
    "collapsed": false
   },
   "outputs": [
    {
     "name": "stdout",
     "output_type": "stream",
     "text": [
      "0.9964303855 0.03377940542  to  0.9970027890523714 0.033887439234905545\n",
      "0.8005660578 0.4470614809  to  0.9169351016325714 0.5092936445971352\n",
      "0.08828613099 -0.1743295848  to  0.19541045279545263 -1.1020161360185385\n",
      "0.001645582064 0.002065456146  to  0.0026408425588072596 0.8980610027115769\n",
      "-0.0001393377 -0.0002059507605  to  0.00024865781787793915 -2.16561576875015\n",
      "-0.0003994069521 -0.0002943489047  to  0.0004961523869577787 -2.5064863374653297\n",
      "0.0006753451163 0.001144215773  to  0.0013286537401792267 1.0375950970589316\n",
      "-0.0008418207931 -0.00325799023  to  0.0033649907260601725 -1.8236524874871223\n",
      "-0.0007194921009 0.005871863938  to  0.005915780167454024 1.6927207027838773\n",
      "0.005368864656 -0.01125694212  to  0.012471706121757204 -1.1257678578809165\n"
     ]
    }
   ],
   "source": []
  },
  {
   "cell_type": "code",
   "execution_count": 66,
   "metadata": {
    "collapsed": false
   },
   "outputs": [
    {
     "data": {
      "text/plain": [
       "(0.9964303855+0.03377940542j)"
      ]
     },
     "execution_count": 66,
     "metadata": {},
     "output_type": "execute_result"
    }
   ],
   "source": []
  },
  {
   "cell_type": "code",
   "execution_count": 67,
   "metadata": {
    "collapsed": false
   },
   "outputs": [
    {
     "data": {
      "text/plain": [
       "0.033887439234905545"
      ]
     },
     "execution_count": 67,
     "metadata": {},
     "output_type": "execute_result"
    }
   ],
   "source": []
  },
  {
   "cell_type": "code",
   "execution_count": null,
   "metadata": {
    "collapsed": true
   },
   "outputs": [],
   "source": []
  }
 ],
 "metadata": {
  "kernelspec": {
   "display_name": "Python 3",
   "language": "python",
   "name": "python3"
  },
  "language_info": {
   "codemirror_mode": {
    "name": "ipython",
    "version": 3
   },
   "file_extension": ".py",
   "mimetype": "text/x-python",
   "name": "python",
   "nbconvert_exporter": "python",
   "pygments_lexer": "ipython3",
   "version": "3.5.1"
  }
 },
 "nbformat": 4,
 "nbformat_minor": 0
}
