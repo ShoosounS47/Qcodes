{
 "cells": [
  {
   "cell_type": "code",
   "execution_count": 1,
   "metadata": {
    "collapsed": false
   },
   "outputs": [
    {
     "data": {
      "application/javascript": [
       "/*\n",
       " * Qcodes Jupyter/IPython widgets\n",
       " */\n",
       "require([\n",
       "    'nbextensions/widgets/widgets/js/widget',\n",
       "    'nbextensions/widgets/widgets/js/manager'\n",
       "], function (widget, manager) {\n",
       "\n",
       "    var UpdateView = widget.DOMWidgetView.extend({\n",
       "        render: function() {\n",
       "            window.MYWIDGET = this;\n",
       "            this._interval = 0;\n",
       "            this.update();\n",
       "        },\n",
       "        update: function() {\n",
       "            this.display(this.model.get('_message'));\n",
       "            this.setInterval();\n",
       "        },\n",
       "        display: function(message) {\n",
       "            /*\n",
       "             * display method: override this for custom display logic\n",
       "             */\n",
       "            this.el.innerHTML = message;\n",
       "        },\n",
       "        remove: function() {\n",
       "            clearInterval(this._updater);\n",
       "        },\n",
       "        setInterval: function(newInterval) {\n",
       "            var me = this;\n",
       "            if(newInterval===undefined) newInterval = me.model.get('interval');\n",
       "            if(newInterval===me._interval) return;\n",
       "\n",
       "            me._interval = newInterval;\n",
       "\n",
       "            if(me._updater) clearInterval(me._updater);\n",
       "\n",
       "            if(me._interval) {\n",
       "                me._updater = setInterval(function() {\n",
       "                    me.send({myupdate: true});\n",
       "                    if(!me.model.comm_live) {\n",
       "                        console.log('missing comm, canceling widget updates', me);\n",
       "                        clearInterval(me._updater);\n",
       "                    }\n",
       "                }, me._interval * 1000);\n",
       "            }\n",
       "        }\n",
       "    });\n",
       "    manager.WidgetManager.register_widget_view('UpdateView', UpdateView);\n",
       "\n",
       "    var HiddenUpdateView = UpdateView.extend({\n",
       "        display: function(message) {\n",
       "            this.$el.hide();\n",
       "        }\n",
       "    });\n",
       "    manager.WidgetManager.register_widget_view('HiddenUpdateView', HiddenUpdateView);\n",
       "\n",
       "    var SubprocessView = UpdateView.extend({\n",
       "        render: function() {\n",
       "            var me = window.SPVIEW = this;\n",
       "            me._interval = 0;\n",
       "            me._minimize = '<i class=\"fa-minus fa\"></i>';\n",
       "            me._restore = '<i class=\"fa-plus fa\"></i>';\n",
       "\n",
       "            // in case there is already an outputView present,\n",
       "            // like from before restarting the kernel\n",
       "            $('.qcodes-output-view').not(me.$el).remove();\n",
       "\n",
       "            me.$el\n",
       "                .addClass('qcodes-output-view')\n",
       "                .attr('qcodes-state', 'docked')\n",
       "                .html(\n",
       "                    '<div class=\"qcodes-output-header toolbar\">' +\n",
       "                        '<span></span>' +\n",
       "                        '<button class=\"btn qcodes-abort-loop disabled\">Abort</button>' +\n",
       "                        '<button class=\"btn qcodes-clear-output disabled qcodes-content\">Clear</button>' +\n",
       "                        '<button class=\"btn js-state qcodes-minimized\"><i class=\"fa-minus fa\"></i></button>' +\n",
       "                        '<button class=\"btn js-state qcodes-docked\"><i class=\"fa-toggle-up fa\"></i></button>' +\n",
       "                        '<button class=\"btn js-state qcodes-floated\"><i class=\"fa-arrows fa\"></i></button>' +\n",
       "                    '</div>' +\n",
       "                    '<pre class=\"qcodes-content\"></pre>'\n",
       "                );\n",
       "\n",
       "            me.clearButton = me.$el.find('.qcodes-clear-output');\n",
       "            me.minButton = me.$el.find('.qcodes-minimize');\n",
       "            me.outputArea = me.$el.find('pre');\n",
       "            me.subprocessList = me.$el.find('span');\n",
       "            me.abortButton = me.$el.find('.qcodes-abort-loop');\n",
       "\n",
       "            me.clearButton.click(function() {\n",
       "                me.outputArea.html('');\n",
       "                me.clearButton.addClass('disabled');\n",
       "            });\n",
       "\n",
       "            me.abortButton.click(function() {\n",
       "                me.send({abort: true});\n",
       "            });\n",
       "\n",
       "            me.$el.find('.js-state').click(function() {\n",
       "                var oldState = me.$el.attr('qcodes-state'),\n",
       "                    state = this.className.substr(this.className.indexOf('qcodes'))\n",
       "                        .split('-')[1].split(' ')[0];\n",
       "\n",
       "                // not sure why I can't pop it out of the widgetarea in render, but it seems that\n",
       "                // some other bit of code resets the parent after render if I do it there.\n",
       "                // To be safe, just do it on every state click.\n",
       "                me.$el.appendTo('body');\n",
       "\n",
       "                if(oldState === 'floated') {\n",
       "                    me.$el.draggable('destroy').css({left:'', top: ''});\n",
       "                }\n",
       "\n",
       "                me.$el.attr('qcodes-state', state);\n",
       "\n",
       "                if(state === 'floated') {\n",
       "                    me.$el.draggable().css({\n",
       "                        left: window.innerWidth - me.$el.width() - 15,\n",
       "                        top: window.innerHeight - me.$el.height() - 10\n",
       "                    });\n",
       "                }\n",
       "            });\n",
       "\n",
       "            $(window).resize(function() {\n",
       "                if(me.$el.attr('qcodes-state') === 'floated') {\n",
       "                    var position = me.$el.position(),\n",
       "                        minVis = 20,\n",
       "                        maxLeft = window.innerWidth - minVis,\n",
       "                        maxTop = window.innerHeight - minVis;\n",
       "\n",
       "                    if(position.left > maxLeft) me.$el.css('left', maxLeft);\n",
       "                    if(position.top > maxTop) me.$el.css('top', maxTop);\n",
       "                }\n",
       "            });\n",
       "\n",
       "            me.update();\n",
       "        },\n",
       "\n",
       "        display: function(message) {\n",
       "            if(message) {\n",
       "                var initialScroll = this.outputArea.scrollTop();\n",
       "                this.outputArea.scrollTop(this.outputArea.prop('scrollHeight'));\n",
       "                var scrollBottom = this.outputArea.scrollTop();\n",
       "\n",
       "                if(this.$el.attr('qcodes-state') === 'minimized') {\n",
       "                    this.$el.find('.qcodes-docked').click();\n",
       "                    // always scroll to the bottom if we're restoring\n",
       "                    // because of a new message\n",
       "                    initialScroll = scrollBottom;\n",
       "                }\n",
       "\n",
       "                this.outputArea.append(message);\n",
       "                this.clearButton.removeClass('disabled');\n",
       "\n",
       "                // if we were scrolled to the bottom initially, make sure\n",
       "                // we stay that way.\n",
       "                this.outputArea.scrollTop(initialScroll === scrollBottom ?\n",
       "                    this.outputArea.prop('scrollHeight') : initialScroll);\n",
       "            }\n",
       "\n",
       "            var processes = this.model.get('_processes') || 'No subprocesses';\n",
       "            this.abortButton.toggleClass('disabled', processes.indexOf('Measurement')===-1);\n",
       "            this.subprocessList.text(processes);\n",
       "        }\n",
       "    });\n",
       "    manager.WidgetManager.register_widget_view('SubprocessView', SubprocessView);\n",
       "});\n"
      ],
      "text/plain": [
       "<IPython.core.display.Javascript object>"
      ]
     },
     "metadata": {},
     "output_type": "display_data"
    },
    {
     "data": {
      "text/html": [
       "<style>.qcodes-output-view:not(.ui-draggable) {\n",
       "    bottom: 0;\n",
       "    right: 5px;\n",
       "}\n",
       ".qcodes-output-view {\n",
       "    position: fixed;\n",
       "    z-index: 999;\n",
       "    background-color: #fff;\n",
       "    box-shadow: 0 0 12px 1px rgba(87, 87, 87, 0.2);\n",
       "}\n",
       "\n",
       ".qcodes-output-header  {\n",
       "    float: right;\n",
       "}\n",
       "\n",
       ".qcodes-output-view span {\n",
       "    padding: 2px 6px 3px 12px;\n",
       "}\n",
       "\n",
       ".qcodes-output-view .btn {\n",
       "    margin: 0 3px 0 0;\n",
       "}\n",
       "\n",
       ".qcodes-output-view[qcodes-state=docked] .qcodes-docked,\n",
       ".qcodes-output-view[qcodes-state=floated] .qcodes-floated,\n",
       ".qcodes-output-view[qcodes-state=minimized] .qcodes-minimized,\n",
       ".qcodes-output-view[qcodes-state=minimized] .qcodes-content {\n",
       "    display: none;\n",
       "}\n",
       "\n",
       ".qcodes-output-view .disabled {\n",
       "    opacity: 0.4;\n",
       "}\n",
       "\n",
       ".qcodes-abort-loop {\n",
       "    background-color: #844;\n",
       "    color: #fff;\n",
       "}\n",
       "\n",
       ".qcodes-output-view pre {\n",
       "    clear: both;\n",
       "    margin: 0;\n",
       "    border: 0;\n",
       "    border-top: 1px solid #ccc;\n",
       "    background-color: #ffe;\n",
       "    min-height: 50px;\n",
       "    max-height: 400px;\n",
       "    min-width: 400px;\n",
       "    max-width: 1000px;\n",
       "}</style>"
      ],
      "text/plain": [
       "<IPython.core.display.HTML object>"
      ]
     },
     "metadata": {},
     "output_type": "display_data"
    },
    {
     "name": "stdout",
     "output_type": "stream",
     "text": [
      "pyqtgraph plotting not supported, try \"from qcodes.plots.pyqtgraph import QtPlot\" to see the full error\n"
     ]
    },
    {
     "data": {
      "text/plain": [
       "DataSet: DataMode.LOCAL, location='testsweep',\n",
       "   chan0: None\n",
       "   amplitude: None\n",
       "io: <DiskIO, base_location=/Users/Adriaan/GitHubRepos/DiCarloLab_Repositories/Qcodes/docs/examples>\n",
       "datamode: DataMode.LOCAL"
      ]
     },
     "execution_count": 1,
     "metadata": {},
     "output_type": "execute_result"
    }
   ],
   "source": [
    "%matplotlib nbagg\n",
    "from importlib import reload\n",
    "import qcodes as qc\n",
    "data = qc.load_data('testsweep')\n",
    "data"
   ]
  },
  {
   "cell_type": "code",
   "execution_count": 2,
   "metadata": {
    "collapsed": false
   },
   "outputs": [
    {
     "data": {
      "text/plain": [
       "'/Users/Adriaan/GitHubRepos/DiCarloLab_Repositories/Qcodes/docs/examples'"
      ]
     },
     "execution_count": 2,
     "metadata": {},
     "output_type": "execute_result"
    }
   ],
   "source": [
    "data=qc.load_data('testsweep')\n",
    "data.io.base_location"
   ]
  },
  {
   "cell_type": "code",
   "execution_count": 3,
   "metadata": {
    "collapsed": false,
    "scrolled": false
   },
   "outputs": [],
   "source": [
    "data = qc.load_data('testsweep') # Load data from the default location? \n",
    "data\n",
    "data.io.base_location+='/data'"
   ]
  },
  {
   "cell_type": "code",
   "execution_count": 4,
   "metadata": {
    "collapsed": false
   },
   "outputs": [],
   "source": [
    "data.location='testsweep'\n",
    "amp =data.arrays['amplitude']\n",
    "amp.last_saved_index = 0\n",
    "amp.modified_range = (0,399)"
   ]
  },
  {
   "cell_type": "code",
   "execution_count": 5,
   "metadata": {
    "collapsed": false
   },
   "outputs": [],
   "source": [
    "data.write()"
   ]
  },
  {
   "cell_type": "code",
   "execution_count": 34,
   "metadata": {
    "collapsed": false
   },
   "outputs": [],
   "source": [
    "from qcodes.data import hdf5_format\n",
    "reload(hdf5_format)\n",
    "h5fmt = hdf5_format.HDF5Format()\n",
    "data.formatter = h5fmt"
   ]
  },
  {
   "cell_type": "code",
   "execution_count": 7,
   "metadata": {
    "collapsed": false
   },
   "outputs": [],
   "source": [
    "data.location='testsweep3'\n",
    "amp =data.arrays['amplitude']\n",
    "amp.last_saved_index = 0\n",
    "amp.modified_range = (0,399)\n",
    "data.write()\n",
    "# data.write() # Should write multiple times in the test now \n",
    "# data.write() \n",
    "data.formatter.data_object.close()"
   ]
  },
  {
   "cell_type": "markdown",
   "metadata": {},
   "source": [
    "# Start a loop and generate data from dummy instruments "
   ]
  },
  {
   "cell_type": "code",
   "execution_count": 8,
   "metadata": {
    "collapsed": false
   },
   "outputs": [],
   "source": [
    "station = qc.station.Station()"
   ]
  },
  {
   "cell_type": "code",
   "execution_count": 9,
   "metadata": {
    "collapsed": false
   },
   "outputs": [
    {
     "data": {
      "text/plain": [
       "'MockParabola'"
      ]
     },
     "execution_count": 9,
     "metadata": {},
     "output_type": "execute_result"
    }
   ],
   "source": [
    "from qcodes.tests.instrument_mocks import MockParabola\n",
    "\n",
    "station.add_instrument(MockParabola(name='MockParabola'))"
   ]
  },
  {
   "cell_type": "code",
   "execution_count": null,
   "metadata": {
    "collapsed": false
   },
   "outputs": [],
   "source": []
  },
  {
   "cell_type": "code",
   "execution_count": 67,
   "metadata": {
    "collapsed": false
   },
   "outputs": [
    {
     "name": "stdout",
     "output_type": "stream",
     "text": [
      "DataSet: DataMode.PULL_FROM_SERVER, location='2016-05-12/21-57-28_MockParabola_run',\n",
      "   x: x\n",
      "   skewed_parabola: skewed_parabola\n",
      "io: <DiskIO, base_location=/Users/Adriaan/GitHubRepos/DiCarloLab_Repositories/Qcodes/docs/examples/data>\n",
      "datamode: DataMode.PULL_FROM_SERVER\n",
      "started at 2016-05-12 21:57:28\n"
     ]
    }
   ],
   "source": [
    "loop = qc.Loop(station.MockParabola.x[-100:100:20]).each(station.MockParabola.skewed_parabola)\n",
    "data_l = loop.run(name='MockParabola_run', formatter=qc.data.gnuplot_format.GNUPlotFormat())\n"
   ]
  },
  {
   "cell_type": "code",
   "execution_count": 70,
   "metadata": {
    "collapsed": false
   },
   "outputs": [
    {
     "data": {
      "text/plain": [
       "{'skewed_parabola': DataArray[10]: skewed_parabola\n",
       " array([ 1010000.,   518400.,   219600.,    65600.,     8400.,        0.,\n",
       "            8400.,    65600.,   219600.,   518400.]), 'x': DataArray[10]: x\n",
       " array([-100.,  -80.,  -60.,  -40.,  -20.,    0.,   20.,   40.,   60.,   80.])}"
      ]
     },
     "execution_count": 70,
     "metadata": {},
     "output_type": "execute_result"
    }
   ],
   "source": [
    "data_l.sync()\n",
    "data_l.arrays"
   ]
  },
  {
   "cell_type": "code",
   "execution_count": 11,
   "metadata": {
    "collapsed": false
   },
   "outputs": [
    {
     "data": {
      "text/plain": [
       "DataSet: DataMode.LOCAL, location='2016-05-12/21-27-32_MockParabola_run',\n",
       "   x: None\n",
       "   skewed_parabola: None\n",
       "io: <DiskIO, base_location=/Users/Adriaan/GitHubRepos/DiCarloLab_Repositories/Qcodes/docs/examples/data>\n",
       "datamode: DataMode.LOCAL"
      ]
     },
     "execution_count": 11,
     "metadata": {},
     "output_type": "execute_result"
    }
   ],
   "source": [
    "data_loaded = qc.load_data('2016-05-12/21-27-32_MockParabola_run')\n",
    "data_loaded"
   ]
  },
  {
   "cell_type": "code",
   "execution_count": 12,
   "metadata": {
    "collapsed": false,
    "scrolled": true
   },
   "outputs": [
    {
     "data": {
      "text/plain": [
       "DataSet: DataMode.LOCAL, location='2016-05-12/21-27-32_MockParabola_run',\n",
       "   x: None\n",
       "   skewed_parabola: None\n",
       "io: <DiskIO, base_location=/Users/Adriaan/GitHubRepos/DiCarloLab_Repositories/Qcodes/docs/examples/data>\n",
       "datamode: DataMode.LOCAL"
      ]
     },
     "execution_count": 12,
     "metadata": {},
     "output_type": "execute_result"
    }
   ],
   "source": [
    "data_loaded"
   ]
  },
  {
   "cell_type": "code",
   "execution_count": 82,
   "metadata": {
    "collapsed": false,
    "scrolled": false
   },
   "outputs": [],
   "source": [
    "data_loaded.formatter= h5fmt\n",
    "# data_loaded.write(force_write=True)\n",
    "data_loaded.write(force_write=True)"
   ]
  },
  {
   "cell_type": "code",
   "execution_count": 30,
   "metadata": {
    "collapsed": false,
    "scrolled": true
   },
   "outputs": [
    {
     "data": {
      "text/plain": [
       "DataSet: DataMode.LOCAL, location='2016-05-12/21-27-32_MockParabola_run',\n",
       "   x: None\n",
       "   skewed_parabola: None\n",
       "io: <DiskIO, base_location=/Users/Adriaan/GitHubRepos/DiCarloLab_Repositories/Qcodes/docs/examples/data>\n",
       "datamode: DataMode.LOCAL"
      ]
     },
     "execution_count": 30,
     "metadata": {},
     "output_type": "execute_result"
    }
   ],
   "source": [
    "data_loaded"
   ]
  },
  {
   "cell_type": "code",
   "execution_count": 23,
   "metadata": {
    "collapsed": false
   },
   "outputs": [
    {
     "data": {
      "text/plain": [
       "'2016-05-12/21-42-33_testsweep3'"
      ]
     },
     "execution_count": 23,
     "metadata": {},
     "output_type": "execute_result"
    }
   ],
   "source": [
    "data.location_provider(data.io, data.location)"
   ]
  },
  {
   "cell_type": "code",
   "execution_count": 32,
   "metadata": {
    "collapsed": false
   },
   "outputs": [],
   "source": [
    "import h5py"
   ]
  },
  {
   "cell_type": "code",
   "execution_count": 38,
   "metadata": {
    "collapsed": false
   },
   "outputs": [],
   "source": [
    "data_loaded_from_h5 = qc.load_data(location ='/Users/Adriaan/GitHubRepos/DiCarloLab_Repositories/Qcodes/docs/examples/data/2016-05-12/21-41-20/2016-05-12/21-27-32_MockParabola_run.hdf5' , formatter=h5fmt)\n"
   ]
  },
  {
   "cell_type": "code",
   "execution_count": 46,
   "metadata": {
    "collapsed": false
   },
   "outputs": [
    {
     "ename": "NameError",
     "evalue": "name 'labels' is not defined",
     "output_type": "error",
     "traceback": [
      "\u001b[0;31m---------------------------------------------------------------------------\u001b[0m",
      "\u001b[0;31mNameError\u001b[0m                                 Traceback (most recent call last)",
      "\u001b[0;32m<ipython-input-46-9af1289467b6>\u001b[0m in \u001b[0;36m<module>\u001b[0;34m()\u001b[0m\n\u001b[1;32m      4\u001b[0m \u001b[0;34m\u001b[0m\u001b[0m\n\u001b[1;32m      5\u001b[0m \u001b[0;31m# qc.DataArray\u001b[0m\u001b[0;34m\u001b[0m\u001b[0;34m\u001b[0m\u001b[0m\n\u001b[0;32m----> 6\u001b[0;31m set_array = qc.DataArray(label=labels[i], array_id=array_id,\n\u001b[0m\u001b[1;32m      7\u001b[0m                       set_arrays=set_arrays, size=set_size)\n\u001b[1;32m      8\u001b[0m \u001b[0mset_array\u001b[0m\u001b[0;34m.\u001b[0m\u001b[0minit_data\u001b[0m\u001b[0;34m(\u001b[0m\u001b[0;34m)\u001b[0m\u001b[0;34m\u001b[0m\u001b[0m\n",
      "\u001b[0;31mNameError\u001b[0m: name 'labels' is not defined"
     ]
    }
   ],
   "source": [
    "data_loaded_from_h5.arrays\n",
    "\n",
    "\n",
    "\n",
    "# qc.DataArray\n",
    "set_array = qc.DataArray(label=labels[i], array_id=array_id,\n",
    "                      set_arrays=set_arrays, size=set_size)\n",
    "set_array.init_data()\n",
    "data_set.add_array(set_array)"
   ]
  },
  {
   "cell_type": "markdown",
   "metadata": {},
   "source": [
    "# Run the tests for the dataformat"
   ]
  },
  {
   "cell_type": "code",
   "execution_count": 33,
   "metadata": {
    "collapsed": false
   },
   "outputs": [
    {
     "name": "stderr",
     "output_type": "stream",
     "text": [
      "test_attributes (qcodes.tests.test_data.TestDataArray) ... ok\n",
      "test_clear (qcodes.tests.test_data.TestDataArray) ... ok\n",
      "test_data_set_property (qcodes.tests.test_data.TestDataArray) ... ok\n",
      "test_edit_and_mark (qcodes.tests.test_data.TestDataArray) ... ok\n",
      "test_edit_and_mark_slice (qcodes.tests.test_data.TestDataArray) ... ok\n",
      "test_init_data_error (qcodes.tests.test_data.TestDataArray) ... ok\n",
      "test_nest_empty (qcodes.tests.test_data.TestDataArray) ... ok\n",
      "test_nest_preset (qcodes.tests.test_data.TestDataArray) ... ok\n",
      "test_preset_data (qcodes.tests.test_data.TestDataArray) ... ok\n",
      "test_repr (qcodes.tests.test_data.TestDataArray) ... ok\n",
      "\n",
      "----------------------------------------------------------------------\n",
      "Ran 10 tests in 0.013s\n",
      "\n",
      "OK\n"
     ]
    }
   ],
   "source": [
    "import qcodes.tests.test_data as td\n",
    "import unittest\n",
    "tst =td.TestDataArray\n",
    "suite = unittest.defaultTestLoader.loadTestsFromTestCase(tst)\n",
    "result = unittest.TextTestRunner(verbosity=2).run(suite)\n"
   ]
  },
  {
   "cell_type": "code",
   "execution_count": null,
   "metadata": {
    "collapsed": true
   },
   "outputs": [],
   "source": []
  },
  {
   "cell_type": "code",
   "execution_count": 42,
   "metadata": {
    "collapsed": false,
    "scrolled": false
   },
   "outputs": [
    {
     "name": "stderr",
     "output_type": "stream",
     "text": [
      "test_group_arrays (qcodes.tests.test_format.TestBaseFormatter) ... ok\n",
      "test_init_and_bad_read (qcodes.tests.test_format.TestBaseFormatter) ... ERROR\n",
      "test_match_save_range (qcodes.tests.test_format.TestBaseFormatter) ... ok\n",
      "test_no_files (qcodes.tests.test_format.TestBaseFormatter) ... ok\n",
      "test_overridable_methods (qcodes.tests.test_format.TestBaseFormatter) ... ok\n",
      "\n",
      "======================================================================\n",
      "ERROR: test_init_and_bad_read (qcodes.tests.test_format.TestBaseFormatter)\n",
      "----------------------------------------------------------------------\n",
      "Traceback (most recent call last):\n",
      "  File \"/Users/Adriaan/GitHubRepos/DiCarloLab_Repositories/Qcodes/qcodes/tests/test_format.py\", line 66, in test_init_and_bad_read\n",
      "    formatter.read(data)\n",
      "  File \"/Users/Adriaan/GitHubRepos/DiCarloLab_Repositories/Qcodes/qcodes/data/format.py\", line 55, in read\n",
      "    raise IOError('no data found at ' + location)\n",
      "OSError: no data found at _simple1d_\n",
      "\n",
      "----------------------------------------------------------------------\n",
      "Ran 5 tests in 0.011s\n",
      "\n",
      "FAILED (errors=1)\n",
      "\n",
      "----------------------------------------------------------------------\n",
      "Ran 0 tests in 0.000s\n",
      "\n",
      "OK\n"
     ]
    }
   ],
   "source": [
    "import qcodes.tests.test_format as tf\n",
    "tst =tf.TestBaseFormatter\n",
    "for tst in [tf.TestBaseFormatter, tf.GNUPlotFormat]:\n",
    "    suite = unittest.defaultTestLoader.loadTestsFromTestCase(tst)\n",
    "    result = unittest.TextTestRunner(verbosity=2).run(suite)\n"
   ]
  },
  {
   "cell_type": "code",
   "execution_count": 157,
   "metadata": {
    "collapsed": false
   },
   "outputs": [
    {
     "data": {
      "text/plain": [
       "<module 'qcodes.data.hdf5_format' from '/Users/Adriaan/GitHubRepos/DiCarloLab_Repositories/Qcodes/qcodes/data/hdf5_format.py'>"
      ]
     },
     "execution_count": 157,
     "metadata": {},
     "output_type": "execute_result"
    }
   ],
   "source": [
    "from qcodes.data import hdf5_format \n",
    "reload(hdf5_format)"
   ]
  },
  {
   "cell_type": "code",
   "execution_count": 196,
   "metadata": {
    "collapsed": false,
    "scrolled": false
   },
   "outputs": [
    {
     "name": "stderr",
     "output_type": "stream",
     "text": [
      "test_constructor_errors (qcodes.tests.test_format.TestHDF5_Format) ... ok\n",
      "test_format_options (qcodes.tests.test_format.TestHDF5_Format) ... ok\n",
      "test_full_write_read (qcodes.tests.test_format.TestHDF5_Format) ... ERROR\n",
      "test_incremental_write (qcodes.tests.test_format.TestHDF5_Format) ... ok\n",
      "test_multifile (qcodes.tests.test_format.TestHDF5_Format) ... ok\n",
      "test_no_nest (qcodes.tests.test_format.TestHDF5_Format) ... ok\n",
      "test_read_errors (qcodes.tests.test_format.TestHDF5_Format) ... "
     ]
    },
    {
     "name": "stdout",
     "output_type": "stream",
     "text": [
      "{}\n"
     ]
    },
    {
     "name": "stderr",
     "output_type": "stream",
     "text": [
      "ok\n",
      "\n",
      "======================================================================\n",
      "ERROR: test_full_write_read (qcodes.tests.test_format.TestHDF5_Format)\n",
      "----------------------------------------------------------------------\n",
      "Traceback (most recent call last):\n",
      "  File \"/Users/Adriaan/GitHubRepos/DiCarloLab_Repositories/Qcodes/qcodes/tests/test_format.py\", line 465, in test_full_write_read\n",
      "    self.checkArraysEqual(data2.x, data.x)\n",
      "  File \"/Users/Adriaan/GitHubRepos/DiCarloLab_Repositories/Qcodes/qcodes/utils/helpers.py\", line 155, in __getattr__\n",
      "    self.__class__.__name__, key))\n",
      "AttributeError: 'DataSet' object and its delegates have no attribute 'x'\n",
      "\n",
      "----------------------------------------------------------------------\n",
      "Ran 7 tests in 0.016s\n",
      "\n",
      "FAILED (errors=1)\n"
     ]
    }
   ],
   "source": [
    "import unittest\n",
    "import qcodes.tests.test_format as tf\n",
    "reload(tf)\n",
    "tst = tf.TestHDF5_Format\n",
    "suite = unittest.defaultTestLoader.loadTestsFromTestCase(tst)\n",
    "result = unittest.TextTestRunner(verbosity=2).run(suite)\n"
   ]
  },
  {
   "cell_type": "code",
   "execution_count": 130,
   "metadata": {
    "collapsed": true
   },
   "outputs": [],
   "source": [
    "from qcodes.tests.data_mocks import DataSet1D"
   ]
  },
  {
   "cell_type": "code",
   "execution_count": 149,
   "metadata": {
    "collapsed": false
   },
   "outputs": [
    {
     "data": {
      "text/plain": [
       "array([ 1.,  2.,  3.,  4.,  5.])"
      ]
     },
     "execution_count": 149,
     "metadata": {},
     "output_type": "execute_result"
    }
   ],
   "source": [
    "v =\n",
    "v.ndarray"
   ]
  },
  {
   "cell_type": "code",
   "execution_count": 108,
   "metadata": {
    "collapsed": false
   },
   "outputs": [],
   "source": [
    "f =data_loaded_from_h5.formatter.data_object"
   ]
  },
  {
   "cell_type": "code",
   "execution_count": 127,
   "metadata": {
    "collapsed": false,
    "scrolled": false
   },
   "outputs": [
    {
     "data": {
      "text/plain": [
       "array([[ -1.00000000e+02,   1.01000000e+06],\n",
       "       [ -9.90000000e+01,   9.80100000e+05],\n",
       "       [ -9.80000000e+01,   9.50796000e+05],\n",
       "       [ -9.70000000e+01,   9.22082000e+05],\n",
       "       [ -9.60000000e+01,   8.93952000e+05],\n",
       "       [ -9.50000000e+01,   8.66400000e+05],\n",
       "       [ -9.40000000e+01,   8.39420000e+05],\n",
       "       [ -9.30000000e+01,   8.13006000e+05],\n",
       "       [ -9.20000000e+01,   7.87152000e+05],\n",
       "       [ -9.10000000e+01,   7.61852000e+05],\n",
       "       [ -9.00000000e+01,   7.37100000e+05],\n",
       "       [ -8.90000000e+01,   7.12890000e+05],\n",
       "       [ -8.80000000e+01,   6.89216000e+05],\n",
       "       [ -8.70000000e+01,   6.66072000e+05],\n",
       "       [ -8.60000000e+01,   6.43452000e+05],\n",
       "       [ -8.50000000e+01,   6.21350000e+05],\n",
       "       [ -8.40000000e+01,   5.99760000e+05],\n",
       "       [ -8.30000000e+01,   5.78676000e+05],\n",
       "       [ -8.20000000e+01,   5.58092000e+05],\n",
       "       [ -8.10000000e+01,   5.38002000e+05],\n",
       "       [ -8.00000000e+01,   5.18400000e+05],\n",
       "       [ -7.90000000e+01,   4.99280000e+05],\n",
       "       [ -7.80000000e+01,   4.80636000e+05],\n",
       "       [ -7.70000000e+01,   4.62462000e+05],\n",
       "       [ -7.60000000e+01,   4.44752000e+05],\n",
       "       [ -7.50000000e+01,   4.27500000e+05],\n",
       "       [ -7.40000000e+01,   4.10700000e+05],\n",
       "       [ -7.30000000e+01,   3.94346000e+05],\n",
       "       [ -7.20000000e+01,   3.78432000e+05],\n",
       "       [ -7.10000000e+01,   3.62952000e+05],\n",
       "       [ -7.00000000e+01,   3.47900000e+05],\n",
       "       [ -6.90000000e+01,   3.33270000e+05],\n",
       "       [ -6.80000000e+01,   3.19056000e+05],\n",
       "       [ -6.70000000e+01,   3.05252000e+05],\n",
       "       [ -6.60000000e+01,   2.91852000e+05],\n",
       "       [ -6.50000000e+01,   2.78850000e+05],\n",
       "       [ -6.40000000e+01,   2.66240000e+05],\n",
       "       [ -6.30000000e+01,   2.54016000e+05],\n",
       "       [ -6.20000000e+01,   2.42172000e+05],\n",
       "       [ -6.10000000e+01,   2.30702000e+05],\n",
       "       [ -6.00000000e+01,   2.19600000e+05],\n",
       "       [ -5.90000000e+01,   2.08860000e+05],\n",
       "       [ -5.80000000e+01,   1.98476000e+05],\n",
       "       [ -5.70000000e+01,   1.88442000e+05],\n",
       "       [ -5.60000000e+01,   1.78752000e+05],\n",
       "       [ -5.50000000e+01,   1.69400000e+05],\n",
       "       [ -5.40000000e+01,   1.60380000e+05],\n",
       "       [ -5.30000000e+01,   1.51686000e+05],\n",
       "       [ -5.20000000e+01,   1.43312000e+05],\n",
       "       [ -5.10000000e+01,   1.35252000e+05],\n",
       "       [ -5.00000000e+01,   1.27500000e+05],\n",
       "       [ -4.90000000e+01,   1.20050000e+05],\n",
       "       [ -4.80000000e+01,   1.12896000e+05],\n",
       "       [ -4.70000000e+01,   1.06032000e+05],\n",
       "       [ -4.60000000e+01,   9.94520000e+04],\n",
       "       [ -4.50000000e+01,   9.31500000e+04],\n",
       "       [ -4.40000000e+01,   8.71200000e+04],\n",
       "       [ -4.30000000e+01,   8.13560000e+04],\n",
       "       [ -4.20000000e+01,   7.58520000e+04],\n",
       "       [ -4.10000000e+01,   7.06020000e+04],\n",
       "       [ -4.00000000e+01,   6.56000000e+04],\n",
       "       [ -3.90000000e+01,   6.08400000e+04],\n",
       "       [ -3.80000000e+01,   5.63160000e+04],\n",
       "       [ -3.70000000e+01,   5.20220000e+04],\n",
       "       [ -3.60000000e+01,   4.79520000e+04],\n",
       "       [ -3.50000000e+01,   4.41000000e+04],\n",
       "       [ -3.40000000e+01,   4.04600000e+04],\n",
       "       [ -3.30000000e+01,   3.70260000e+04],\n",
       "       [ -3.20000000e+01,   3.37920000e+04],\n",
       "       [ -3.10000000e+01,   3.07520000e+04],\n",
       "       [ -3.00000000e+01,   2.79000000e+04],\n",
       "       [ -2.90000000e+01,   2.52300000e+04],\n",
       "       [ -2.80000000e+01,   2.27360000e+04],\n",
       "       [ -2.70000000e+01,   2.04120000e+04],\n",
       "       [ -2.60000000e+01,   1.82520000e+04],\n",
       "       [ -2.50000000e+01,   1.62500000e+04],\n",
       "       [ -2.40000000e+01,   1.44000000e+04],\n",
       "       [ -2.30000000e+01,   1.26960000e+04],\n",
       "       [ -2.20000000e+01,   1.11320000e+04],\n",
       "       [ -2.10000000e+01,   9.70200000e+03],\n",
       "       [ -2.00000000e+01,   8.40000000e+03],\n",
       "       [ -1.90000000e+01,   7.22000000e+03],\n",
       "       [ -1.80000000e+01,   6.15600000e+03],\n",
       "       [ -1.70000000e+01,   5.20200000e+03],\n",
       "       [ -1.60000000e+01,   4.35200000e+03],\n",
       "       [ -1.50000000e+01,   3.60000000e+03],\n",
       "       [ -1.40000000e+01,   2.94000000e+03],\n",
       "       [ -1.30000000e+01,   2.36600000e+03],\n",
       "       [ -1.20000000e+01,   1.87200000e+03],\n",
       "       [ -1.10000000e+01,   1.45200000e+03],\n",
       "       [ -1.00000000e+01,   1.10000000e+03],\n",
       "       [ -9.00000000e+00,   8.10000000e+02],\n",
       "       [ -8.00000000e+00,   5.76000000e+02],\n",
       "       [ -7.00000000e+00,   3.92000000e+02],\n",
       "       [ -6.00000000e+00,   2.52000000e+02],\n",
       "       [ -5.00000000e+00,   1.50000000e+02],\n",
       "       [ -4.00000000e+00,   8.00000000e+01],\n",
       "       [ -3.00000000e+00,   3.60000000e+01],\n",
       "       [ -2.00000000e+00,   1.20000000e+01],\n",
       "       [ -1.00000000e+00,   2.00000000e+00],\n",
       "       [  0.00000000e+00,   0.00000000e+00],\n",
       "       [  1.00000000e+00,   2.00000000e+00],\n",
       "       [  2.00000000e+00,   1.20000000e+01],\n",
       "       [  3.00000000e+00,   3.60000000e+01],\n",
       "       [  4.00000000e+00,   8.00000000e+01],\n",
       "       [  5.00000000e+00,   1.50000000e+02],\n",
       "       [  6.00000000e+00,   2.52000000e+02],\n",
       "       [  7.00000000e+00,   3.92000000e+02],\n",
       "       [  8.00000000e+00,   5.76000000e+02],\n",
       "       [  9.00000000e+00,   8.10000000e+02],\n",
       "       [  1.00000000e+01,   1.10000000e+03],\n",
       "       [  1.10000000e+01,   1.45200000e+03],\n",
       "       [  1.20000000e+01,   1.87200000e+03],\n",
       "       [  1.30000000e+01,   2.36600000e+03],\n",
       "       [  1.40000000e+01,   2.94000000e+03],\n",
       "       [  1.50000000e+01,   3.60000000e+03],\n",
       "       [  1.60000000e+01,   4.35200000e+03],\n",
       "       [  1.70000000e+01,   5.20200000e+03],\n",
       "       [  1.80000000e+01,   6.15600000e+03],\n",
       "       [  1.90000000e+01,   7.22000000e+03],\n",
       "       [  2.00000000e+01,   8.40000000e+03],\n",
       "       [  2.10000000e+01,   9.70200000e+03],\n",
       "       [  2.20000000e+01,   1.11320000e+04],\n",
       "       [  2.30000000e+01,   1.26960000e+04],\n",
       "       [  2.40000000e+01,   1.44000000e+04],\n",
       "       [  2.50000000e+01,   1.62500000e+04],\n",
       "       [  2.60000000e+01,   1.82520000e+04],\n",
       "       [  2.70000000e+01,   2.04120000e+04],\n",
       "       [  2.80000000e+01,   2.27360000e+04],\n",
       "       [  2.90000000e+01,   2.52300000e+04],\n",
       "       [  3.00000000e+01,   2.79000000e+04],\n",
       "       [  3.10000000e+01,   3.07520000e+04],\n",
       "       [  3.20000000e+01,   3.37920000e+04],\n",
       "       [  3.30000000e+01,   3.70260000e+04],\n",
       "       [  3.40000000e+01,   4.04600000e+04],\n",
       "       [  3.50000000e+01,   4.41000000e+04],\n",
       "       [  3.60000000e+01,   4.79520000e+04],\n",
       "       [  3.70000000e+01,   5.20220000e+04],\n",
       "       [  3.80000000e+01,   5.63160000e+04],\n",
       "       [  3.90000000e+01,   6.08400000e+04],\n",
       "       [  4.00000000e+01,   6.56000000e+04],\n",
       "       [  4.10000000e+01,   7.06020000e+04],\n",
       "       [  4.20000000e+01,   7.58520000e+04],\n",
       "       [  4.30000000e+01,   8.13560000e+04],\n",
       "       [  4.40000000e+01,   8.71200000e+04],\n",
       "       [  4.50000000e+01,   9.31500000e+04],\n",
       "       [  4.60000000e+01,   9.94520000e+04],\n",
       "       [  4.70000000e+01,   1.06032000e+05],\n",
       "       [  4.80000000e+01,   1.12896000e+05],\n",
       "       [  4.90000000e+01,   1.20050000e+05],\n",
       "       [  5.00000000e+01,   1.27500000e+05],\n",
       "       [  5.10000000e+01,   1.35252000e+05],\n",
       "       [  5.20000000e+01,   1.43312000e+05],\n",
       "       [  5.30000000e+01,   1.51686000e+05],\n",
       "       [  5.40000000e+01,   1.60380000e+05],\n",
       "       [  5.50000000e+01,   1.69400000e+05],\n",
       "       [  5.60000000e+01,   1.78752000e+05],\n",
       "       [  5.70000000e+01,   1.88442000e+05],\n",
       "       [  5.80000000e+01,   1.98476000e+05],\n",
       "       [  5.90000000e+01,   2.08860000e+05],\n",
       "       [  6.00000000e+01,   2.19600000e+05],\n",
       "       [  6.10000000e+01,   2.30702000e+05],\n",
       "       [  6.20000000e+01,   2.42172000e+05],\n",
       "       [  6.30000000e+01,   2.54016000e+05],\n",
       "       [  6.40000000e+01,   2.66240000e+05],\n",
       "       [  6.50000000e+01,   2.78850000e+05],\n",
       "       [  6.60000000e+01,   2.91852000e+05],\n",
       "       [  6.70000000e+01,   3.05252000e+05],\n",
       "       [  6.80000000e+01,   3.19056000e+05],\n",
       "       [  6.90000000e+01,   3.33270000e+05],\n",
       "       [  7.00000000e+01,   3.47900000e+05],\n",
       "       [  7.10000000e+01,   3.62952000e+05],\n",
       "       [  7.20000000e+01,   3.78432000e+05],\n",
       "       [  7.30000000e+01,   3.94346000e+05],\n",
       "       [  7.40000000e+01,   4.10700000e+05],\n",
       "       [  7.50000000e+01,   4.27500000e+05],\n",
       "       [  7.60000000e+01,   4.44752000e+05],\n",
       "       [  7.70000000e+01,   4.62462000e+05],\n",
       "       [  7.80000000e+01,   4.80636000e+05],\n",
       "       [  7.90000000e+01,   4.99280000e+05],\n",
       "       [  8.00000000e+01,   5.18400000e+05],\n",
       "       [  8.10000000e+01,   5.38002000e+05],\n",
       "       [  8.20000000e+01,   5.58092000e+05],\n",
       "       [  8.30000000e+01,   5.78676000e+05],\n",
       "       [  8.40000000e+01,   5.99760000e+05],\n",
       "       [  8.50000000e+01,   6.21350000e+05],\n",
       "       [  8.60000000e+01,   6.43452000e+05],\n",
       "       [  8.70000000e+01,   6.66072000e+05],\n",
       "       [  8.80000000e+01,   6.89216000e+05],\n",
       "       [  8.90000000e+01,   7.12890000e+05],\n",
       "       [  9.00000000e+01,   7.37100000e+05],\n",
       "       [  9.10000000e+01,   7.61852000e+05],\n",
       "       [  9.20000000e+01,   7.87152000e+05],\n",
       "       [  9.30000000e+01,   8.13006000e+05],\n",
       "       [  9.40000000e+01,   8.39420000e+05],\n",
       "       [  9.50000000e+01,   8.66400000e+05],\n",
       "       [  9.60000000e+01,   8.93952000e+05],\n",
       "       [  9.70000000e+01,   9.22082000e+05],\n",
       "       [  9.80000000e+01,   9.50796000e+05],\n",
       "       [  9.90000000e+01,   9.80100000e+05],\n",
       "       [  0.00000000e+00,   0.00000000e+00]], dtype=float32)"
      ]
     },
     "execution_count": 127,
     "metadata": {},
     "output_type": "execute_result"
    }
   ],
   "source": [
    "import numpy as np\n",
    "f['Data Arrays']['Data'].value"
   ]
  },
  {
   "cell_type": "code",
   "execution_count": 80,
   "metadata": {
    "collapsed": false
   },
   "outputs": [
    {
     "data": {
      "text/plain": [
       "DataSet: DataMode.LOCAL, location='/Users/Adriaan/GitHubRepos/DiCarloLab_Repositories/Qcodes/docs/examples/data/2016-05-12/21-41-20/2016-05-12/21-27-32_MockParabola_run.hdf5',\n",
       "io: <DiskIO, base_location=/Users/Adriaan/GitHubRepos/DiCarloLab_Repositories/Qcodes/docs/examples/data>\n",
       "datamode: DataMode.LOCAL"
      ]
     },
     "execution_count": 80,
     "metadata": {},
     "output_type": "execute_result"
    }
   ],
   "source": []
  },
  {
   "cell_type": "code",
   "execution_count": null,
   "metadata": {
    "collapsed": true
   },
   "outputs": [],
   "source": []
  }
 ],
 "metadata": {
  "kernelspec": {
   "display_name": "Python 3",
   "language": "python",
   "name": "python3"
  },
  "language_info": {
   "codemirror_mode": {
    "name": "ipython",
    "version": 3
   },
   "file_extension": ".py",
   "mimetype": "text/x-python",
   "name": "python",
   "nbconvert_exporter": "python",
   "pygments_lexer": "ipython3",
   "version": "3.5.1"
  },
  "widgets": {
   "state": {},
   "version": "1.1.1"
  }
 },
 "nbformat": 4,
 "nbformat_minor": 0
}
