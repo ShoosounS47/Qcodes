{
 "cells": [
  {
   "cell_type": "code",
   "execution_count": 2,
   "metadata": {
    "collapsed": false
   },
   "outputs": [
    {
     "data": {
      "application/javascript": [
       "/*\n",
       " * Qcodes Jupyter/IPython widgets\n",
       " */\n",
       "require([\n",
       "    'nbextensions/widgets/widgets/js/widget',\n",
       "    'nbextensions/widgets/widgets/js/manager'\n",
       "], function (widget, manager) {\n",
       "\n",
       "    var UpdateView = widget.DOMWidgetView.extend({\n",
       "        render: function() {\n",
       "            window.MYWIDGET = this;\n",
       "            this._interval = 0;\n",
       "            this.update();\n",
       "        },\n",
       "        update: function() {\n",
       "            this.display(this.model.get('_message'));\n",
       "            this.setInterval();\n",
       "        },\n",
       "        display: function(message) {\n",
       "            /*\n",
       "             * display method: override this for custom display logic\n",
       "             */\n",
       "            this.el.innerHTML = message;\n",
       "        },\n",
       "        remove: function() {\n",
       "            clearInterval(this._updater);\n",
       "        },\n",
       "        setInterval: function(newInterval) {\n",
       "            var me = this;\n",
       "            if(newInterval===undefined) newInterval = me.model.get('interval');\n",
       "            if(newInterval===me._interval) return;\n",
       "\n",
       "            me._interval = newInterval;\n",
       "\n",
       "            if(me._updater) clearInterval(me._updater);\n",
       "\n",
       "            if(me._interval) {\n",
       "                me._updater = setInterval(function() {\n",
       "                    me.send({myupdate: true});\n",
       "                    if(!me.model.comm_live) {\n",
       "                        console.log('missing comm, canceling widget updates', me);\n",
       "                        clearInterval(me._updater);\n",
       "                    }\n",
       "                }, me._interval * 1000);\n",
       "            }\n",
       "        }\n",
       "    });\n",
       "    manager.WidgetManager.register_widget_view('UpdateView', UpdateView);\n",
       "\n",
       "    var HiddenUpdateView = UpdateView.extend({\n",
       "        display: function(message) {\n",
       "            this.$el.hide();\n",
       "        }\n",
       "    });\n",
       "    manager.WidgetManager.register_widget_view('HiddenUpdateView', HiddenUpdateView);\n",
       "\n",
       "    var SubprocessView = UpdateView.extend({\n",
       "        render: function() {\n",
       "            var me = this;\n",
       "            me._interval = 0;\n",
       "            me._minimize = '<i class=\"fa-minus fa\"></i>';\n",
       "            me._restore = '<i class=\"fa-plus fa\"></i>';\n",
       "\n",
       "            // max lines of output to show\n",
       "            me.maxOutputLength = 500;\n",
       "\n",
       "            // in case there is already an outputView present,\n",
       "            // like from before restarting the kernel\n",
       "            $('.qcodes-output-view').not(me.$el).remove();\n",
       "\n",
       "            me.$el\n",
       "                .addClass('qcodes-output-view')\n",
       "                .attr('qcodes-state', 'docked')\n",
       "                .html(\n",
       "                    '<div class=\"qcodes-output-header toolbar\">' +\n",
       "                        '<div class=\"qcodes-process-list\"></div>' +\n",
       "                        '<button class=\"btn qcodes-processlines\"><i class=\"fa-list fa\"></i></button>' +\n",
       "                        '<button class=\"btn qcodes-abort-loop disabled\">Abort</button>' +\n",
       "                        '<button class=\"btn qcodes-clear-output disabled qcodes-content\">Clear</button>' +\n",
       "                        '<button class=\"btn js-state qcodes-minimized\"><i class=\"fa-minus fa\"></i></button>' +\n",
       "                        '<button class=\"btn js-state qcodes-docked\"><i class=\"fa-toggle-up fa\"></i></button>' +\n",
       "                        '<button class=\"btn js-state qcodes-floated\"><i class=\"fa-arrows fa\"></i></button>' +\n",
       "                    '</div>' +\n",
       "                    '<pre class=\"qcodes-content\"></pre>'\n",
       "                );\n",
       "\n",
       "            me.clearButton = me.$el.find('.qcodes-clear-output');\n",
       "            me.minButton = me.$el.find('.qcodes-minimize');\n",
       "            me.outputArea = me.$el.find('pre');\n",
       "            me.subprocessList = me.$el.find('.qcodes-process-list');\n",
       "            me.abortButton = me.$el.find('.qcodes-abort-loop');\n",
       "            me.processLinesButton = me.$el.find('.qcodes-processlines')\n",
       "\n",
       "            me.outputLines = [];\n",
       "\n",
       "            me.clearButton.click(function() {\n",
       "                me.outputArea.html('');\n",
       "                me.clearButton.addClass('disabled');\n",
       "            });\n",
       "\n",
       "            me.abortButton.click(function() {\n",
       "                me.send({abort: true});\n",
       "            });\n",
       "\n",
       "            me.processLinesButton.click(function() {\n",
       "                // toggle multiline process list display\n",
       "                me.subprocessesMultiline = !me.subprocessesMultiline;\n",
       "                me.showSubprocesses();\n",
       "            });\n",
       "\n",
       "            me.$el.find('.js-state').click(function() {\n",
       "                var state = this.className.substr(this.className.indexOf('qcodes'))\n",
       "                        .split('-')[1].split(' ')[0];\n",
       "                me.model.set('_state', state);\n",
       "            });\n",
       "\n",
       "            $(window)\n",
       "                .off('resize.qcodes')\n",
       "                .on('resize.qcodes', function() {me.clipBounds();});\n",
       "\n",
       "            me.update();\n",
       "        },\n",
       "\n",
       "        updateState: function() {\n",
       "            var me = this,\n",
       "                oldState = me.$el.attr('qcodes-state'),\n",
       "                state = me.model.get('_state');\n",
       "\n",
       "            if(state === oldState) return;\n",
       "\n",
       "            setTimeout(function() {\n",
       "                // not sure why I can't pop it out of the widgetarea in render, but it seems that\n",
       "                // some other bit of code resets the parent after render if I do it there.\n",
       "                // To be safe, just do it on every state click.\n",
       "                me.$el.appendTo('body');\n",
       "\n",
       "                if(oldState === 'floated') {\n",
       "                    console.log('here');\n",
       "                    me.$el.draggable('destroy').css({left:'', top: ''});\n",
       "                }\n",
       "\n",
       "                me.$el.attr('qcodes-state', state);\n",
       "\n",
       "                if(state === 'floated') {\n",
       "                    me.$el\n",
       "                        .draggable({stop: function() { me.clipBounds(); }})\n",
       "                        .css({\n",
       "                            left: window.innerWidth - me.$el.width() - 15,\n",
       "                            top: window.innerHeight - me.$el.height() - 10\n",
       "                        });\n",
       "                }\n",
       "\n",
       "                // any previous highlighting is now moot\n",
       "                me.$el.removeClass('qcodes-highlight');\n",
       "            }, 0);\n",
       "\n",
       "        },\n",
       "\n",
       "        clipBounds: function() {\n",
       "            var me = this;\n",
       "            if(me.$el.attr('qcodes-state') === 'floated') {\n",
       "                var bounds = me.$el[0].getBoundingClientRect(),\n",
       "                    minVis = 40,\n",
       "                    maxLeft = window.innerWidth - minVis,\n",
       "                    minLeft = minVis - bounds.width,\n",
       "                    maxTop = window.innerHeight - minVis;\n",
       "\n",
       "                if(bounds.left > maxLeft) me.$el.css('left', maxLeft);\n",
       "                else if(bounds.left < minLeft) me.$el.css('left', minLeft);\n",
       "\n",
       "                if(bounds.top > maxTop) me.$el.css('top', maxTop);\n",
       "                else if(bounds.top < 0) me.$el.css('top', 0);\n",
       "            }\n",
       "        },\n",
       "\n",
       "        display: function(message) {\n",
       "            var me = this;\n",
       "            if(message) {\n",
       "                var initialScroll = me.outputArea.scrollTop();\n",
       "                me.outputArea.scrollTop(me.outputArea.prop('scrollHeight'));\n",
       "                var scrollBottom = me.outputArea.scrollTop();\n",
       "\n",
       "                if(me.$el.attr('qcodes-state') === 'minimized') {\n",
       "                    // if we add text and the box is minimized, highlight the\n",
       "                    // title bar to alert the user that there are new messages.\n",
       "                    // remove then add the class, so we get the animation again\n",
       "                    // if it's already highlighted\n",
       "                    me.$el.removeClass('qcodes-highlight');\n",
       "                    setTimeout(function(){\n",
       "                        me.$el.addClass('qcodes-highlight');\n",
       "                    }, 0);\n",
       "                }\n",
       "\n",
       "                var newLines = message.split('\\n'),\n",
       "                    out = me.outputLines,\n",
       "                    outLen = out.length;\n",
       "                if(outLen) out[outLen - 1] += newLines[0];\n",
       "                else out.push(newLines[0]);\n",
       "\n",
       "                for(var i = 1; i < newLines.length; i++) {\n",
       "                    out.push(newLines[i]);\n",
       "                }\n",
       "\n",
       "                if(out.length > me.maxOutputLength) {\n",
       "                    out.splice(0, out.length - me.maxOutputLength + 1,\n",
       "                        '<<< Output clipped >>>');\n",
       "                }\n",
       "\n",
       "                me.outputArea.text(out.join('\\n'));\n",
       "                me.clearButton.removeClass('disabled');\n",
       "\n",
       "                // if we were scrolled to the bottom initially, make sure\n",
       "                // we stay that way.\n",
       "                me.outputArea.scrollTop(initialScroll === scrollBottom ?\n",
       "                    me.outputArea.prop('scrollHeight') : initialScroll);\n",
       "            }\n",
       "\n",
       "            me.showSubprocesses();\n",
       "            me.updateState();\n",
       "        },\n",
       "\n",
       "        showSubprocesses: function() {\n",
       "            var me = this,\n",
       "                replacer = me.subprocessesMultiline ? '<br>' : ', ',\n",
       "                processes = (me.model.get('_processes') || '')\n",
       "                    .replace(/\\n/g, '&gt;' + replacer + '&lt;');\n",
       "\n",
       "            if(processes) processes = '&lt;' + processes + '&gt;';\n",
       "            else processes = 'No subprocesses';\n",
       "\n",
       "            me.abortButton.toggleClass('disabled', processes.indexOf('Measurement')===-1);\n",
       "\n",
       "            me.subprocessList.html(processes);\n",
       "        }\n",
       "    });\n",
       "    manager.WidgetManager.register_widget_view('SubprocessView', SubprocessView);\n",
       "});\n"
      ],
      "text/plain": [
       "<IPython.core.display.Javascript object>"
      ]
     },
     "metadata": {},
     "output_type": "display_data"
    },
    {
     "data": {
      "text/html": [
       "<style>.qcodes-output-view:not(.ui-draggable) {\n",
       "    bottom: 0;\n",
       "    right: 5px;\n",
       "}\n",
       ".qcodes-output-view {\n",
       "    position: fixed;\n",
       "    z-index: 999;\n",
       "    background-color: #fff;\n",
       "    box-shadow: 0 0 12px 1px rgba(87, 87, 87, 0.2);\n",
       "}\n",
       "\n",
       ".qcodes-output-header {\n",
       "    float: right;\n",
       "}\n",
       "\n",
       ".qcodes-highlight {\n",
       "    animation: pulse 1s linear;\n",
       "    background-color: #fa4;\n",
       "}\n",
       "\n",
       "@keyframes pulse {\n",
       "    0% {\n",
       "        background-color: #f00;\n",
       "    }\n",
       "    100% {\n",
       "        background-color: #fa4;\n",
       "    }\n",
       "}\n",
       "\n",
       ".qcodes-process-list {\n",
       "    float: left;\n",
       "    max-width: 780px;\n",
       "    margin: 3px 5px 3px 10px;\n",
       "    overflow: hidden;\n",
       "    white-space: nowrap;\n",
       "    text-overflow: ellipsis;\n",
       "}\n",
       "\n",
       ".qcodes-output-view[qcodes-state=minimized] .qcodes-process-list {\n",
       "    max-width: 300px;\n",
       "}\n",
       "\n",
       ".qcodes-output-view span {\n",
       "    padding: 2px 6px 3px 12px;\n",
       "}\n",
       "\n",
       ".qcodes-output-view .btn {\n",
       "    margin: 0 3px 0 0;\n",
       "}\n",
       "\n",
       ".qcodes-output-view[qcodes-state=docked] .qcodes-docked,\n",
       ".qcodes-output-view[qcodes-state=floated] .qcodes-floated,\n",
       ".qcodes-output-view[qcodes-state=minimized] .qcodes-minimized,\n",
       ".qcodes-output-view[qcodes-state=minimized] .qcodes-content {\n",
       "    display: none;\n",
       "}\n",
       "\n",
       ".qcodes-output-view .disabled {\n",
       "    opacity: 0.4;\n",
       "}\n",
       "\n",
       ".qcodes-abort-loop {\n",
       "    background-color: #844;\n",
       "    color: #fff;\n",
       "}\n",
       "\n",
       ".qcodes-output-view pre {\n",
       "    clear: both;\n",
       "    margin: 0;\n",
       "    border: 0;\n",
       "    border-top: 1px solid #ccc;\n",
       "    background-color: #ffe;\n",
       "    min-height: 50px;\n",
       "    max-height: 400px;\n",
       "    min-width: 400px;\n",
       "    max-width: 1000px;\n",
       "}</style>"
      ],
      "text/plain": [
       "<IPython.core.display.HTML object>"
      ]
     },
     "metadata": {},
     "output_type": "display_data"
    }
   ],
   "source": [
    "%matplotlib nbagg\n",
    "import numpy as np\n",
    "from importlib import reload\n",
    "import qcodes as qc"
   ]
  },
  {
   "cell_type": "code",
   "execution_count": 3,
   "metadata": {
    "collapsed": false
   },
   "outputs": [],
   "source": [
    "import sys\n",
    "import logging\n",
    "# Create logger\n",
    "logger = logging.getLogger()\n",
    "logger.setLevel(logging.DEBUG)\n",
    "\n",
    "# Create STDERR handler\n",
    "handler = logging.StreamHandler(sys.stderr)\n",
    "# ch.setLevel(logging.DEBUG)\n",
    "\n",
    "# Create formatter and add it to the handler\n",
    "formatter = logging.Formatter('%(name)s - %(levelname)s - %(message)s')\n",
    "handler.setFormatter(formatter)\n",
    "\n",
    "# Set STDERR handler as the only handler \n",
    "logger.handlers = [handler]"
   ]
  },
  {
   "cell_type": "code",
   "execution_count": 55,
   "metadata": {
    "collapsed": false
   },
   "outputs": [],
   "source": [
    "from qcodes.data import hdf5_format\n",
    "reload(hdf5_format)\n",
    "h5fmt = hdf5_format.HDF5Format()"
   ]
  },
  {
   "cell_type": "markdown",
   "metadata": {},
   "source": [
    "# Start a loop and generate data from dummy instruments "
   ]
  },
  {
   "cell_type": "code",
   "execution_count": 56,
   "metadata": {
    "collapsed": false
   },
   "outputs": [],
   "source": [
    "station = qc.station.Station()"
   ]
  },
  {
   "cell_type": "code",
   "execution_count": 57,
   "metadata": {
    "collapsed": false
   },
   "outputs": [
    {
     "name": "stderr",
     "output_type": "stream",
     "text": [
      "root - WARNING - Error getting or interpreting *IDN?: ''\n"
     ]
    },
    {
     "data": {
      "text/plain": [
       "'MockParabola'"
      ]
     },
     "execution_count": 57,
     "metadata": {},
     "output_type": "execute_result"
    }
   ],
   "source": [
    "from qcodes.tests.instrument_mocks import MockParabola\n",
    "station.add_component(MockParabola(name='MockParabola', server_name=None))"
   ]
  },
  {
   "cell_type": "code",
   "execution_count": 58,
   "metadata": {
    "collapsed": false,
    "scrolled": true
   },
   "outputs": [
    {
     "name": "stdout",
     "output_type": "stream",
     "text": [
      "DataSet:\n",
      "   mode     = DataMode.LOCAL\n",
      "   location = '2016-08-28/00-12-24_MockParabola_run'\n",
      "   <Type>   | <array_id>                   | <array.name>    | <array.shape>\n",
      "   Setpoint | MockParabola_x_set           | x               | (10,)\n",
      "   Measured | MockParabola_skewed_parabola | skewed_parabola | (10,)\n",
      "started at 2016-08-28 00:12:24\n"
     ]
    }
   ],
   "source": [
    "loop = qc.Loop(station.MockParabola.x[-100:100:20]).each(station.MockParabola.skewed_parabola)\n",
    "# loop.run()\n",
    "data_l = loop.run(name='MockParabola_run', formatter=qc.data.gnuplot_format.GNUPlotFormat(), background=False, data_manager=False)\n",
    "\n"
   ]
  },
  {
   "cell_type": "code",
   "execution_count": null,
   "metadata": {
    "collapsed": true
   },
   "outputs": [],
   "source": []
  },
  {
   "cell_type": "code",
   "execution_count": 59,
   "metadata": {
    "collapsed": false
   },
   "outputs": [
    {
     "data": {
      "text/plain": [
       "(10,)"
      ]
     },
     "execution_count": 59,
     "metadata": {},
     "output_type": "execute_result"
    }
   ],
   "source": [
    "data_l.MockParabola_skewed_parabola.shape"
   ]
  },
  {
   "cell_type": "code",
   "execution_count": 60,
   "metadata": {
    "collapsed": false
   },
   "outputs": [
    {
     "name": "stderr",
     "output_type": "stream",
     "text": [
      "root - WARNING - List of type \"<class 'dict'>\" for \"actions:[{'name': 'skewed_parabola', 'instrument_name': 'MockParabola', 'instrument': 'qcodes.tests.instrument_mocks.MockParabola', 'ts': '2016-08-28 00:12:23', 'units': 'a.u.', 'label': 'skewed_parabola', 'value': array([ 0.]), '__class__': 'qcodes.instrument.parameter.StandardParameter'}]\" not supported, storing as string\n",
      "root - WARNING - List of type \"<class 'dict'>\" for \"values:[{'first': -100, 'last': 80, 'num': 10, 'type': 'linear'}]\" not supported, storing as string\n"
     ]
    }
   ],
   "source": [
    "data_l.formatter=h5fmt\n",
    "data_l.write()"
   ]
  },
  {
   "cell_type": "code",
   "execution_count": 61,
   "metadata": {
    "collapsed": true
   },
   "outputs": [],
   "source": [
    "from qcodes.tests import data_mocks"
   ]
  },
  {
   "cell_type": "code",
   "execution_count": 62,
   "metadata": {
    "collapsed": true
   },
   "outputs": [],
   "source": [
    "d1 = data_mocks.DataSet1D()"
   ]
  },
  {
   "cell_type": "code",
   "execution_count": 63,
   "metadata": {
    "collapsed": false
   },
   "outputs": [
    {
     "data": {
      "text/plain": [
       "(5,)"
      ]
     },
     "execution_count": 63,
     "metadata": {},
     "output_type": "execute_result"
    }
   ],
   "source": [
    "d1.arrays['x_set'].shape"
   ]
  },
  {
   "cell_type": "code",
   "execution_count": 64,
   "metadata": {
    "collapsed": false
   },
   "outputs": [],
   "source": [
    "d1.formatter=h5fmt\n",
    "d1.write()"
   ]
  },
  {
   "cell_type": "code",
   "execution_count": 65,
   "metadata": {
    "collapsed": false
   },
   "outputs": [
    {
     "name": "stderr",
     "output_type": "stream",
     "text": [
      "root - WARNING - List of type \"<class 'dict'>\" for \"values:[{'first': -100, 'last': 80, 'num': 10, 'type': 'linear'}]\" not supported, storing as string\n",
      "root - WARNING - List of type \"<class 'dict'>\" for \"actions:[{'name': 'skewed_parabola', 'label': 'skewed_parabola', 'instrument_name': 'MockParabola', 'instrument': 'qcodes.tests.instrument_mocks.MockParabola', 'ts': '2016-08-28 00:12:24', 'units': 'a.u.', 'value': array([ 518400.]), '__class__': 'qcodes.instrument.parameter.StandardParameter'}]\" not supported, storing as string\n",
      "root - WARNING - List of type \"<class 'dict'>\" for \"values:[{'first': -100, 'last': 80, 'num': 10, 'type': 'linear'}]\" not supported, storing as string\n",
      "root - WARNING - List of type \"<class 'dict'>\" for \"actions:[{'name': 'skewed_parabola', 'label': 'skewed_parabola', 'instrument_name': 'MockParabola', 'instrument': 'qcodes.tests.instrument_mocks.MockParabola', 'ts': '2016-08-28 00:12:24', 'units': 'a.u.', 'value': array([ 518400.]), '__class__': 'qcodes.instrument.parameter.StandardParameter'}]\" not supported, storing as string\n",
      "root - WARNING - List of type \"<class 'dict'>\" for \"values:[{'first': -100, 'last': 80, 'num': 10, 'type': 'linear'}]\" not supported, storing as string\n",
      "root - WARNING - List of type \"<class 'dict'>\" for \"actions:[{'name': 'skewed_parabola', 'label': 'skewed_parabola', 'instrument_name': 'MockParabola', 'instrument': 'qcodes.tests.instrument_mocks.MockParabola', 'ts': '2016-08-28 00:12:24', 'units': 'a.u.', 'value': array([ 518400.]), '__class__': 'qcodes.instrument.parameter.StandardParameter'}]\" not supported, storing as string\n",
      "root - WARNING - List of type \"<class 'dict'>\" for \"values:[{'first': -100, 'last': 80, 'num': 10, 'type': 'linear'}]\" not supported, storing as string\n",
      "root - WARNING - List of type \"<class 'dict'>\" for \"actions:[{'name': 'skewed_parabola', 'label': 'skewed_parabola', 'instrument_name': 'MockParabola', 'instrument': 'qcodes.tests.instrument_mocks.MockParabola', 'ts': '2016-08-28 00:12:24', 'units': 'a.u.', 'value': array([ 518400.]), '__class__': 'qcodes.instrument.parameter.StandardParameter'}]\" not supported, storing as string\n"
     ]
    },
    {
     "name": "stdout",
     "output_type": "stream",
     "text": [
      "DataSet:\n",
      "   mode     = DataMode.LOCAL\n",
      "   location = '2016-08-28/00-12-31_MockParabola_run'\n",
      "   <Type>   | <array_id>                   | <array.name>    | <array.shape>\n",
      "   Setpoint | MockParabola_x_set           | x               | (10,)\n",
      "   Measured | MockParabola_skewed_parabola | skewed_parabola | (10,)\n",
      "started at 2016-08-28 00:12:31\n"
     ]
    }
   ],
   "source": [
    "reload(hdf5_format)\n",
    "h5fmt = hdf5_format.HDF5Format()\n",
    "data_l = loop.run(name='MockParabola_run', formatter=h5fmt, background=False, data_manager=False)\n"
   ]
  },
  {
   "cell_type": "markdown",
   "metadata": {},
   "source": [
    "# Run the tests for the dataformat"
   ]
  },
  {
   "cell_type": "code",
   "execution_count": 66,
   "metadata": {
    "collapsed": false
   },
   "outputs": [
    {
     "data": {
      "text/plain": [
       "<module 'qcodes' from '/Users/Adriaan/GitHubRepos/DiCarloLab_Repositories/Qcodes/qcodes/__init__.py'>"
      ]
     },
     "execution_count": 66,
     "metadata": {},
     "output_type": "execute_result"
    }
   ],
   "source": [
    "from importlib import reload\n",
    "from qcodes.data import hdf5_format\n",
    "reload(hdf5_format)\n",
    "h5fmt = hdf5_format.HDF5Format()\n",
    "reload(qc)"
   ]
  },
  {
   "cell_type": "code",
   "execution_count": 67,
   "metadata": {
    "collapsed": false,
    "scrolled": false
   },
   "outputs": [
    {
     "name": "stderr",
     "output_type": "stream",
     "text": [
      "test_full_write_read_1D (qcodes.tests.test_hdf5formatter.TestHDF5_Format) ... ok\n",
      "test_full_write_read_2D (qcodes.tests.test_hdf5formatter.TestHDF5_Format) ... ok\n",
      "test_incremental_write (qcodes.tests.test_hdf5formatter.TestHDF5_Format) ... ok\n",
      "test_loop_writing (qcodes.tests.test_hdf5formatter.TestHDF5_Format) ... root - WARNING - Error getting or interpreting *IDN?: ''\n",
      "root - WARNING - List of type \"<class 'dict'>\" for \"values:[{'first': -100, 'last': 80, 'num': 10, 'type': 'linear'}]\" not supported, storing as string\n",
      "root - WARNING - List of type \"<class 'dict'>\" for \"actions:[{'name': 'skewed_parabola', 'value': array([ 0.]), 'instrument_name': 'MockParabola', 'instrument': 'qcodes.tests.instrument_mocks.MockParabola', 'ts': '2016-08-28 00:12:38', 'units': 'a.u.', 'label': 'skewed_parabola', '__class__': 'qcodes.instrument.parameter.StandardParameter'}]\" not supported, storing as string\n",
      "root - WARNING - List of type \"<class 'dict'>\" for \"values:[{'first': -100, 'last': 80, 'num': 10, 'type': 'linear'}]\" not supported, storing as string\n",
      "root - WARNING - List of type \"<class 'dict'>\" for \"actions:[{'name': 'skewed_parabola', 'value': array([ 0.]), 'instrument_name': 'MockParabola', 'instrument': 'qcodes.tests.instrument_mocks.MockParabola', 'ts': '2016-08-28 00:12:38', 'units': 'a.u.', 'label': 'skewed_parabola', '__class__': 'qcodes.instrument.parameter.StandardParameter'}]\" not supported, storing as string\n",
      "root - WARNING - List of type \"<class 'dict'>\" for \"values:[{'first': -100, 'last': 80, 'num': 10, 'type': 'linear'}]\" not supported, storing as string\n",
      "root - WARNING - List of type \"<class 'dict'>\" for \"actions:[{'name': 'skewed_parabola', 'value': array([ 0.]), 'instrument_name': 'MockParabola', 'instrument': 'qcodes.tests.instrument_mocks.MockParabola', 'ts': '2016-08-28 00:12:38', 'units': 'a.u.', 'label': 'skewed_parabola', '__class__': 'qcodes.instrument.parameter.StandardParameter'}]\" not supported, storing as string\n",
      "root - WARNING - List of type \"<class 'dict'>\" for \"values:[{'first': -100, 'last': 80, 'num': 10, 'type': 'linear'}]\" not supported, storing as string\n",
      "root - WARNING - List of type \"<class 'dict'>\" for \"actions:[{'name': 'skewed_parabola', 'value': array([ 0.]), 'instrument_name': 'MockParabola', 'instrument': 'qcodes.tests.instrument_mocks.MockParabola', 'ts': '2016-08-28 00:12:38', 'units': 'a.u.', 'label': 'skewed_parabola', '__class__': 'qcodes.instrument.parameter.StandardParameter'}]\" not supported, storing as string\n",
      "ERROR\n",
      "test_metadata_write_read (qcodes.tests.test_hdf5formatter.TestHDF5_Format) ... "
     ]
    },
    {
     "name": "stdout",
     "output_type": "stream",
     "text": [
      "DataSet:\n",
      "   mode     = DataMode.LOCAL\n",
      "   location = '/Users/Adriaan/GitHubRepos/DiCarloLab_Repositories/Qcodes/qcodes/unittest_data/2016-08-28/#010_MockLoop_hdf5_test_00-12-38'\n",
      "   <Type>   | <array_id>                   | <array.name>    | <array.shape>\n",
      "   Setpoint | MockParabola_x_set           | x               | (10,)\n",
      "   Measured | MockParabola_skewed_parabola | skewed_parabola | (10,)\n",
      "started at 2016-08-28 00:12:38\n"
     ]
    },
    {
     "name": "stderr",
     "output_type": "stream",
     "text": [
      "ok\n",
      "\n",
      "======================================================================\n",
      "ERROR: test_loop_writing (qcodes.tests.test_hdf5formatter.TestHDF5_Format)\n",
      "----------------------------------------------------------------------\n",
      "Traceback (most recent call last):\n",
      "  File \"/Users/Adriaan/GitHubRepos/DiCarloLab_Repositories/Qcodes/qcodes/tests/test_hdf5formatter.py\", line 147, in test_loop_writing\n",
      "    data2.read()\n",
      "  File \"/Users/Adriaan/GitHubRepos/DiCarloLab_Repositories/Qcodes/qcodes/data/data_set.py\", line 608, in read\n",
      "    self.formatter.read(self)\n",
      "  File \"/Users/Adriaan/GitHubRepos/DiCarloLab_Repositories/Qcodes/qcodes/data/hdf5_format.py\", line 38, in read\n",
      "    self.data_object = h5py.File(filepath, 'r+')\n",
      "  File \"/usr/local/lib/python3.5/site-packages/h5py/_hl/files.py\", line 272, in __init__\n",
      "    fid = make_fid(name, mode, userblock_size, fapl, swmr=swmr)\n",
      "  File \"/usr/local/lib/python3.5/site-packages/h5py/_hl/files.py\", line 94, in make_fid\n",
      "    fid = h5f.open(name, h5f.ACC_RDWR, fapl=fapl)\n",
      "  File \"h5py/_objects.pyx\", line 54, in h5py._objects.with_phil.wrapper (/Users/travis/build/MacPython/h5py-wheels/h5py/h5py/_objects.c:2687)\n",
      "  File \"h5py/_objects.pyx\", line 55, in h5py._objects.with_phil.wrapper (/Users/travis/build/MacPython/h5py-wheels/h5py/h5py/_objects.c:2645)\n",
      "  File \"h5py/h5f.pyx\", line 76, in h5py.h5f.open (/Users/travis/build/MacPython/h5py-wheels/h5py/h5py/h5f.c:1933)\n",
      "OSError: Unable to open file (Unable to open file: name = '/users/adriaan/githubrepos/dicarlolab_repositories/qcodes/qcodes/unittest_data/2016-08-28/#010_mockloop_hdf5_test_00-12-38', errno = 21, error message = 'is a directory', flags = 1, o_flags = 2)\n",
      "\n",
      "----------------------------------------------------------------------\n",
      "Ran 5 tests in 0.362s\n",
      "\n",
      "FAILED (errors=1)\n"
     ]
    }
   ],
   "source": [
    "reload(hdf5_format)\n",
    "import unittest\n",
    "h5fmt = hdf5_format.HDF5Format()\n",
    "import qcodes.tests.test_hdf5formatter as tf\n",
    "reload(tf)\n",
    "tst = tf.TestHDF5_Format\n",
    "suite = unittest.defaultTestLoader.loadTestsFromTestCase(tst)\n",
    "result = unittest.TextTestRunner(verbosity=2).run(suite)\n"
   ]
  },
  {
   "cell_type": "code",
   "execution_count": null,
   "metadata": {
    "collapsed": true
   },
   "outputs": [],
   "source": []
  }
 ],
 "metadata": {
  "kernelspec": {
   "display_name": "Python 3",
   "language": "python",
   "name": "python3"
  },
  "language_info": {
   "codemirror_mode": {
    "name": "ipython",
    "version": 3
   },
   "file_extension": ".py",
   "mimetype": "text/x-python",
   "name": "python",
   "nbconvert_exporter": "python",
   "pygments_lexer": "ipython3",
   "version": "3.5.1"
  },
  "widgets": {
   "state": {},
   "version": "1.1.1"
  }
 },
 "nbformat": 4,
 "nbformat_minor": 0
}
