{
 "cells": [
  {
   "cell_type": "code",
   "execution_count": 1,
   "metadata": {
    "collapsed": false
   },
   "outputs": [
    {
     "data": {
      "application/javascript": [
       "/*\n",
       " * Qcodes Jupyter/IPython widgets\n",
       " */\n",
       "require([\n",
       "    'nbextensions/widgets/widgets/js/widget',\n",
       "    'nbextensions/widgets/widgets/js/manager'\n",
       "], function (widget, manager) {\n",
       "\n",
       "    var UpdateView = widget.DOMWidgetView.extend({\n",
       "        render: function() {\n",
       "            window.MYWIDGET = this;\n",
       "            this._interval = 0;\n",
       "            this.update();\n",
       "        },\n",
       "        update: function() {\n",
       "            this.display(this.model.get('_message'));\n",
       "            this.setInterval();\n",
       "        },\n",
       "        display: function(message) {\n",
       "            /*\n",
       "             * display method: override this for custom display logic\n",
       "             */\n",
       "            this.el.innerHTML = message;\n",
       "        },\n",
       "        remove: function() {\n",
       "            clearInterval(this._updater);\n",
       "        },\n",
       "        setInterval: function(newInterval) {\n",
       "            var me = this;\n",
       "            if(newInterval===undefined) newInterval = me.model.get('interval');\n",
       "            if(newInterval===me._interval) return;\n",
       "\n",
       "            me._interval = newInterval;\n",
       "\n",
       "            if(me._updater) clearInterval(me._updater);\n",
       "\n",
       "            if(me._interval) {\n",
       "                me._updater = setInterval(function() {\n",
       "                    me.send({myupdate: true});\n",
       "                    if(!me.model.comm_live) {\n",
       "                        console.log('missing comm, canceling widget updates', me);\n",
       "                        clearInterval(me._updater);\n",
       "                    }\n",
       "                }, me._interval * 1000);\n",
       "            }\n",
       "        }\n",
       "    });\n",
       "    manager.WidgetManager.register_widget_view('UpdateView', UpdateView);\n",
       "\n",
       "    var HiddenUpdateView = UpdateView.extend({\n",
       "        display: function(message) {\n",
       "            this.$el.hide();\n",
       "        }\n",
       "    });\n",
       "    manager.WidgetManager.register_widget_view('HiddenUpdateView', HiddenUpdateView);\n",
       "\n",
       "    var SubprocessView = UpdateView.extend({\n",
       "        render: function() {\n",
       "            var me = window.SPVIEW = this;\n",
       "            me._interval = 0;\n",
       "            me._minimize = '<i class=\"fa-minus fa\"></i>';\n",
       "            me._restore = '<i class=\"fa-plus fa\"></i>';\n",
       "\n",
       "            // in case there is already an outputView present,\n",
       "            // like from before restarting the kernel\n",
       "            $('.qcodes-output-view').not(me.$el).remove();\n",
       "\n",
       "            me.$el\n",
       "                .addClass('qcodes-output-view')\n",
       "                .attr('qcodes-state', 'docked')\n",
       "                .html(\n",
       "                    '<div class=\"qcodes-output-header toolbar\">' +\n",
       "                        '<span></span>' +\n",
       "                        '<button class=\"btn qcodes-abort-loop disabled\">Abort</button>' +\n",
       "                        '<button class=\"btn qcodes-clear-output disabled qcodes-content\">Clear</button>' +\n",
       "                        '<button class=\"btn js-state qcodes-minimized\"><i class=\"fa-minus fa\"></i></button>' +\n",
       "                        '<button class=\"btn js-state qcodes-docked\"><i class=\"fa-toggle-up fa\"></i></button>' +\n",
       "                        '<button class=\"btn js-state qcodes-floated\"><i class=\"fa-arrows fa\"></i></button>' +\n",
       "                    '</div>' +\n",
       "                    '<pre class=\"qcodes-content\"></pre>'\n",
       "                );\n",
       "\n",
       "            me.clearButton = me.$el.find('.qcodes-clear-output');\n",
       "            me.minButton = me.$el.find('.qcodes-minimize');\n",
       "            me.outputArea = me.$el.find('pre');\n",
       "            me.subprocessList = me.$el.find('span');\n",
       "            me.abortButton = me.$el.find('.qcodes-abort-loop');\n",
       "\n",
       "            me.clearButton.click(function() {\n",
       "                me.outputArea.html('');\n",
       "                me.clearButton.addClass('disabled');\n",
       "            });\n",
       "\n",
       "            me.abortButton.click(function() {\n",
       "                me.send({abort: true});\n",
       "            });\n",
       "\n",
       "            me.$el.find('.js-state').click(function() {\n",
       "                var oldState = me.$el.attr('qcodes-state'),\n",
       "                    state = this.className.substr(this.className.indexOf('qcodes'))\n",
       "                        .split('-')[1].split(' ')[0];\n",
       "\n",
       "                // not sure why I can't pop it out of the widgetarea in render, but it seems that\n",
       "                // some other bit of code resets the parent after render if I do it there.\n",
       "                // To be safe, just do it on every state click.\n",
       "                me.$el.appendTo('body');\n",
       "\n",
       "                if(oldState === 'floated') {\n",
       "                    me.$el.draggable('destroy').css({left:'', top: ''});\n",
       "                }\n",
       "\n",
       "                me.$el.attr('qcodes-state', state);\n",
       "\n",
       "                if(state === 'floated') {\n",
       "                    me.$el.draggable().css({\n",
       "                        left: window.innerWidth - me.$el.width() - 15,\n",
       "                        top: window.innerHeight - me.$el.height() - 10\n",
       "                    });\n",
       "                }\n",
       "            });\n",
       "\n",
       "            $(window).resize(function() {\n",
       "                if(me.$el.attr('qcodes-state') === 'floated') {\n",
       "                    var position = me.$el.position(),\n",
       "                        minVis = 20,\n",
       "                        maxLeft = window.innerWidth - minVis,\n",
       "                        maxTop = window.innerHeight - minVis;\n",
       "\n",
       "                    if(position.left > maxLeft) me.$el.css('left', maxLeft);\n",
       "                    if(position.top > maxTop) me.$el.css('top', maxTop);\n",
       "                }\n",
       "            });\n",
       "\n",
       "            me.update();\n",
       "        },\n",
       "\n",
       "        display: function(message) {\n",
       "            if(message) {\n",
       "                var initialScroll = this.outputArea.scrollTop();\n",
       "                this.outputArea.scrollTop(this.outputArea.prop('scrollHeight'));\n",
       "                var scrollBottom = this.outputArea.scrollTop();\n",
       "\n",
       "                if(this.$el.attr('qcodes-state') === 'minimized') {\n",
       "                    this.$el.find('.qcodes-docked').click();\n",
       "                    // always scroll to the bottom if we're restoring\n",
       "                    // because of a new message\n",
       "                    initialScroll = scrollBottom;\n",
       "                }\n",
       "\n",
       "                this.outputArea.append(message);\n",
       "                this.clearButton.removeClass('disabled');\n",
       "\n",
       "                // if we were scrolled to the bottom initially, make sure\n",
       "                // we stay that way.\n",
       "                this.outputArea.scrollTop(initialScroll === scrollBottom ?\n",
       "                    this.outputArea.prop('scrollHeight') : initialScroll);\n",
       "            }\n",
       "\n",
       "            var processes = this.model.get('_processes') || 'No subprocesses';\n",
       "            this.abortButton.toggleClass('disabled', processes.indexOf('Measurement')===-1);\n",
       "            this.subprocessList.text(processes);\n",
       "        }\n",
       "    });\n",
       "    manager.WidgetManager.register_widget_view('SubprocessView', SubprocessView);\n",
       "});\n"
      ],
      "text/plain": [
       "<IPython.core.display.Javascript object>"
      ]
     },
     "metadata": {},
     "output_type": "display_data"
    },
    {
     "data": {
      "text/html": [
       "<style>.qcodes-output-view:not(.ui-draggable) {\n",
       "    bottom: 0;\n",
       "    right: 5px;\n",
       "}\n",
       ".qcodes-output-view {\n",
       "    position: fixed;\n",
       "    z-index: 999;\n",
       "    background-color: #fff;\n",
       "    box-shadow: 0 0 12px 1px rgba(87, 87, 87, 0.2);\n",
       "}\n",
       "\n",
       ".qcodes-output-header  {\n",
       "    float: right;\n",
       "}\n",
       "\n",
       ".qcodes-output-view span {\n",
       "    padding: 2px 6px 3px 12px;\n",
       "}\n",
       "\n",
       ".qcodes-output-view .btn {\n",
       "    margin: 0 3px 0 0;\n",
       "}\n",
       "\n",
       ".qcodes-output-view[qcodes-state=docked] .qcodes-docked,\n",
       ".qcodes-output-view[qcodes-state=floated] .qcodes-floated,\n",
       ".qcodes-output-view[qcodes-state=minimized] .qcodes-minimized,\n",
       ".qcodes-output-view[qcodes-state=minimized] .qcodes-content {\n",
       "    display: none;\n",
       "}\n",
       "\n",
       ".qcodes-output-view .disabled {\n",
       "    opacity: 0.4;\n",
       "}\n",
       "\n",
       ".qcodes-abort-loop {\n",
       "    background-color: #844;\n",
       "    color: #fff;\n",
       "}\n",
       "\n",
       ".qcodes-output-view pre {\n",
       "    clear: both;\n",
       "    margin: 0;\n",
       "    border: 0;\n",
       "    border-top: 1px solid #ccc;\n",
       "    background-color: #ffe;\n",
       "    min-height: 50px;\n",
       "    max-height: 400px;\n",
       "    min-width: 400px;\n",
       "    max-width: 1000px;\n",
       "}</style>"
      ],
      "text/plain": [
       "<IPython.core.display.HTML object>"
      ]
     },
     "metadata": {},
     "output_type": "display_data"
    },
    {
     "name": "stdout",
     "output_type": "stream",
     "text": [
      "pyqtgraph plotting not supported, try \"from qcodes.plots.pyqtgraph import QtPlot\" to see the full error\n"
     ]
    },
    {
     "data": {
      "text/plain": [
       "DataSet: DataMode.LOCAL, location='testsweep',\n",
       "   chan0: None\n",
       "   amplitude: None\n",
       "io: <DiskIO, base_location=/Users/Adriaan/GitHubRepos/DiCarloLab_Repositories/Qcodes/docs/examples>\n",
       "datamode: DataMode.LOCAL"
      ]
     },
     "execution_count": 1,
     "metadata": {},
     "output_type": "execute_result"
    }
   ],
   "source": [
    "%matplotlib nbagg\n",
    "from importlib import reload\n",
    "import qcodes as qc\n",
    "data = qc.load_data('testsweep')\n",
    "data"
   ]
  },
  {
   "cell_type": "code",
   "execution_count": 2,
   "metadata": {
    "collapsed": false,
    "scrolled": false
   },
   "outputs": [],
   "source": [
    "data = qc.load_data('testsweep') # Load data from the default location? \n",
    "data\n",
    "data.io.base_location+='/data'"
   ]
  },
  {
   "cell_type": "code",
   "execution_count": 3,
   "metadata": {
    "collapsed": false
   },
   "outputs": [],
   "source": [
    "from qcodes.data import hdf5_format\n",
    "reload(hdf5_format)\n",
    "h5fmt = hdf5_format.HDF5Format()\n",
    "data.formatter = h5fmt"
   ]
  },
  {
   "cell_type": "markdown",
   "metadata": {},
   "source": [
    "# Start a loop and generate data from dummy instruments "
   ]
  },
  {
   "cell_type": "code",
   "execution_count": 4,
   "metadata": {
    "collapsed": false
   },
   "outputs": [],
   "source": [
    "station = qc.station.Station()"
   ]
  },
  {
   "cell_type": "code",
   "execution_count": 45,
   "metadata": {
    "collapsed": false
   },
   "outputs": [
    {
     "data": {
      "text/plain": [
       "'MockParabola_2'"
      ]
     },
     "execution_count": 45,
     "metadata": {},
     "output_type": "execute_result"
    }
   ],
   "source": [
    "from qcodes.tests.instrument_mocks import MockParabola\n",
    "station.add_instrument(MockParabola(name='MockParabola'))"
   ]
  },
  {
   "cell_type": "code",
   "execution_count": 53,
   "metadata": {
    "collapsed": false
   },
   "outputs": [
    {
     "name": "stdout",
     "output_type": "stream",
     "text": [
      "DataSet: DataMode.PULL_FROM_SERVER, location='2016-05-16/23-09-19_MockParabola_run',\n",
      "   skewed_parabola: skewed_parabola\n",
      "   x: x\n",
      "io: <DiskIO, base_location=/Users/Adriaan/GitHubRepos/DiCarloLab_Repositories/Qcodes/docs/examples/data>\n",
      "datamode: DataMode.PULL_FROM_SERVER\n",
      "started at 2016-05-16 23:09:19\n"
     ]
    }
   ],
   "source": [
    "loop = qc.Loop(station.MockParabola.x[-100:100:20]).each(station.MockParabola.skewed_parabola)\n",
    "# data_l = loop.run(name='MockParabola_run', formatter=qc.data.gnuplot_format.GNUPlotFormat())\n",
    "\n",
    "data_l = loop.run(name='MockParabola_run', formatter=h5fmt)\n"
   ]
  },
  {
   "cell_type": "code",
   "execution_count": 54,
   "metadata": {
    "collapsed": false
   },
   "outputs": [
    {
     "data": {
      "text/plain": [
       "{'skewed_parabola': DataArray[10]: skewed_parabola\n",
       " array([ 1010000.,   518400.,   219600.,    65600.,     8400.,        0.,\n",
       "            8400.,    65600.,   219600.,   518400.]), 'x': DataArray[10]: x\n",
       " array([-100.,  -80.,  -60.,  -40.,  -20.,    0.,   20.,   40.,   60.,   80.])}"
      ]
     },
     "execution_count": 54,
     "metadata": {},
     "output_type": "execute_result"
    }
   ],
   "source": [
    "data_l.sync()\n",
    "data_l.arrays"
   ]
  },
  {
   "cell_type": "code",
   "execution_count": 56,
   "metadata": {
    "collapsed": true
   },
   "outputs": [],
   "source": [
    "data_l.write()"
   ]
  },
  {
   "cell_type": "code",
   "execution_count": 59,
   "metadata": {
    "collapsed": false,
    "scrolled": true
   },
   "outputs": [],
   "source": [
    "fp = data_l.formatter.filepath"
   ]
  },
  {
   "cell_type": "code",
   "execution_count": 61,
   "metadata": {
    "collapsed": false
   },
   "outputs": [
    {
     "ename": "TypeError",
     "evalue": "read() takes 1 positional argument but 2 were given",
     "output_type": "error",
     "traceback": [
      "\u001b[0;31m---------------------------------------------------------------------------\u001b[0m",
      "\u001b[0;31mTypeError\u001b[0m                                 Traceback (most recent call last)",
      "\u001b[0;32m<ipython-input-61-b0d1e0c8632f>\u001b[0m in \u001b[0;36m<module>\u001b[0;34m()\u001b[0m\n\u001b[0;32m----> 1\u001b[0;31m \u001b[0mdata_l\u001b[0m\u001b[0;34m.\u001b[0m\u001b[0mread\u001b[0m\u001b[0;34m(\u001b[0m\u001b[0mfp\u001b[0m\u001b[0;34m)\u001b[0m\u001b[0;34m\u001b[0m\u001b[0m\n\u001b[0m",
      "\u001b[0;31mTypeError\u001b[0m: read() takes 1 positional argument but 2 were given"
     ]
    }
   ],
   "source": [
    ")"
   ]
  },
  {
   "cell_type": "code",
   "execution_count": 30,
   "metadata": {
    "collapsed": false
   },
   "outputs": [],
   "source": [
    "from qcodes.tests.data_mocks import *"
   ]
  },
  {
   "cell_type": "code",
   "execution_count": 44,
   "metadata": {
    "collapsed": false
   },
   "outputs": [
    {
     "name": "stdout",
     "output_type": "stream",
     "text": [
      "['X', 'Y'] \n",
      " ['x', 'y'] \n",
      " ['', '']\n",
      "(0, 2)\n",
      "(5, 2)\n"
     ]
    }
   ],
   "source": [
    "arr1d.formatter = h5fmt\n",
    "arr1d.write()"
   ]
  },
  {
   "cell_type": "markdown",
   "metadata": {},
   "source": [
    "# Run the tests for the dataformat"
   ]
  },
  {
   "cell_type": "code",
   "execution_count": 42,
   "metadata": {
    "collapsed": false
   },
   "outputs": [],
   "source": [
    "from qcodes.data import hdf5_format\n",
    "reload(hdf5_format)\n",
    "h5fmt = hdf5_format.HDF5Format()\n",
    "data.formatter = h5fmt"
   ]
  },
  {
   "cell_type": "code",
   "execution_count": 44,
   "metadata": {
    "collapsed": false,
    "scrolled": false
   },
   "outputs": [
    {
     "name": "stderr",
     "output_type": "stream",
     "text": [
      "test_constructor_errors (qcodes.tests.test_format.TestHDF5_Format) ... ok\n",
      "test_full_write_read (qcodes.tests.test_format.TestHDF5_Format) ... FAIL\n",
      "test_incremental_write (qcodes.tests.test_format.TestHDF5_Format) ... FAIL\n",
      "test_multifile (qcodes.tests.test_format.TestHDF5_Format) ... ok\n",
      "test_no_nest (qcodes.tests.test_format.TestHDF5_Format) ... ok\n",
      "test_read_errors (qcodes.tests.test_format.TestHDF5_Format) ... "
     ]
    },
    {
     "name": "stdout",
     "output_type": "stream",
     "text": [
      "Full read/write works except for the set array\n"
     ]
    },
    {
     "name": "stderr",
     "output_type": "stream",
     "text": [
      "ok\n",
      "\n",
      "======================================================================\n",
      "FAIL: test_full_write_read (qcodes.tests.test_format.TestHDF5_Format)\n",
      "----------------------------------------------------------------------\n",
      "Traceback (most recent call last):\n",
      "  File \"/Users/Adriaan/GitHubRepos/DiCarloLab_Repositories/Qcodes/qcodes/tests/test_format.py\", line 467, in test_full_write_read\n",
      "    self.checkArraysEqual(data2.y, data.y)\n",
      "  File \"/Users/Adriaan/GitHubRepos/DiCarloLab_Repositories/Qcodes/qcodes/tests/test_format.py\", line 429, in checkArraysEqual\n",
      "    self.assertEqual(len(a.set_arrays), len(b.set_arrays))\n",
      "AssertionError: 0 != 1\n",
      "\n",
      "======================================================================\n",
      "FAIL: test_incremental_write (qcodes.tests.test_format.TestHDF5_Format)\n",
      "----------------------------------------------------------------------\n",
      "Traceback (most recent call last):\n",
      "  File \"/Users/Adriaan/GitHubRepos/DiCarloLab_Repositories/Qcodes/qcodes/tests/test_format.py\", line 511, in test_incremental_write\n",
      "    self.checkArraysEqual(data2.y, data_copy.y)\n",
      "  File \"/Users/Adriaan/GitHubRepos/DiCarloLab_Repositories/Qcodes/qcodes/tests/test_format.py\", line 427, in checkArraysEqual\n",
      "    self.checkArrayAttrs(a, b)\n",
      "  File \"/Users/Adriaan/GitHubRepos/DiCarloLab_Repositories/Qcodes/qcodes/tests/test_format.py\", line 434, in checkArrayAttrs\n",
      "    self.assertEqual(a.tolist(), b.tolist())\n",
      "AssertionError: Lists differ: [nan, nan, nan, nan, nan] != [3.0, 4.0, 5.0, 6.0, 7.0]\n",
      "\n",
      "First differing element 0:\n",
      "nan\n",
      "3.0\n",
      "\n",
      "- [nan, nan, nan, nan, nan]\n",
      "+ [3.0, 4.0, 5.0, 6.0, 7.0]\n",
      "\n",
      "----------------------------------------------------------------------\n",
      "Ran 6 tests in 0.034s\n",
      "\n",
      "FAILED (failures=2)\n"
     ]
    }
   ],
   "source": [
    "import unittest\n",
    "import qcodes.tests.test_format as tf\n",
    "reload(tf)\n",
    "tst = tf.TestHDF5_Format\n",
    "suite = unittest.defaultTestLoader.loadTestsFromTestCase(tst)\n",
    "result = unittest.TextTestRunner(verbosity=3).run(suite)\n"
   ]
  },
  {
   "cell_type": "code",
   "execution_count": null,
   "metadata": {
    "collapsed": true
   },
   "outputs": [],
   "source": []
  }
 ],
 "metadata": {
  "kernelspec": {
   "display_name": "Python 3",
   "language": "python",
   "name": "python3"
  },
  "language_info": {
   "codemirror_mode": {
    "name": "ipython",
    "version": 3
   },
   "file_extension": ".py",
   "mimetype": "text/x-python",
   "name": "python",
   "nbconvert_exporter": "python",
   "pygments_lexer": "ipython3",
   "version": "3.5.1"
  },
  "widgets": {
   "state": {},
   "version": "1.1.1"
  }
 },
 "nbformat": 4,
 "nbformat_minor": 0
}
