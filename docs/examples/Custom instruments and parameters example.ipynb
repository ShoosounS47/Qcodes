{
 "cells": [
  {
   "cell_type": "code",
   "execution_count": 1,
   "metadata": {
    "collapsed": false
   },
   "outputs": [],
   "source": [
    "%matplotlib nbagg\n",
    "import numpy as np\n",
    "import matplotlib.pyplot as plt\n",
    "# load the qcodes path, until we have this installed as a package\n",
    "import sys\n",
    "\n",
    "# qcpath = '/Users/Adriaan/Githubrepos/Qcodes'\n",
    "qcpath = 'D:\\GitHubRepos\\Qcodes'\n",
    "if qcpath not in sys.path:\n",
    "    sys.path.append(qcpath)\n",
    "\n",
    "# We still need to agree on a good import abreviation, import as q, import as qc? \n",
    "import qcodes as qc \n",
    "qc.set_mp_method('spawn')  # force Windows behavior on mac"
   ]
  },
  {
   "cell_type": "code",
   "execution_count": 2,
   "metadata": {
    "collapsed": false
   },
   "outputs": [
    {
     "data": {
      "text/plain": [
       "[]"
      ]
     },
     "execution_count": 2,
     "metadata": {},
     "output_type": "execute_result"
    }
   ],
   "source": [
    "# no extra processes running yet\n",
    "qc.active_children()"
   ]
  },
  {
   "cell_type": "markdown",
   "metadata": {},
   "source": [
    "# Making a mock model and experiment. \n",
    "This notebook is intended to explain how to make an instrument driver and learn to work with custom parameters. The code in the notebook is based on Qcodes.toymodel used in the QCodes example.ipynb. \n",
    "\n",
    "## The toymodel \n",
    "In this example we work with a toy model that returns a simple Lorentzian function with some noise. \n",
    "It depends on two input parameters, x and y and returns a single value with _output. \n",
    "\n",
    "The \"ask()\" and \"write()\" functions are there to emulate string based communications similar to a VISA or ethernet socket. "
   ]
  },
  {
   "cell_type": "code",
   "execution_count": 3,
   "metadata": {
    "collapsed": false
   },
   "outputs": [],
   "source": [
    "class ToyLorentzianModel(object): \n",
    "    '''\n",
    "    A simple 2D-Lorentzian. \n",
    "    '''\n",
    "    def __init__(self): \n",
    "        self.x = 0\n",
    "        self.y = 0 \n",
    "    \n",
    "    def _output(self): \n",
    "        '''\n",
    "        Returns the 2D lorentzian based on what x and y are set. \n",
    "        '''\n",
    "        Gamma_x = .3 \n",
    "        Gamma_y = .05\n",
    "        noise_amplitude = .2\n",
    "        x0 = .23\n",
    "        y0 = .21\n",
    "        xL = self.lor_func(self.x, x0, Gamma_x)\n",
    "        yL = self.lor_func(self.y, y0, Gamma_y)\n",
    "        zL = xL + yL + noise_amplitude*np.random.random()\n",
    "        return zL\n",
    "        \n",
    "    def lor_func(self, x, x0=0, Gamma = 1): \n",
    "        return Gamma/(2*np.pi*((x-x0)**2+(.5*Gamma)**2))\n",
    "    \n",
    "    # Write and ask functions exist only to conform to the structure of the \n",
    "    # MockInstrument. It exists to emulate writing strings on VISA or ethernet ports. \n",
    "    def ask(self, instrument, parameter): \n",
    "        if parameter == 'x':\n",
    "            return self.x\n",
    "        elif parameter == 'y':\n",
    "            return self.y \n",
    "        elif parameter =='ampl': \n",
    "            return self._output()\n",
    "        else: \n",
    "            raise KeyError('Parameter \"%s\" not recognized' %parameter)\n",
    "        \n",
    "    def write(self, instrument, parameter, value):\n",
    "        if parameter == 'x': \n",
    "            self.x = float(value) # Conversion is required because write passes strings\n",
    "        elif parameter == 'y':\n",
    "            self.y = float(value)\n",
    "        else: \n",
    "            raise KeyError('Could not set parameter \"%s\"' %parameter)\n",
    "\n",
    "toy_model = ToyLorentzianModel() "
   ]
  },
  {
   "cell_type": "markdown",
   "metadata": {},
   "source": [
    "\n",
    "## Example 1, making use of the existing instrument syntax \n",
    "1. Make a custom model to talk to for my instruments: \n",
    "    2D Lorentzian with noise \n",
    "2. Make a single Mock instrument that sets two parameters \n",
    "3. Make a mock instrument that gets these parameters \n",
    "4. Add it all to a measurement loop \n",
    "\n"
   ]
  },
  {
   "cell_type": "code",
   "execution_count": 4,
   "metadata": {
    "collapsed": false
   },
   "outputs": [
    {
     "name": "stdout",
     "output_type": "stream",
     "text": [
      "Mock instrument docstring:\n",
      "\n",
      "    Creates a software instrument, for modeling or testing\n",
      "    inputs:\n",
      "        name: (string) the name of this instrument\n",
      "        delay: the time (in seconds) to wait after any operation\n",
      "            to simulate communication delay\n",
      "        model: an object with write and ask methods, taking 2 or 3 args:\n",
      "            instrument: the name of the instrument\n",
      "            parameter: the name of the parameter\n",
      "            value (write only): the value to write, as a string\n",
      "\n",
      "    parameters to pass to model should be declared with:\n",
      "        get_cmd = param_name + '?'\n",
      "        set_cmd = param_name + ' {:.3f}' (specify the format & precision)\n",
      "    alternatively independent functions may still be provided.\n",
      "    \n"
     ]
    }
   ],
   "source": [
    "import inspect # In order to print the docstring in the notebook\n",
    "from qcodes.instrument.mock import MockInstrument\n",
    "print('Mock instrument docstring:')\n",
    "print(MockInstrument.__doc__)"
   ]
  },
  {
   "cell_type": "markdown",
   "metadata": {},
   "source": [
    "## Adding parameters \n",
    "The MockInstrument has an add parameter function that adds an instance of the instrument parameter function. "
   ]
  },
  {
   "cell_type": "code",
   "execution_count": 5,
   "metadata": {
    "collapsed": false
   },
   "outputs": [
    {
     "name": "stdout",
     "output_type": "stream",
     "text": [
      "Mock instrument add_parameter docstring (inherited from base.Instrument):\n",
      "\n",
      "        binds one InstrumentParameter to this instrument.\n",
      "\n",
      "        instrument subclasses can call this repeatedly in their __init__\n",
      "        for every real parameter of the instrument.\n",
      "\n",
      "        In this sense, parameters are the state variables of the instrument,\n",
      "        anything the user can set and/or get\n",
      "\n",
      "        `name` is how the InstrumentParameter will be stored within\n",
      "        instrument.parameters and also how you  address it using the\n",
      "        shortcut methods:\n",
      "        instrument.set(param_name, value) etc.\n",
      "\n",
      "        see InstrumentParameter for the list of kwargs\n",
      "        \n"
     ]
    }
   ],
   "source": [
    "print('Mock instrument add_parameter docstring (inherited from base.Instrument):')\n",
    "print(MockInstrument.add_parameter.__doc__)"
   ]
  },
  {
   "cell_type": "code",
   "execution_count": 6,
   "metadata": {
    "collapsed": false,
    "scrolled": false
   },
   "outputs": [],
   "source": [
    "from qcodes.utils.validators import Numbers # Used to validate inputs\n",
    "class ToySetInstrument(MockInstrument): \n",
    "    '''\n",
    "    Inherits from the MockInstrument to get all the built in \n",
    "    functionality. \n",
    "    '''\n",
    "    def __init__(self, name, **kw):\n",
    "        super().__init__(name, **kw)\n",
    "        # Example Mock Instrument makes use of write and ask\n",
    "        parnames = ['x','y']\n",
    "        for parname in parnames: \n",
    "            self.add_parameter( #adds an instance of the Parameter class \n",
    "                name=parname, \n",
    "                get_cmd=parname+'?', # Specifies the get command\n",
    "                set_cmd=parname+' {:.4f}',  # And the set command, {:.4f} specifies the precision\n",
    "                parse_function=float, # parses the string that get returns \n",
    "                vals=Numbers(-100, 100)) # A validator can be used to apply constraints \n",
    "            \n",
    "class ToyGetInstrument(MockInstrument): \n",
    "    def __init__(self, name, **kw):\n",
    "        super().__init__(name, **kw)\n",
    "        self.add_parameter(\n",
    "            name='amplitude', \n",
    "            get_cmd='ampl'+'?', \n",
    "            parse_function=float)   "
   ]
  },
  {
   "cell_type": "code",
   "execution_count": 7,
   "metadata": {
    "collapsed": true
   },
   "outputs": [],
   "source": [
    "set_instrument = ToySetInstrument(name='Toy_setter', model=toy_model)\n",
    "get_instrument = ToyGetInstrument(name='Toy_getter', model=toy_model)"
   ]
  },
  {
   "cell_type": "markdown",
   "metadata": {},
   "source": [
    "### Testing the get and set functions of the different parameters "
   ]
  },
  {
   "cell_type": "code",
   "execution_count": 8,
   "metadata": {
    "collapsed": false
   },
   "outputs": [
    {
     "name": "stdout",
     "output_type": "stream",
     "text": [
      "Get x and ampl\n",
      "0.0 0.8771442778541299 \n",
      "\n",
      "set x and then get x and ampl again\n",
      "3.2136 0.20098698045810112\n",
      "3.2136 0.2632376452823068\n"
     ]
    }
   ],
   "source": [
    "# it's nice to have the key parameters be part of the global namespace\n",
    "# that way they're objects that we can easily set, get, and slice\n",
    "\n",
    "# there are multiple ways of addressing a parameter that is part of an instrument\n",
    "x_par, y_par, ampl_par = set_instrument.parameters['x'],  set_instrument['y'], get_instrument.amplitude\n",
    "x_par.set(0); y_par.set(0) # Make sure all pars are set to 0\n",
    "print('Get x and ampl')\n",
    "print(x_par.get(), ampl_par.get(), '\\n')\n",
    "\n",
    "\n",
    "print('set x and then get x and ampl again')\n",
    "x_par.set(3.2135643) #printing x_par should demonstrate the rounding to 4 digits\n",
    "print(x_par.get(), ampl_par.get()) #The amplitude should vary due to the noise I added to the model\n",
    "print(x_par.get(), ampl_par.get())\n"
   ]
  },
  {
   "cell_type": "markdown",
   "metadata": {},
   "source": [
    "## Using the toymodel in a Qcodes Loop()"
   ]
  },
  {
   "cell_type": "code",
   "execution_count": 9,
   "metadata": {
    "collapsed": false,
    "scrolled": true
   },
   "outputs": [
    {
     "data": {
      "text/plain": [
       "[0.3256674977981221]"
      ]
     },
     "execution_count": 9,
     "metadata": {},
     "output_type": "execute_result"
    }
   ],
   "source": [
    "# We add the existing instruments to the qcodes station \n",
    "station = qc.Station(set_instrument, get_instrument)\n",
    "# Define the 'default' measurement (this is a style I would discourage as explicit is better than impl)\n",
    "station.set_measurement(ampl_par)\n",
    "station.measure()"
   ]
  },
  {
   "cell_type": "code",
   "execution_count": 10,
   "metadata": {
    "collapsed": false
   },
   "outputs": [],
   "source": [
    "current_loop = qc.Loop(x_par[-40:40:0.1], 0.03)"
   ]
  },
  {
   "cell_type": "code",
   "execution_count": 11,
   "metadata": {
    "collapsed": false
   },
   "outputs": [
    {
     "data": {
      "text/plain": [
       "[]"
      ]
     },
     "execution_count": 11,
     "metadata": {},
     "output_type": "execute_result"
    }
   ],
   "source": [
    "qc.active_children()"
   ]
  },
  {
   "cell_type": "code",
   "execution_count": 12,
   "metadata": {
    "collapsed": false,
    "scrolled": false
   },
   "outputs": [
    {
     "ename": "BrokenPipeError",
     "evalue": "[Errno 32] Broken pipe",
     "output_type": "error",
     "traceback": [
      "\u001b[1;31m---------------------------------------------------------------------------\u001b[0m",
      "\u001b[1;31mBrokenPipeError\u001b[0m                           Traceback (most recent call last)",
      "\u001b[1;32m<ipython-input-12-d9b15edd2921>\u001b[0m in \u001b[0;36m<module>\u001b[1;34m()\u001b[0m\n\u001b[1;32m----> 1\u001b[1;33m \u001b[0mdata\u001b[0m\u001b[1;33m=\u001b[0m\u001b[0mcurrent_loop\u001b[0m\u001b[1;33m.\u001b[0m\u001b[0mrun\u001b[0m\u001b[1;33m(\u001b[0m\u001b[0mlocation\u001b[0m\u001b[1;33m=\u001b[0m\u001b[1;34m'test_sweep_toy'\u001b[0m\u001b[1;33m)\u001b[0m\u001b[1;33m\u001b[0m\u001b[0m\n\u001b[0m",
      "\u001b[1;32mD:\\GitHubRepos\\Qcodes\\qcodes\\loops.py\u001b[0m in \u001b[0;36mrun\u001b[1;34m(self, *args, **kwargs)\u001b[0m\n\u001b[0;32m    159\u001b[0m         '''\n\u001b[0;32m    160\u001b[0m         \u001b[0mdefault\u001b[0m \u001b[1;33m=\u001b[0m \u001b[0mStation\u001b[0m\u001b[1;33m.\u001b[0m\u001b[0mdefault\u001b[0m\u001b[1;33m.\u001b[0m\u001b[0mdefault_measurement\u001b[0m\u001b[1;33m\u001b[0m\u001b[0m\n\u001b[1;32m--> 161\u001b[1;33m         \u001b[1;32mreturn\u001b[0m \u001b[0mself\u001b[0m\u001b[1;33m.\u001b[0m\u001b[0meach\u001b[0m\u001b[1;33m(\u001b[0m\u001b[1;33m*\u001b[0m\u001b[0mdefault\u001b[0m\u001b[1;33m)\u001b[0m\u001b[1;33m.\u001b[0m\u001b[0mrun\u001b[0m\u001b[1;33m(\u001b[0m\u001b[1;33m*\u001b[0m\u001b[0margs\u001b[0m\u001b[1;33m,\u001b[0m \u001b[1;33m**\u001b[0m\u001b[0mkwargs\u001b[0m\u001b[1;33m)\u001b[0m\u001b[1;33m\u001b[0m\u001b[0m\n\u001b[0m\u001b[0;32m    162\u001b[0m \u001b[1;33m\u001b[0m\u001b[0m\n\u001b[0;32m    163\u001b[0m \u001b[1;33m\u001b[0m\u001b[0m\n",
      "\u001b[1;32mD:\\GitHubRepos\\Qcodes\\qcodes\\loops.py\u001b[0m in \u001b[0;36mrun\u001b[1;34m(self, location, formatter, io, data_manager, background, use_async, enqueue, quiet)\u001b[0m\n\u001b[0;32m    398\u001b[0m             \u001b[0mp\u001b[0m\u001b[1;33m.\u001b[0m\u001b[0mis_sweep\u001b[0m \u001b[1;33m=\u001b[0m \u001b[1;32mTrue\u001b[0m\u001b[1;33m\u001b[0m\u001b[0m\n\u001b[0;32m    399\u001b[0m             \u001b[0mp\u001b[0m\u001b[1;33m.\u001b[0m\u001b[0msignal_queue\u001b[0m \u001b[1;33m=\u001b[0m \u001b[0mself\u001b[0m\u001b[1;33m.\u001b[0m\u001b[0msignal_queue\u001b[0m\u001b[1;33m\u001b[0m\u001b[0m\n\u001b[1;32m--> 400\u001b[1;33m             \u001b[0mp\u001b[0m\u001b[1;33m.\u001b[0m\u001b[0mstart\u001b[0m\u001b[1;33m(\u001b[0m\u001b[1;33m)\u001b[0m\u001b[1;33m\u001b[0m\u001b[0m\n\u001b[0m\u001b[0;32m    401\u001b[0m             \u001b[0mself\u001b[0m\u001b[1;33m.\u001b[0m\u001b[0mdata_set\u001b[0m\u001b[1;33m.\u001b[0m\u001b[0msync\u001b[0m\u001b[1;33m(\u001b[0m\u001b[1;33m)\u001b[0m\u001b[1;33m\u001b[0m\u001b[0m\n\u001b[0;32m    402\u001b[0m             \u001b[0mself\u001b[0m\u001b[1;33m.\u001b[0m\u001b[0mdata_set\u001b[0m\u001b[1;33m.\u001b[0m\u001b[0mmode\u001b[0m \u001b[1;33m=\u001b[0m \u001b[0mDataMode\u001b[0m\u001b[1;33m.\u001b[0m\u001b[0mPULL_FROM_SERVER\u001b[0m\u001b[1;33m\u001b[0m\u001b[0m\n",
      "\u001b[1;32mC:\\Anaconda3\\lib\\multiprocessing\\process.py\u001b[0m in \u001b[0;36mstart\u001b[1;34m(self)\u001b[0m\n\u001b[0;32m    103\u001b[0m                \u001b[1;34m'daemonic processes are not allowed to have children'\u001b[0m\u001b[1;33m\u001b[0m\u001b[0m\n\u001b[0;32m    104\u001b[0m         \u001b[0m_cleanup\u001b[0m\u001b[1;33m(\u001b[0m\u001b[1;33m)\u001b[0m\u001b[1;33m\u001b[0m\u001b[0m\n\u001b[1;32m--> 105\u001b[1;33m         \u001b[0mself\u001b[0m\u001b[1;33m.\u001b[0m\u001b[0m_popen\u001b[0m \u001b[1;33m=\u001b[0m \u001b[0mself\u001b[0m\u001b[1;33m.\u001b[0m\u001b[0m_Popen\u001b[0m\u001b[1;33m(\u001b[0m\u001b[0mself\u001b[0m\u001b[1;33m)\u001b[0m\u001b[1;33m\u001b[0m\u001b[0m\n\u001b[0m\u001b[0;32m    106\u001b[0m         \u001b[0mself\u001b[0m\u001b[1;33m.\u001b[0m\u001b[0m_sentinel\u001b[0m \u001b[1;33m=\u001b[0m \u001b[0mself\u001b[0m\u001b[1;33m.\u001b[0m\u001b[0m_popen\u001b[0m\u001b[1;33m.\u001b[0m\u001b[0msentinel\u001b[0m\u001b[1;33m\u001b[0m\u001b[0m\n\u001b[0;32m    107\u001b[0m         \u001b[0m_children\u001b[0m\u001b[1;33m.\u001b[0m\u001b[0madd\u001b[0m\u001b[1;33m(\u001b[0m\u001b[0mself\u001b[0m\u001b[1;33m)\u001b[0m\u001b[1;33m\u001b[0m\u001b[0m\n",
      "\u001b[1;32mC:\\Anaconda3\\lib\\multiprocessing\\context.py\u001b[0m in \u001b[0;36m_Popen\u001b[1;34m(process_obj)\u001b[0m\n\u001b[0;32m    210\u001b[0m     \u001b[1;33m@\u001b[0m\u001b[0mstaticmethod\u001b[0m\u001b[1;33m\u001b[0m\u001b[0m\n\u001b[0;32m    211\u001b[0m     \u001b[1;32mdef\u001b[0m \u001b[0m_Popen\u001b[0m\u001b[1;33m(\u001b[0m\u001b[0mprocess_obj\u001b[0m\u001b[1;33m)\u001b[0m\u001b[1;33m:\u001b[0m\u001b[1;33m\u001b[0m\u001b[0m\n\u001b[1;32m--> 212\u001b[1;33m         \u001b[1;32mreturn\u001b[0m \u001b[0m_default_context\u001b[0m\u001b[1;33m.\u001b[0m\u001b[0mget_context\u001b[0m\u001b[1;33m(\u001b[0m\u001b[1;33m)\u001b[0m\u001b[1;33m.\u001b[0m\u001b[0mProcess\u001b[0m\u001b[1;33m.\u001b[0m\u001b[0m_Popen\u001b[0m\u001b[1;33m(\u001b[0m\u001b[0mprocess_obj\u001b[0m\u001b[1;33m)\u001b[0m\u001b[1;33m\u001b[0m\u001b[0m\n\u001b[0m\u001b[0;32m    213\u001b[0m \u001b[1;33m\u001b[0m\u001b[0m\n\u001b[0;32m    214\u001b[0m \u001b[1;32mclass\u001b[0m \u001b[0mDefaultContext\u001b[0m\u001b[1;33m(\u001b[0m\u001b[0mBaseContext\u001b[0m\u001b[1;33m)\u001b[0m\u001b[1;33m:\u001b[0m\u001b[1;33m\u001b[0m\u001b[0m\n",
      "\u001b[1;32mC:\\Anaconda3\\lib\\multiprocessing\\context.py\u001b[0m in \u001b[0;36m_Popen\u001b[1;34m(process_obj)\u001b[0m\n\u001b[0;32m    311\u001b[0m         \u001b[1;32mdef\u001b[0m \u001b[0m_Popen\u001b[0m\u001b[1;33m(\u001b[0m\u001b[0mprocess_obj\u001b[0m\u001b[1;33m)\u001b[0m\u001b[1;33m:\u001b[0m\u001b[1;33m\u001b[0m\u001b[0m\n\u001b[0;32m    312\u001b[0m             \u001b[1;32mfrom\u001b[0m \u001b[1;33m.\u001b[0m\u001b[0mpopen_spawn_win32\u001b[0m \u001b[1;32mimport\u001b[0m \u001b[0mPopen\u001b[0m\u001b[1;33m\u001b[0m\u001b[0m\n\u001b[1;32m--> 313\u001b[1;33m             \u001b[1;32mreturn\u001b[0m \u001b[0mPopen\u001b[0m\u001b[1;33m(\u001b[0m\u001b[0mprocess_obj\u001b[0m\u001b[1;33m)\u001b[0m\u001b[1;33m\u001b[0m\u001b[0m\n\u001b[0m\u001b[0;32m    314\u001b[0m \u001b[1;33m\u001b[0m\u001b[0m\n\u001b[0;32m    315\u001b[0m     \u001b[1;32mclass\u001b[0m \u001b[0mSpawnContext\u001b[0m\u001b[1;33m(\u001b[0m\u001b[0mBaseContext\u001b[0m\u001b[1;33m)\u001b[0m\u001b[1;33m:\u001b[0m\u001b[1;33m\u001b[0m\u001b[0m\n",
      "\u001b[1;32mC:\\Anaconda3\\lib\\multiprocessing\\popen_spawn_win32.py\u001b[0m in \u001b[0;36m__init__\u001b[1;34m(self, process_obj)\u001b[0m\n\u001b[0;32m     64\u001b[0m             \u001b[1;32mtry\u001b[0m\u001b[1;33m:\u001b[0m\u001b[1;33m\u001b[0m\u001b[0m\n\u001b[0;32m     65\u001b[0m                 \u001b[0mreduction\u001b[0m\u001b[1;33m.\u001b[0m\u001b[0mdump\u001b[0m\u001b[1;33m(\u001b[0m\u001b[0mprep_data\u001b[0m\u001b[1;33m,\u001b[0m \u001b[0mto_child\u001b[0m\u001b[1;33m)\u001b[0m\u001b[1;33m\u001b[0m\u001b[0m\n\u001b[1;32m---> 66\u001b[1;33m                 \u001b[0mreduction\u001b[0m\u001b[1;33m.\u001b[0m\u001b[0mdump\u001b[0m\u001b[1;33m(\u001b[0m\u001b[0mprocess_obj\u001b[0m\u001b[1;33m,\u001b[0m \u001b[0mto_child\u001b[0m\u001b[1;33m)\u001b[0m\u001b[1;33m\u001b[0m\u001b[0m\n\u001b[0m\u001b[0;32m     67\u001b[0m             \u001b[1;32mfinally\u001b[0m\u001b[1;33m:\u001b[0m\u001b[1;33m\u001b[0m\u001b[0m\n\u001b[0;32m     68\u001b[0m                 \u001b[0mcontext\u001b[0m\u001b[1;33m.\u001b[0m\u001b[0mset_spawning_popen\u001b[0m\u001b[1;33m(\u001b[0m\u001b[1;32mNone\u001b[0m\u001b[1;33m)\u001b[0m\u001b[1;33m\u001b[0m\u001b[0m\n",
      "\u001b[1;32mC:\\Anaconda3\\lib\\multiprocessing\\reduction.py\u001b[0m in \u001b[0;36mdump\u001b[1;34m(obj, file, protocol)\u001b[0m\n\u001b[0;32m     57\u001b[0m \u001b[1;32mdef\u001b[0m \u001b[0mdump\u001b[0m\u001b[1;33m(\u001b[0m\u001b[0mobj\u001b[0m\u001b[1;33m,\u001b[0m \u001b[0mfile\u001b[0m\u001b[1;33m,\u001b[0m \u001b[0mprotocol\u001b[0m\u001b[1;33m=\u001b[0m\u001b[1;32mNone\u001b[0m\u001b[1;33m)\u001b[0m\u001b[1;33m:\u001b[0m\u001b[1;33m\u001b[0m\u001b[0m\n\u001b[0;32m     58\u001b[0m     \u001b[1;34m'''Replacement for pickle.dump() using ForkingPickler.'''\u001b[0m\u001b[1;33m\u001b[0m\u001b[0m\n\u001b[1;32m---> 59\u001b[1;33m     \u001b[0mForkingPickler\u001b[0m\u001b[1;33m(\u001b[0m\u001b[0mfile\u001b[0m\u001b[1;33m,\u001b[0m \u001b[0mprotocol\u001b[0m\u001b[1;33m)\u001b[0m\u001b[1;33m.\u001b[0m\u001b[0mdump\u001b[0m\u001b[1;33m(\u001b[0m\u001b[0mobj\u001b[0m\u001b[1;33m)\u001b[0m\u001b[1;33m\u001b[0m\u001b[0m\n\u001b[0m\u001b[0;32m     60\u001b[0m \u001b[1;33m\u001b[0m\u001b[0m\n\u001b[0;32m     61\u001b[0m \u001b[1;31m#\u001b[0m\u001b[1;33m\u001b[0m\u001b[1;33m\u001b[0m\u001b[0m\n",
      "\u001b[1;31mBrokenPipeError\u001b[0m: [Errno 32] Broken pipe"
     ]
    }
   ],
   "source": [
    "data=current_loop.run(location='test_sweep_toy')"
   ]
  },
  {
   "cell_type": "markdown",
   "metadata": {},
   "source": [
    "\n",
    "! Note: this example does not exist yet\n",
    "### Example 2, making custom parameters \n",
    "* Set parameter 1 adding a fully custom parameter to instrument 1\n",
    "* Set parameter 2 a paramter without an instrument that can be set \n",
    "* An independent get parameter that acquires the same data but does averaging and returns the mean and sem without modifying the underlying model. \n",
    "    "
   ]
  },
  {
   "cell_type": "markdown",
   "metadata": {},
   "source": [
    "#### Reproduce minimal working example from QCodes example\n",
    "I verified that the broken pipe error does not occur when reproducing the QCodes example in this notebook (see below) "
   ]
  },
  {
   "cell_type": "code",
   "execution_count": 5,
   "metadata": {
    "collapsed": false
   },
   "outputs": [
    {
     "data": {
      "text/plain": [
       "[]"
      ]
     },
     "execution_count": 5,
     "metadata": {},
     "output_type": "execute_result"
    }
   ],
   "source": [
    "# spawn doesn't like function or class definitions in the interpreter\n",
    "# session - had to move them to a file.\n",
    "from toymodel import AModel, MockGates, MockSource, MockMeter\n",
    "\n",
    "# now create this \"experiment\"\n",
    "model = AModel()\n",
    "gates = MockGates('gates', model)\n",
    "source = MockSource('source', model)\n",
    "meter = MockMeter('meter', model)\n",
    "\n",
    "station = qc.Station(gates, source, meter)\n",
    "\n",
    "# could measure any number of things by adding arguments to this\n",
    "# function call, but here we're just measuring one, the meter amplitude\n",
    "station.set_measurement(meter.amplitude)\n",
    "\n",
    "# it's nice to have the key parameters be part of the global namespace\n",
    "# that way they're objects that we can easily set, get, and slice\n",
    "# this could be simplified to a station method that gathers all parameters\n",
    "# and adds them all as (disambiguated) globals, printing what it did\n",
    "# something like:\n",
    "#   station.gather_parameters(globals())\n",
    "c0, c1, c2, vsd = gates.chan0, gates.chan1, gates.chan2, source.amplitude\n",
    "\n",
    "# check that a DataServer is running (not yet implemented, but when we have\n",
    "# a monitor, defining a station will start the DataServer to run the monitor)\n",
    "qc.active_children()"
   ]
  },
  {
   "cell_type": "code",
   "execution_count": 6,
   "metadata": {
    "collapsed": false
   },
   "outputs": [
    {
     "name": "stdout",
     "output_type": "stream",
     "text": [
      "DataSet: DataMode.PULL_FROM_SERVER, location='testsweep'\n",
      "   amplitude: amplitude\n",
      "   chan0: chan0\n",
      "started at 2016-01-05 09:43:14\n"
     ]
    }
   ],
   "source": [
    "# start a Loop (which by default runs in a seprarate process)\n",
    "# the sweep values are defined by slicing the parameter object\n",
    "# but more complicated sweeps (eg nonlinear, or adaptive) can\n",
    "# easily be used instead\n",
    "data = qc.Loop(c0[-20:20:0.1], 0.03).run(location='testsweep')"
   ]
  },
  {
   "cell_type": "code",
   "execution_count": 11,
   "metadata": {
    "collapsed": false,
    "scrolled": true
   },
   "outputs": [
    {
     "data": {
      "text/plain": [
       "{'amplitude': DataArray[400]: amplitude\n",
       " array([ 0.117,  0.117,  0.115,  0.111,  0.106,  0.099,  0.092,  0.085,\n",
       "         0.077,  0.071,  0.064,  0.058,  0.053,  0.048,  0.044,  0.04 ,\n",
       "         0.037,  0.034,  0.031,  0.029,  0.027,  0.025,  0.023,  0.022,\n",
       "         0.02 ,  0.019,  0.018,  0.017,  0.016,  0.015,  0.014,  0.013,\n",
       "         0.013,  0.012,  0.011,  0.011,  0.01 ,  0.01 ,  0.01 ,  0.009,\n",
       "         0.009,  0.008,  0.008,  0.008,  0.007,  0.007,  0.007,  0.007,\n",
       "         0.006,  0.006,  0.006,  0.006,  0.006,  0.007,  0.007,  0.007,\n",
       "         0.007,  0.008,  0.008,  0.008,  0.009,  0.009,  0.01 ,  0.01 ,\n",
       "         0.01 ,  0.011,  0.011,  0.012,  0.013,  0.013,  0.014,  0.015,\n",
       "         0.016,  0.017,  0.018,  0.019,  0.02 ,  0.022,  0.023,  0.025,\n",
       "         0.027,  0.029,  0.031,  0.034,  0.037,  0.04 ,  0.044,  0.048,\n",
       "         0.053,  0.058,  0.064,  0.071,  0.077,  0.085,  0.092,  0.099,\n",
       "         0.106,  0.111,  0.115,  0.117,  0.117,  0.117,  0.115,  0.111,\n",
       "         0.106,  0.099,  0.092,  0.085,  0.077,  0.071,  0.064,  0.058,\n",
       "         0.053,  0.048,  0.044,  0.04 ,  0.037,  0.034,  0.031,  0.029,\n",
       "         0.027,  0.025,  0.023,  0.022,  0.02 ,  0.019,  0.018,  0.017,\n",
       "         0.016,  0.015,  0.014,  0.013,  0.013,  0.012,  0.011,  0.011,\n",
       "         0.01 ,  0.01 ,  0.01 ,  0.009,  0.009,  0.008,  0.008,  0.008,\n",
       "         0.007,  0.007,  0.007,  0.007,  0.006,  0.006,  0.006,  0.006,\n",
       "         0.006,  0.007,  0.007,  0.007,  0.007,  0.008,  0.008,  0.008,\n",
       "         0.009,  0.009,  0.01 ,  0.01 ,  0.01 ,  0.011,  0.011,  0.012,\n",
       "         0.013,  0.013,  0.014,  0.015,  0.016,  0.017,  0.018,  0.019,\n",
       "         0.02 ,  0.022,  0.023,  0.025,  0.027,  0.029,  0.031,  0.034,\n",
       "         0.037,  0.04 ,  0.044,  0.048,  0.053,  0.058,  0.064,  0.071,\n",
       "         0.077,  0.085,  0.092,  0.099,  0.106,  0.111,  0.115,  0.117,\n",
       "         0.117,  0.117,  0.115,  0.111,  0.106,  0.099,  0.092,  0.085,\n",
       "         0.077,  0.071,  0.064,  0.058,  0.053,  0.048,  0.044,  0.04 ,\n",
       "         0.037,  0.034,  0.031,  0.029,  0.027,  0.025,  0.023,  0.022,\n",
       "         0.02 ,  0.019,  0.018,  0.017,  0.016,  0.015,  0.014,  0.013,\n",
       "         0.013,  0.012,  0.011,  0.011,  0.01 ,  0.01 ,  0.01 ,  0.009,\n",
       "         0.009,  0.008,  0.008,  0.008,  0.007,  0.007,  0.007,  0.007,\n",
       "         0.006,  0.006,  0.006,  0.006,  0.006,  0.007,  0.007,  0.007,\n",
       "         0.007,  0.008,  0.008,  0.008,  0.009,  0.009,  0.01 ,  0.01 ,\n",
       "         0.01 ,  0.011,  0.011,  0.012,  0.013,  0.013,  0.014,  0.015,\n",
       "         0.016,  0.017,  0.018,  0.019,  0.02 ,  0.022,  0.023,  0.025,\n",
       "         0.027,  0.029,  0.031,  0.034,  0.037,  0.04 ,  0.044,  0.048,\n",
       "         0.053,  0.058,  0.064,  0.071,  0.077,  0.085,  0.092,  0.099,\n",
       "         0.106,  0.111,  0.115,  0.117,  0.117,  0.117,  0.115,  0.111,\n",
       "         0.106,  0.099,  0.092,  0.085,  0.077,  0.071,  0.064,  0.058,\n",
       "         0.053,  0.048,  0.044,  0.04 ,  0.037,  0.034,  0.031,  0.029,\n",
       "         0.027,  0.025,  0.023,  0.022,  0.02 ,  0.019,  0.018,  0.017,\n",
       "         0.016,  0.015,  0.014,  0.013,  0.013,  0.012,  0.011,  0.011,\n",
       "         0.01 ,  0.01 ,  0.01 ,  0.009,  0.009,  0.008,  0.008,  0.008,\n",
       "         0.007,  0.007,  0.007,  0.007,  0.006,  0.006,  0.006,  0.006,\n",
       "         0.006,  0.007,  0.007,  0.007,  0.007,  0.008,  0.008,  0.008,\n",
       "         0.009,  0.009,  0.01 ,  0.01 ,  0.01 ,  0.011,  0.011,  0.012,\n",
       "         0.013,  0.013,  0.014,  0.015,  0.016,  0.017,  0.018,  0.019,\n",
       "         0.02 ,  0.022,  0.023,  0.025,  0.027,  0.029,  0.031,  0.034,\n",
       "         0.037,  0.04 ,  0.044,  0.048,  0.053,  0.058,  0.064,  0.071,\n",
       "         0.077,  0.085,  0.092,  0.099,  0.106,  0.111,  0.115,  0.117]),\n",
       " 'chan0': DataArray[400]: chan0\n",
       " array([-20. , -19.9, -19.8, -19.7, -19.6, -19.5, -19.4, -19.3, -19.2,\n",
       "        -19.1, -19. , -18.9, -18.8, -18.7, -18.6, -18.5, -18.4, -18.3,\n",
       "        -18.2, -18.1, -18. , -17.9, -17.8, -17.7, -17.6, -17.5, -17.4,\n",
       "        -17.3, -17.2, -17.1, -17. , -16.9, -16.8, -16.7, -16.6, -16.5,\n",
       "        -16.4, -16.3, -16.2, -16.1, -16. , -15.9, -15.8, -15.7, -15.6,\n",
       "        -15.5, -15.4, -15.3, -15.2, -15.1, -15. , -14.9, -14.8, -14.7,\n",
       "        -14.6, -14.5, -14.4, -14.3, -14.2, -14.1, -14. , -13.9, -13.8,\n",
       "        -13.7, -13.6, -13.5, -13.4, -13.3, -13.2, -13.1, -13. , -12.9,\n",
       "        -12.8, -12.7, -12.6, -12.5, -12.4, -12.3, -12.2, -12.1, -12. ,\n",
       "        -11.9, -11.8, -11.7, -11.6, -11.5, -11.4, -11.3, -11.2, -11.1,\n",
       "        -11. , -10.9, -10.8, -10.7, -10.6, -10.5, -10.4, -10.3, -10.2,\n",
       "        -10.1, -10. ,  -9.9,  -9.8,  -9.7,  -9.6,  -9.5,  -9.4,  -9.3,\n",
       "         -9.2,  -9.1,  -9. ,  -8.9,  -8.8,  -8.7,  -8.6,  -8.5,  -8.4,\n",
       "         -8.3,  -8.2,  -8.1,  -8. ,  -7.9,  -7.8,  -7.7,  -7.6,  -7.5,\n",
       "         -7.4,  -7.3,  -7.2,  -7.1,  -7. ,  -6.9,  -6.8,  -6.7,  -6.6,\n",
       "         -6.5,  -6.4,  -6.3,  -6.2,  -6.1,  -6. ,  -5.9,  -5.8,  -5.7,\n",
       "         -5.6,  -5.5,  -5.4,  -5.3,  -5.2,  -5.1,  -5. ,  -4.9,  -4.8,\n",
       "         -4.7,  -4.6,  -4.5,  -4.4,  -4.3,  -4.2,  -4.1,  -4. ,  -3.9,\n",
       "         -3.8,  -3.7,  -3.6,  -3.5,  -3.4,  -3.3,  -3.2,  -3.1,  -3. ,\n",
       "         -2.9,  -2.8,  -2.7,  -2.6,  -2.5,  -2.4,  -2.3,  -2.2,  -2.1,\n",
       "         -2. ,  -1.9,  -1.8,  -1.7,  -1.6,  -1.5,  -1.4,  -1.3,  -1.2,\n",
       "         -1.1,  -1. ,  -0.9,  -0.8,  -0.7,  -0.6,  -0.5,  -0.4,  -0.3,\n",
       "         -0.2,  -0.1,   0. ,   0.1,   0.2,   0.3,   0.4,   0.5,   0.6,\n",
       "          0.7,   0.8,   0.9,   1. ,   1.1,   1.2,   1.3,   1.4,   1.5,\n",
       "          1.6,   1.7,   1.8,   1.9,   2. ,   2.1,   2.2,   2.3,   2.4,\n",
       "          2.5,   2.6,   2.7,   2.8,   2.9,   3. ,   3.1,   3.2,   3.3,\n",
       "          3.4,   3.5,   3.6,   3.7,   3.8,   3.9,   4. ,   4.1,   4.2,\n",
       "          4.3,   4.4,   4.5,   4.6,   4.7,   4.8,   4.9,   5. ,   5.1,\n",
       "          5.2,   5.3,   5.4,   5.5,   5.6,   5.7,   5.8,   5.9,   6. ,\n",
       "          6.1,   6.2,   6.3,   6.4,   6.5,   6.6,   6.7,   6.8,   6.9,\n",
       "          7. ,   7.1,   7.2,   7.3,   7.4,   7.5,   7.6,   7.7,   7.8,\n",
       "          7.9,   8. ,   8.1,   8.2,   8.3,   8.4,   8.5,   8.6,   8.7,\n",
       "          8.8,   8.9,   9. ,   9.1,   9.2,   9.3,   9.4,   9.5,   9.6,\n",
       "          9.7,   9.8,   9.9,  10. ,  10.1,  10.2,  10.3,  10.4,  10.5,\n",
       "         10.6,  10.7,  10.8,  10.9,  11. ,  11.1,  11.2,  11.3,  11.4,\n",
       "         11.5,  11.6,  11.7,  11.8,  11.9,  12. ,  12.1,  12.2,  12.3,\n",
       "         12.4,  12.5,  12.6,  12.7,  12.8,  12.9,  13. ,  13.1,  13.2,\n",
       "         13.3,  13.4,  13.5,  13.6,  13.7,  13.8,  13.9,  14. ,  14.1,\n",
       "         14.2,  14.3,  14.4,  14.5,  14.6,  14.7,  14.8,  14.9,  15. ,\n",
       "         15.1,  15.2,  15.3,  15.4,  15.5,  15.6,  15.7,  15.8,  15.9,\n",
       "         16. ,  16.1,  16.2,  16.3,  16.4,  16.5,  16.6,  16.7,  16.8,\n",
       "         16.9,  17. ,  17.1,  17.2,  17.3,  17.4,  17.5,  17.6,  17.7,\n",
       "         17.8,  17.9,  18. ,  18.1,  18.2,  18.3,  18.4,  18.5,  18.6,\n",
       "         18.7,  18.8,  18.9,  19. ,  19.1,  19.2,  19.3,  19.4,  19.5,\n",
       "         19.6,  19.7,  19.8,  19.9])}"
      ]
     },
     "execution_count": 11,
     "metadata": {},
     "output_type": "execute_result"
    }
   ],
   "source": [
    "data.sync() # If data is not synced the data will not be updated\n",
    "data.arrays"
   ]
  }
 ],
 "metadata": {
  "kernelspec": {
   "display_name": "Python 3",
   "language": "python",
   "name": "python3"
  },
  "language_info": {
   "codemirror_mode": {
    "name": "ipython",
    "version": 3
   },
   "file_extension": ".py",
   "mimetype": "text/x-python",
   "name": "python",
   "nbconvert_exporter": "python",
   "pygments_lexer": "ipython3",
   "version": "3.5.1"
  }
 },
 "nbformat": 4,
 "nbformat_minor": 0
}
