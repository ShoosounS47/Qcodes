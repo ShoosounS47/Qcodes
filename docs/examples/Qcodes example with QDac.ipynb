{
 "cells": [
  {
   "cell_type": "code",
   "execution_count": 1,
   "metadata": {
    "collapsed": false
   },
   "outputs": [],
   "source": [
    "import qcodes as qc\n",
    "import numpy as np\n",
    "\n",
    "from time import sleep\n",
    "\n",
    "from qcodes.instrument_drivers.QDev.QDac import QDac"
   ]
  },
  {
   "cell_type": "code",
   "execution_count": 2,
   "metadata": {
    "collapsed": false
   },
   "outputs": [
    {
     "name": "stdout",
     "output_type": "stream",
     "text": [
      "Connected to QDac on ASRL2::INSTR, Software Version: 0.160915\n",
      "[*] Querying all channels for voltages and currents...\n",
      "[+] Done\n"
     ]
    }
   ],
   "source": [
    "# Connect to the instrument\n",
    "qdac = QDac('qdac', 'ASRL2::INSTR')"
   ]
  },
  {
   "cell_type": "markdown",
   "metadata": {
    "collapsed": false
   },
   "source": [
    "# Basic QDac Usage\n",
    "\n",
    "The QCoDeS QDac driver currently supports using\n",
    "  * 48 Output Channels\n",
    "  * 8 Function generators\n",
    "\n",
    "Each output channel has seven parameters:\n",
    "  * DC voltage\n",
    "  * DC voltage range\n",
    "  * Current out\n",
    "  * Current our range\n",
    "  * Amplitude \n",
    "  * Offset\n",
    "  * Associated function generator\n",
    "\n",
    "The amplitude and offset are applied to the basic function shape of the function generator bound to the channel (when not DC).\n",
    "\n",
    "Each function generator has four parameters:\n",
    "  * Wave type\n",
    "  * Frequency\n",
    "  * Duty cycle (not relevant to sine)\n",
    "  * No. of repetitions"
   ]
  },
  {
   "cell_type": "code",
   "execution_count": 3,
   "metadata": {
    "collapsed": false
   },
   "outputs": [
    {
     "name": "stdout",
     "output_type": "stream",
     "text": [
      "1 [1, 2]\n"
     ]
    }
   ],
   "source": [
    "# As an example, let's make a 50 Hz sine wave with 200 repetitions\n",
    "# and output it on channel 1 and 2 with different amplitudes and offsets\n",
    "\n",
    "# first, we select function generator 1 to output the desired waveform\n",
    "qdac.fungen1_type('SINE')\n",
    "qdac.fungen1_freq(50)\n",
    "qdac.fungen1_nreps(200)\n",
    "\n",
    "# Then we bind the function generator to channel 1 and 2 and set ampl. and offset\n",
    "qdac.ch01_fungen(1)\n",
    "qdac.ch01_ampl(0.1)\n",
    "qdac.ch01_offset(0.4)\n",
    "qdac.ch02_fungen(1)\n",
    "qdac.ch02_ampl(-0.2)\n",
    "qdac.ch02_offset(0)\n",
    "\n",
    "# And the finally start outputting\n",
    "#(Note: this is not synchronous across several generators as \n",
    "# the hardware only allows us to switch on the outputs sequentially)\n",
    "\n",
    "qdac.run(1)  # run function generator 1"
   ]
  },
  {
   "cell_type": "code",
   "execution_count": 4,
   "metadata": {
    "collapsed": false,
    "scrolled": true
   },
   "outputs": [],
   "source": [
    "# Note: we can change the DC output of channel 1 as we wish...\n",
    "qdac.ch01_v(0.1)\n",
    "sleep(1)\n",
    "qdac.ch01_v(0.5)"
   ]
  },
  {
   "cell_type": "code",
   "execution_count": 7,
   "metadata": {
    "collapsed": false
   },
   "outputs": [
    {
     "name": "stdout",
     "output_type": "stream",
     "text": [
      "1 [2]\n"
     ]
    }
   ],
   "source": [
    "#...but it is still bound to function generator 1:\n",
    "qdac.run(1)"
   ]
  },
  {
   "cell_type": "code",
   "execution_count": 6,
   "metadata": {
    "collapsed": true
   },
   "outputs": [],
   "source": [
    "# if this is undesired, we may bind it back to DC:\n",
    "qdac.ch01_fungen(0)"
   ]
  },
  {
   "cell_type": "code",
   "execution_count": null,
   "metadata": {
    "collapsed": true
   },
   "outputs": [],
   "source": [
    "# now running function generator 1 will only output on channel 2\n",
    "qdac.run(1)"
   ]
  },
  {
   "cell_type": "markdown",
   "metadata": {},
   "source": [
    "# Overview of channel settings\n",
    "\n",
    "The driver provides a method for pretty-printing the state of all channels. On startup, all channels are queried for voltage and current across them, but the current query is very slow (blame the hardware).\n",
    "\n",
    "The pretty-print method may or may not **update** the values for the currents."
   ]
  },
  {
   "cell_type": "code",
   "execution_count": 8,
   "metadata": {
    "collapsed": false
   },
   "outputs": [
    {
     "name": "stdout",
     "output_type": "stream",
     "text": [
      "Channel 1 \n",
      "    Current: -160.292709 (muA). Voltage: 0.39999 (V). \n",
      "    Current range: 100 muA. Voltage range: -10 V to 10 V. \n",
      "Channel 2 \n",
      "    Current: -160.292709 (muA). Voltage: 0.0 (V). \n",
      "    Current range: 100 muA. Voltage range: -10 V to 10 V. \n",
      "Channel 3 \n",
      "    Current: -160.292709 (muA). Voltage: 0.0 (V). \n",
      "    Current range: 100 muA. Voltage range: -10 V to 10 V. \n",
      "Channel 4 \n",
      "    Current: -160.292709 (muA). Voltage: 0.0 (V). \n",
      "    Current range: 100 muA. Voltage range: -10 V to 10 V. \n",
      "Channel 5 \n",
      "    Current: -160.292709 (muA). Voltage: 0.0 (V). \n",
      "    Current range: 100 muA. Voltage range: -10 V to 10 V. \n",
      "Channel 6 \n",
      "    Current: -160.292709 (muA). Voltage: 0.0 (V). \n",
      "    Current range: 100 muA. Voltage range: -10 V to 10 V. \n",
      "Channel 7 \n",
      "    Current: -160.292709 (muA). Voltage: 0.0 (V). \n",
      "    Current range: 100 muA. Voltage range: -10 V to 10 V. \n",
      "Channel 8 \n",
      "    Current: -160.292709 (muA). Voltage: 0.0 (V). \n",
      "    Current range: 100 muA. Voltage range: -10 V to 10 V. \n",
      "Channel 9 \n",
      "    Current: 5.496508 (muA). Voltage: 0.0 (V). \n",
      "    Current range: 100 muA. Voltage range: -10 V to 10 V. \n",
      "Channel 10 \n",
      "    Current: 5.497081 (muA). Voltage: 0.0 (V). \n",
      "    Current range: 100 muA. Voltage range: -10 V to 10 V. \n",
      "Channel 11 \n",
      "    Current: 5.496974 (muA). Voltage: 0.0 (V). \n",
      "    Current range: 100 muA. Voltage range: -10 V to 10 V. \n",
      "Channel 12 \n",
      "    Current: 5.497177 (muA). Voltage: 0.0 (V). \n",
      "    Current range: 100 muA. Voltage range: -10 V to 10 V. \n",
      "Channel 13 \n",
      "    Current: 5.497415 (muA). Voltage: 0.0 (V). \n",
      "    Current range: 100 muA. Voltage range: -10 V to 10 V. \n",
      "Channel 14 \n",
      "    Current: 5.497235 (muA). Voltage: 0.0 (V). \n",
      "    Current range: 100 muA. Voltage range: -10 V to 10 V. \n",
      "Channel 15 \n",
      "    Current: 5.497092 (muA). Voltage: 0.0 (V). \n",
      "    Current range: 100 muA. Voltage range: -10 V to 10 V. \n",
      "Channel 16 \n",
      "    Current: 5.494973 (muA). Voltage: 0.0 (V). \n",
      "    Current range: 100 muA. Voltage range: -10 V to 10 V. \n",
      "Channel 17 \n",
      "    Current: 3.769924 (muA). Voltage: 0.0 (V). \n",
      "    Current range: 100 muA. Voltage range: -10 V to 10 V. \n",
      "Channel 18 \n",
      "    Current: 3.769863 (muA). Voltage: 0.0 (V). \n",
      "    Current range: 100 muA. Voltage range: -10 V to 10 V. \n",
      "Channel 19 \n",
      "    Current: 3.769744 (muA). Voltage: 0.0 (V). \n",
      "    Current range: 100 muA. Voltage range: -10 V to 10 V. \n",
      "Channel 20 \n",
      "    Current: 0.037696 (muA). Voltage: 0.0 (V). \n",
      "    Current range: 1 muA. Voltage range: -10 V to 10 V. \n",
      "Channel 21 \n",
      "    Current: 3.769578 (muA). Voltage: 0.0 (V). \n",
      "    Current range: 100 muA. Voltage range: -10 V to 10 V. \n",
      "Channel 22 \n",
      "    Current: 3.769947 (muA). Voltage: 0.0 (V). \n",
      "    Current range: 100 muA. Voltage range: -10 V to 10 V. \n",
      "Channel 23 \n",
      "    Current: 3.769936 (muA). Voltage: 0.0 (V). \n",
      "    Current range: 100 muA. Voltage range: -10 V to 10 V. \n",
      "Channel 24 \n",
      "    Current: 3.769316 (muA). Voltage: 0.0 (V). \n",
      "    Current range: 100 muA. Voltage range: -10 V to 10 V. \n",
      "Channel 25 \n",
      "    Current: 4.640315 (muA). Voltage: 0.0 (V). \n",
      "    Current range: 100 muA. Voltage range: -1 V to 1 V. \n",
      "Channel 26 \n",
      "    Current: 4.640791 (muA). Voltage: 0.0 (V). \n",
      "    Current range: 100 muA. Voltage range: -10 V to 10 V. \n",
      "Channel 27 \n",
      "    Current: 4.640492 (muA). Voltage: 0.0 (V). \n",
      "    Current range: 100 muA. Voltage range: -10 V to 10 V. \n",
      "Channel 28 \n",
      "    Current: 4.640684 (muA). Voltage: 0.0 (V). \n",
      "    Current range: 100 muA. Voltage range: -10 V to 10 V. \n",
      "Channel 29 \n",
      "    Current: 4.640003 (muA). Voltage: 0.0 (V). \n",
      "    Current range: 100 muA. Voltage range: -10 V to 10 V. \n",
      "Channel 30 \n",
      "    Current: 4.642196 (muA). Voltage: 0.0 (V). \n",
      "    Current range: 100 muA. Voltage range: -10 V to 10 V. \n",
      "Channel 31 \n",
      "    Current: 4.641719 (muA). Voltage: 0.0 (V). \n",
      "    Current range: 100 muA. Voltage range: -10 V to 10 V. \n",
      "Channel 32 \n",
      "    Current: 4.641838 (muA). Voltage: 0.0 (V). \n",
      "    Current range: 100 muA. Voltage range: -10 V to 10 V. \n",
      "Channel 33 \n",
      "    Current: 6.59924 (muA). Voltage: 0.0 (V). \n",
      "    Current range: 100 muA. Voltage range: -10 V to 10 V. \n",
      "Channel 34 \n",
      "    Current: 6.599572 (muA). Voltage: 0.0 (V). \n",
      "    Current range: 100 muA. Voltage range: -10 V to 10 V. \n",
      "Channel 35 \n",
      "    Current: 6.599095 (muA). Voltage: 0.0 (V). \n",
      "    Current range: 100 muA. Voltage range: -10 V to 10 V. \n",
      "Channel 36 \n",
      "    Current: 6.599383 (muA). Voltage: 0.0 (V). \n",
      "    Current range: 100 muA. Voltage range: -10 V to 10 V. \n",
      "Channel 37 \n",
      "    Current: 6.599429 (muA). Voltage: 0.0 (V). \n",
      "    Current range: 100 muA. Voltage range: -10 V to 10 V. \n",
      "Channel 38 \n",
      "    Current: 6.599333 (muA). Voltage: 0.0 (V). \n",
      "    Current range: 100 muA. Voltage range: -10 V to 10 V. \n",
      "Channel 39 \n",
      "    Current: 6.598871 (muA). Voltage: 0.0 (V). \n",
      "    Current range: 100 muA. Voltage range: -10 V to 10 V. \n",
      "Channel 40 \n",
      "    Current: 6.599095 (muA). Voltage: 0.0 (V). \n",
      "    Current range: 100 muA. Voltage range: -10 V to 10 V. \n",
      "Channel 41 \n",
      "    Current: 7.548623 (muA). Voltage: 0.0 (V). \n",
      "    Current range: 100 muA. Voltage range: -10 V to 10 V. \n",
      "Channel 42 \n",
      "    Current: 7.548458 (muA). Voltage: 0.0 (V). \n",
      "    Current range: 100 muA. Voltage range: -10 V to 10 V. \n",
      "Channel 43 \n",
      "    Current: 7.548923 (muA). Voltage: 0.0 (V). \n",
      "    Current range: 100 muA. Voltage range: -10 V to 10 V. \n",
      "Channel 44 \n",
      "    Current: 7.549531 (muA). Voltage: 0.0 (V). \n",
      "    Current range: 100 muA. Voltage range: -10 V to 10 V. \n",
      "Channel 45 \n",
      "    Current: 7.549876 (muA). Voltage: 0.0 (V). \n",
      "    Current range: 100 muA. Voltage range: -10 V to 10 V. \n",
      "Channel 46 \n",
      "    Current: 7.549981 (muA). Voltage: 0.0 (V). \n",
      "    Current range: 100 muA. Voltage range: -10 V to 10 V. \n",
      "Channel 47 \n",
      "    Current: 7.54978 (muA). Voltage: 0.0 (V). \n",
      "    Current range: 100 muA. Voltage range: -10 V to 10 V. \n",
      "Channel 48 \n",
      "    Current: 7.549981 (muA). Voltage: 0.0 (V). \n",
      "    Current range: 100 muA. Voltage range: -10 V to 10 V. \n"
     ]
    }
   ],
   "source": [
    "qdac.print_overview(update_currents=True)"
   ]
  },
  {
   "cell_type": "markdown",
   "metadata": {},
   "source": [
    "## Voltage ranges\n",
    "\n",
    "The Voltage range of each channel should be understood as a multiplier (voltage times 0.1) that can either be ON or OFF."
   ]
  },
  {
   "cell_type": "code",
   "execution_count": 15,
   "metadata": {
    "collapsed": true
   },
   "outputs": [],
   "source": [
    "# This outputs 0.2 volts\n",
    "qdac.ch01_vrange(1)\n",
    "qdac.ch01_v(2)\n",
    "# This also outputs 0.2 volts\n",
    "qdac.ch02_fungen(0)\n",
    "qdac.ch02_vrange(0)\n",
    "qdac.ch02_v(0.2)"
   ]
  },
  {
   "cell_type": "code",
   "execution_count": 16,
   "metadata": {
    "collapsed": true
   },
   "outputs": [],
   "source": [
    "qdac.close()"
   ]
  },
  {
   "cell_type": "code",
   "execution_count": null,
   "metadata": {
    "collapsed": true
   },
   "outputs": [],
   "source": []
  }
 ],
 "metadata": {
  "kernelspec": {
   "display_name": "Python 3",
   "language": "python",
   "name": "python3"
  },
  "language_info": {
   "codemirror_mode": {
    "name": "ipython",
    "version": 3
   },
   "file_extension": ".py",
   "mimetype": "text/x-python",
   "name": "python",
   "nbconvert_exporter": "python",
   "pygments_lexer": "ipython3",
   "version": "3.5.2"
  }
 },
 "nbformat": 4,
 "nbformat_minor": 0
}
