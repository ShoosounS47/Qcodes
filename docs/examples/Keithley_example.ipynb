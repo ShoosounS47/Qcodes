{
 "cells": [
  {
   "cell_type": "markdown",
   "metadata": {},
   "source": [
    "# Example script for Keithley driver"
   ]
  },
  {
   "cell_type": "code",
   "execution_count": 15,
   "metadata": {
    "collapsed": false
   },
   "outputs": [],
   "source": [
    "import matplotlib.pyplot as plt\n",
    "import time\n",
    "import numpy as np\n",
    "from imp import reload\n",
    "\n",
    "import qcodes as qc\n",
    "\n",
    "qc.set_mp_method('spawn')  # force Windows behavior on mac\n",
    "\n",
    "# this makes a widget in the corner of the window to show and control\n",
    "# subprocesses and any output they would print to the terminal\n",
    "qc.show_subprocess_widget()"
   ]
  },
  {
   "cell_type": "markdown",
   "metadata": {},
   "source": [
    "## Keithley driver\n",
    "\n",
    "What to do:\n",
    "    \n",
    "* implement add functionality of the driver\n",
    "* add documentation to the functions\n",
    "    "
   ]
  },
  {
   "cell_type": "code",
   "execution_count": 16,
   "metadata": {
    "collapsed": false
   },
   "outputs": [
    {
     "data": {
      "text/plain": [
       "<module 'qcodes.instrument_drivers.tektronix.Keithley' from 'd:\\\\users\\\\eendebakpt\\\\qcodes\\\\qcodes\\\\instrument_drivers\\\\tektronix\\\\Keithley.py'>"
      ]
     },
     "execution_count": 16,
     "metadata": {},
     "output_type": "execute_result"
    }
   ],
   "source": [
    "import qcodes.instrument_drivers\n",
    "import qcodes.instrument_drivers.tektronix.Keithley as keith; reload(keith)"
   ]
  },
  {
   "cell_type": "code",
   "execution_count": 17,
   "metadata": {
    "collapsed": false
   },
   "outputs": [
    {
     "name": "stdout",
     "output_type": "stream",
     "text": [
      "Connected to:  KEITHLEY INSTRUMENTS INC., MODEL 2700, 0792116, B06  /A02    in 0.14s\n"
     ]
    }
   ],
   "source": [
    "k1 = keith.Keithley_2700('Keithley', 'GPIB1::15::INSTR')\n",
    "k1.add_parameter('READ', get_cmd='READ?', label='Keithley value', get_parser=float)"
   ]
  },
  {
   "cell_type": "code",
   "execution_count": 18,
   "metadata": {
    "collapsed": false
   },
   "outputs": [
    {
     "name": "stdout",
     "output_type": "stream",
     "text": [
      "current mode: VOLT:DC\n"
     ]
    }
   ],
   "source": [
    "print('current mode: %s' % k1.get('mode'))"
   ]
  },
  {
   "cell_type": "code",
   "execution_count": 19,
   "metadata": {
    "collapsed": false,
    "scrolled": true
   },
   "outputs": [
    {
     "name": "stdout",
     "output_type": "stream",
     "text": [
      "measure: -1.044276\n",
      "measure: -1.050299\n",
      "measure: -1.056594\n",
      "measure: -1.069865\n",
      "measure: -1.075954\n",
      "measure: -1.081997\n"
     ]
    }
   ],
   "source": [
    "for i in range(6):\n",
    "    print('measure: %.6f'  % k1.readnext() )"
   ]
  },
  {
   "cell_type": "code",
   "execution_count": 12,
   "metadata": {
    "collapsed": false
   },
   "outputs": [
    {
     "data": {
      "text/plain": [
       "[]"
      ]
     },
     "execution_count": 12,
     "metadata": {},
     "output_type": "execute_result"
    }
   ],
   "source": [
    "station = qc.Station('Keithley')\n",
    "\n",
    "# could measure any number of things by adding arguments to this\n",
    "# function call, but here we're just measuring one, the meter mode\n",
    "station.set_measurement(k1.mode)\n",
    "\n",
    "qc.active_children()"
   ]
  },
  {
   "cell_type": "code",
   "execution_count": 13,
   "metadata": {
    "collapsed": false
   },
   "outputs": [
    {
     "data": {
      "text/plain": [
       "['VOLT:DC']"
      ]
     },
     "execution_count": 13,
     "metadata": {},
     "output_type": "execute_result"
    }
   ],
   "source": [
    "station.measure()"
   ]
  },
  {
   "cell_type": "code",
   "execution_count": 23,
   "metadata": {
    "collapsed": false
   },
   "outputs": [
    {
     "name": "stdout",
     "output_type": "stream",
     "text": [
      "sds\n"
     ]
    }
   ],
   "source": [
    "print(k1.nplc.__doc__)"
   ]
  },
  {
   "cell_type": "code",
   "execution_count": null,
   "metadata": {
    "collapsed": true
   },
   "outputs": [],
   "source": []
  }
 ],
 "metadata": {
  "kernelspec": {
   "display_name": "Python 3",
   "language": "python",
   "name": "python3"
  },
  "language_info": {
   "codemirror_mode": {
    "name": "ipython",
    "version": 3
   },
   "file_extension": ".py",
   "mimetype": "text/x-python",
   "name": "python",
   "nbconvert_exporter": "python",
   "pygments_lexer": "ipython3",
   "version": "3.5.1"
  }
 },
 "nbformat": 4,
 "nbformat_minor": 0
}
