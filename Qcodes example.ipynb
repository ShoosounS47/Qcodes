{
 "cells": [
  {
   "cell_type": "code",
   "execution_count": 1,
   "metadata": {
    "collapsed": false
   },
   "outputs": [],
   "source": [
    "%matplotlib inline\n",
    "import matplotlib.pyplot as plt\n",
    "import time\n",
    "from IPython import display\n",
    "\n",
    "# load the qcodes path, until we have this installed as a package\n",
    "import sys\n",
    "\n",
    "qcpath = '/Users/alex/qdev/Qcodes'\n",
    "if qcpath not in sys.path:\n",
    "    sys.path.append(qcpath)\n",
    "\n",
    "import qcodes as q\n",
    "\n",
    "q.set_mp_method('spawn')  # force Windows behavior on mac"
   ]
  },
  {
   "cell_type": "code",
   "execution_count": 2,
   "metadata": {
    "collapsed": false
   },
   "outputs": [
    {
     "data": {
      "text/plain": [
       "[]"
      ]
     },
     "execution_count": 2,
     "metadata": {},
     "output_type": "execute_result"
    }
   ],
   "source": [
    "# spawn doesn't like function or class definitions in the interpreter\n",
    "# session - had to move them to a file.\n",
    "from toymodel import AModel, MockGates, MockSource, MockMeter\n",
    "\n",
    "# no extra processes running yet\n",
    "q.active_children()"
   ]
  },
  {
   "cell_type": "code",
   "execution_count": 3,
   "metadata": {
    "collapsed": false
   },
   "outputs": [
    {
     "data": {
      "text/plain": [
       "[]"
      ]
     },
     "execution_count": 3,
     "metadata": {},
     "output_type": "execute_result"
    }
   ],
   "source": [
    "# now create this \"experiment\"\n",
    "model = AModel()\n",
    "gates = MockGates('gates', model)\n",
    "source = MockSource('source', model)\n",
    "meter = MockMeter('meter', model)\n",
    "\n",
    "station = q.Station(gates, source, meter)\n",
    "\n",
    "# could measure any number of things by adding arguments to this\n",
    "# function call, but here we're just measuring one, the meter amplitude\n",
    "station.set_measurement(meter.amplitude)\n",
    "\n",
    "# it's nice to have the key parameters be part of the global namespace\n",
    "# that way they're objects that we can easily set, get, and slice\n",
    "# this could be simplified to a station method that gathers all parameters\n",
    "# and adds them all as (disambiguated) globals, printing what it did\n",
    "# something like:\n",
    "#   station.gather_parameters(globals())\n",
    "c0, c1, c2, vsd = gates.chan0, gates.chan1, gates.chan2, source.amplitude\n",
    "\n",
    "# check that a DataServer is running (not yet implemented, but when we have\n",
    "# a monitor, defining a station will start the DataServer to run the monitor)\n",
    "q.active_children()"
   ]
  },
  {
   "cell_type": "code",
   "execution_count": 4,
   "metadata": {
    "collapsed": false
   },
   "outputs": [
    {
     "data": {
      "text/plain": [
       "[0.117]"
      ]
     },
     "execution_count": 4,
     "metadata": {},
     "output_type": "execute_result"
    }
   ],
   "source": [
    "# we can get the measured quantities right now\n",
    "station.measure()"
   ]
  },
  {
   "cell_type": "code",
   "execution_count": 5,
   "metadata": {
    "collapsed": false
   },
   "outputs": [
    {
     "name": "stdout",
     "output_type": "stream",
     "text": [
      "DataSet: DataMode.PULL_FROM_SERVER, location='testsweep'\n",
      "   amplitude: amplitude\n",
      "   chan0: chan0\n",
      "started at 2015-12-18 12:52:56\n"
     ]
    }
   ],
   "source": [
    "# start a Loop (which by default runs in a seprarate process)\n",
    "# the sweep values are defined by slicing the parameter object\n",
    "# but more complicated sweeps (eg nonlinear, or adaptive) can\n",
    "# easily be used instead\n",
    "data = q.Loop(c0[-20:20:0.1], 0.1).run(location='testsweep')"
   ]
  },
  {
   "cell_type": "code",
   "execution_count": 6,
   "metadata": {
    "collapsed": false
   },
   "outputs": [
    {
     "data": {
      "text/plain": [
       "[<MeasurementLoop-2, started daemon>, <DataServer-1, started daemon>]"
      ]
     },
     "execution_count": 6,
     "metadata": {},
     "output_type": "execute_result"
    }
   ],
   "source": [
    "# now there should be two extra processes running, DataServer and a sweep\n",
    "q.active_children()"
   ]
  },
  {
   "cell_type": "code",
   "execution_count": 7,
   "metadata": {
    "collapsed": false,
    "scrolled": true
   },
   "outputs": [
    {
     "data": {
      "text/plain": [
       "{'amplitude': DataArray[400]: amplitude\n",
       " array([ 0.117,  0.117,  0.115,  0.111,  0.106,  0.099,  0.092,  0.085,\n",
       "         0.077,  0.071,  0.064,  0.058,  0.053,  0.048,  0.044,  0.04 ,\n",
       "         0.037,  0.034,  0.031,  0.029,  0.027,  0.025,  0.023,  0.022,\n",
       "         0.02 ,  0.019,    nan,    nan,    nan,    nan,    nan,    nan,\n",
       "           nan,    nan,    nan,    nan,    nan,    nan,    nan,    nan,\n",
       "           nan,    nan,    nan,    nan,    nan,    nan,    nan,    nan,\n",
       "           nan,    nan,    nan,    nan,    nan,    nan,    nan,    nan,\n",
       "           nan,    nan,    nan,    nan,    nan,    nan,    nan,    nan,\n",
       "           nan,    nan,    nan,    nan,    nan,    nan,    nan,    nan,\n",
       "           nan,    nan,    nan,    nan,    nan,    nan,    nan,    nan,\n",
       "           nan,    nan,    nan,    nan,    nan,    nan,    nan,    nan,\n",
       "           nan,    nan,    nan,    nan,    nan,    nan,    nan,    nan,\n",
       "           nan,    nan,    nan,    nan,    nan,    nan,    nan,    nan,\n",
       "           nan,    nan,    nan,    nan,    nan,    nan,    nan,    nan,\n",
       "           nan,    nan,    nan,    nan,    nan,    nan,    nan,    nan,\n",
       "           nan,    nan,    nan,    nan,    nan,    nan,    nan,    nan,\n",
       "           nan,    nan,    nan,    nan,    nan,    nan,    nan,    nan,\n",
       "           nan,    nan,    nan,    nan,    nan,    nan,    nan,    nan,\n",
       "           nan,    nan,    nan,    nan,    nan,    nan,    nan,    nan,\n",
       "           nan,    nan,    nan,    nan,    nan,    nan,    nan,    nan,\n",
       "           nan,    nan,    nan,    nan,    nan,    nan,    nan,    nan,\n",
       "           nan,    nan,    nan,    nan,    nan,    nan,    nan,    nan,\n",
       "           nan,    nan,    nan,    nan,    nan,    nan,    nan,    nan,\n",
       "           nan,    nan,    nan,    nan,    nan,    nan,    nan,    nan,\n",
       "           nan,    nan,    nan,    nan,    nan,    nan,    nan,    nan,\n",
       "           nan,    nan,    nan,    nan,    nan,    nan,    nan,    nan,\n",
       "           nan,    nan,    nan,    nan,    nan,    nan,    nan,    nan,\n",
       "           nan,    nan,    nan,    nan,    nan,    nan,    nan,    nan,\n",
       "           nan,    nan,    nan,    nan,    nan,    nan,    nan,    nan,\n",
       "           nan,    nan,    nan,    nan,    nan,    nan,    nan,    nan,\n",
       "           nan,    nan,    nan,    nan,    nan,    nan,    nan,    nan,\n",
       "           nan,    nan,    nan,    nan,    nan,    nan,    nan,    nan,\n",
       "           nan,    nan,    nan,    nan,    nan,    nan,    nan,    nan,\n",
       "           nan,    nan,    nan,    nan,    nan,    nan,    nan,    nan,\n",
       "           nan,    nan,    nan,    nan,    nan,    nan,    nan,    nan,\n",
       "           nan,    nan,    nan,    nan,    nan,    nan,    nan,    nan,\n",
       "           nan,    nan,    nan,    nan,    nan,    nan,    nan,    nan,\n",
       "           nan,    nan,    nan,    nan,    nan,    nan,    nan,    nan,\n",
       "           nan,    nan,    nan,    nan,    nan,    nan,    nan,    nan,\n",
       "           nan,    nan,    nan,    nan,    nan,    nan,    nan,    nan,\n",
       "           nan,    nan,    nan,    nan,    nan,    nan,    nan,    nan,\n",
       "           nan,    nan,    nan,    nan,    nan,    nan,    nan,    nan,\n",
       "           nan,    nan,    nan,    nan,    nan,    nan,    nan,    nan,\n",
       "           nan,    nan,    nan,    nan,    nan,    nan,    nan,    nan,\n",
       "           nan,    nan,    nan,    nan,    nan,    nan,    nan,    nan,\n",
       "           nan,    nan,    nan,    nan,    nan,    nan,    nan,    nan,\n",
       "           nan,    nan,    nan,    nan,    nan,    nan,    nan,    nan,\n",
       "           nan,    nan,    nan,    nan,    nan,    nan,    nan,    nan,\n",
       "           nan,    nan,    nan,    nan,    nan,    nan,    nan,    nan,\n",
       "           nan,    nan,    nan,    nan,    nan,    nan,    nan,    nan]),\n",
       " 'chan0': DataArray[400]: chan0\n",
       " array([-20. , -19.9, -19.8, -19.7, -19.6, -19.5, -19.4, -19.3, -19.2,\n",
       "        -19.1, -19. , -18.9, -18.8, -18.7, -18.6, -18.5, -18.4, -18.3,\n",
       "        -18.2, -18.1, -18. , -17.9, -17.8, -17.7, -17.6, -17.5, -17.4,\n",
       "          nan,   nan,   nan,   nan,   nan,   nan,   nan,   nan,   nan,\n",
       "          nan,   nan,   nan,   nan,   nan,   nan,   nan,   nan,   nan,\n",
       "          nan,   nan,   nan,   nan,   nan,   nan,   nan,   nan,   nan,\n",
       "          nan,   nan,   nan,   nan,   nan,   nan,   nan,   nan,   nan,\n",
       "          nan,   nan,   nan,   nan,   nan,   nan,   nan,   nan,   nan,\n",
       "          nan,   nan,   nan,   nan,   nan,   nan,   nan,   nan,   nan,\n",
       "          nan,   nan,   nan,   nan,   nan,   nan,   nan,   nan,   nan,\n",
       "          nan,   nan,   nan,   nan,   nan,   nan,   nan,   nan,   nan,\n",
       "          nan,   nan,   nan,   nan,   nan,   nan,   nan,   nan,   nan,\n",
       "          nan,   nan,   nan,   nan,   nan,   nan,   nan,   nan,   nan,\n",
       "          nan,   nan,   nan,   nan,   nan,   nan,   nan,   nan,   nan,\n",
       "          nan,   nan,   nan,   nan,   nan,   nan,   nan,   nan,   nan,\n",
       "          nan,   nan,   nan,   nan,   nan,   nan,   nan,   nan,   nan,\n",
       "          nan,   nan,   nan,   nan,   nan,   nan,   nan,   nan,   nan,\n",
       "          nan,   nan,   nan,   nan,   nan,   nan,   nan,   nan,   nan,\n",
       "          nan,   nan,   nan,   nan,   nan,   nan,   nan,   nan,   nan,\n",
       "          nan,   nan,   nan,   nan,   nan,   nan,   nan,   nan,   nan,\n",
       "          nan,   nan,   nan,   nan,   nan,   nan,   nan,   nan,   nan,\n",
       "          nan,   nan,   nan,   nan,   nan,   nan,   nan,   nan,   nan,\n",
       "          nan,   nan,   nan,   nan,   nan,   nan,   nan,   nan,   nan,\n",
       "          nan,   nan,   nan,   nan,   nan,   nan,   nan,   nan,   nan,\n",
       "          nan,   nan,   nan,   nan,   nan,   nan,   nan,   nan,   nan,\n",
       "          nan,   nan,   nan,   nan,   nan,   nan,   nan,   nan,   nan,\n",
       "          nan,   nan,   nan,   nan,   nan,   nan,   nan,   nan,   nan,\n",
       "          nan,   nan,   nan,   nan,   nan,   nan,   nan,   nan,   nan,\n",
       "          nan,   nan,   nan,   nan,   nan,   nan,   nan,   nan,   nan,\n",
       "          nan,   nan,   nan,   nan,   nan,   nan,   nan,   nan,   nan,\n",
       "          nan,   nan,   nan,   nan,   nan,   nan,   nan,   nan,   nan,\n",
       "          nan,   nan,   nan,   nan,   nan,   nan,   nan,   nan,   nan,\n",
       "          nan,   nan,   nan,   nan,   nan,   nan,   nan,   nan,   nan,\n",
       "          nan,   nan,   nan,   nan,   nan,   nan,   nan,   nan,   nan,\n",
       "          nan,   nan,   nan,   nan,   nan,   nan,   nan,   nan,   nan,\n",
       "          nan,   nan,   nan,   nan,   nan,   nan,   nan,   nan,   nan,\n",
       "          nan,   nan,   nan,   nan,   nan,   nan,   nan,   nan,   nan,\n",
       "          nan,   nan,   nan,   nan,   nan,   nan,   nan,   nan,   nan,\n",
       "          nan,   nan,   nan,   nan,   nan,   nan,   nan,   nan,   nan,\n",
       "          nan,   nan,   nan,   nan,   nan,   nan,   nan,   nan,   nan,\n",
       "          nan,   nan,   nan,   nan,   nan,   nan,   nan,   nan,   nan,\n",
       "          nan,   nan,   nan,   nan,   nan,   nan,   nan,   nan,   nan,\n",
       "          nan,   nan,   nan,   nan,   nan,   nan,   nan,   nan,   nan,\n",
       "          nan,   nan,   nan,   nan,   nan,   nan,   nan,   nan,   nan,\n",
       "          nan,   nan,   nan,   nan])}"
      ]
     },
     "execution_count": 7,
     "metadata": {},
     "output_type": "execute_result"
    }
   ],
   "source": [
    "# bring the data into the main process and display it as numbers\n",
    "data.sync()\n",
    "data.arrays"
   ]
  },
  {
   "cell_type": "code",
   "execution_count": 8,
   "metadata": {
    "collapsed": false,
    "scrolled": false
   },
   "outputs": [
    {
     "data": {
      "image/png": "[encoded data removed]",
      "text/plain": [
       "<matplotlib.figure.Figure at 0x105a4ecc0>"
      ]
     },
     "metadata": {},
     "output_type": "display_data"
    }
   ],
   "source": [
    "fig = plt.figure(figsize=(12, 5))\n",
    "ax = fig.add_subplot(1,1,1)\n",
    "\n",
    "# plot (can also be done repeatedly while the sweep is running)\n",
    "# next up: create an active plot that will update itself automatically\n",
    "# (via javascript, so the main python stays accessible) as long as the sweep is running\n",
    "# as well as provide some nicer styling and labeling defaults\n",
    "while data.is_live_mode:\n",
    "    data.sync()\n",
    "    ax.clear()\n",
    "    ax.plot(data.chan0, data.amplitude)\n",
    "    display.display(fig)\n",
    "    display.clear_output(wait=True)\n",
    "    time.sleep(1)"
   ]
  },
  {
   "cell_type": "code",
   "execution_count": 9,
   "metadata": {
    "collapsed": false
   },
   "outputs": [
    {
     "name": "stdout",
     "output_type": "stream",
     "text": [
      "DataSet: DataMode.PULL_FROM_SERVER, location='test2d'\n",
      "   chan1: chan1\n",
      "   amplitude_0: amplitude\n",
      "   amplitude_3: amplitude\n",
      "   chan0: chan0\n",
      "started at 2015-12-18 12:54:00\n"
     ]
    }
   ],
   "source": [
    "data2 = q.Loop(c1[-15:15:1], 0.1).loop(c0[-15:12:.5], 0.01).each(\n",
    "    meter.amplitude, # first measurement, at c2=0 -> amplitude_0 bcs it's action 0\n",
    "    q.Task(c2.set, 1), # action 1 -> c2.set(1)\n",
    "    q.Wait(0.001),\n",
    "    meter.amplitude, # second measurement, at c2=1 -> amplitude_4 bcs it's action 4\n",
    "    q.Task(c2.set, 0)\n",
    "    ).run(location='test2d')"
   ]
  },
  {
   "cell_type": "code",
   "execution_count": 10,
   "metadata": {
    "collapsed": false,
    "scrolled": false
   },
   "outputs": [
    {
     "data": {
      "image/png": "[encoded data removed]",
      "text/plain": [
       "<matplotlib.figure.Figure at 0x105e9b0f0>"
      ]
     },
     "metadata": {},
     "output_type": "display_data"
    }
   ],
   "source": [
    "import numpy.ma as ma\n",
    "\n",
    "fig = plt.figure(figsize=(12, 5))\n",
    "ax = fig.add_subplot(1,1,1)\n",
    "\n",
    "# next up: create an active plot that will update itself automatically\n",
    "# (via javascript, so the main python stays accessible) as long as the sweep is running\n",
    "# as well as provide some nicer styling and labeling defaults\n",
    "while True:\n",
    "    data2.sync()\n",
    "    ax.clear()\n",
    "    ax.pcolormesh(ma.masked_invalid(data2.chan0),\n",
    "                  ma.masked_invalid(data2.chan1),\n",
    "                  ma.masked_invalid(data2.amplitude_0),\n",
    "                  cmap=plt.cm.hot)\n",
    "    display.display(fig)\n",
    "    display.clear_output(wait=True)\n",
    "    if not data2.is_live_mode:\n",
    "        break\n",
    "    time.sleep(1)"
   ]
  },
  {
   "cell_type": "code",
   "execution_count": 12,
   "metadata": {
    "collapsed": false
   },
   "outputs": [
    {
     "data": {
      "image/png": "[encoded data removed]",
      "text/plain": [
       "<matplotlib.figure.Figure at 0x10605b240>"
      ]
     },
     "metadata": {},
     "output_type": "display_data"
    }
   ],
   "source": [
    "# this plot shows the second array collected, amplitude_0 (at c2=1)\n",
    "# note that these are acquired within the same 2D sweep\n",
    "# as you can see if you run this cell and the above while the Loop is running\n",
    "plt.figure(figsize=(12, 5))\n",
    "# pcolormesh needs NaN masked out or it barfs\n",
    "plt.pcolormesh(ma.masked_invalid(data2.chan0),\n",
    "               ma.masked_invalid(data2.chan1),\n",
    "               ma.masked_invalid(data2.amplitude_3),\n",
    "               cmap=plt.cm.hot)\n",
    "plt.colorbar()\n",
    "plt.show()"
   ]
  },
  {
   "cell_type": "code",
   "execution_count": 13,
   "metadata": {
    "collapsed": false
   },
   "outputs": [],
   "source": [
    "# I obviously have a lot to figure out about matplotlib...\n",
    "# calling the above redraws constantly to \"live update\"\n",
    "# generates warnings after a while about too many open figures\n",
    "plt.close('all')"
   ]
  },
  {
   "cell_type": "code",
   "execution_count": 14,
   "metadata": {
    "collapsed": false
   },
   "outputs": [
    {
     "name": "stdout",
     "output_type": "stream",
     "text": [
      "DataSet: DataMode.PULL_FROM_SERVER, location='test_multi_d'\n",
      "   chan2: chan2\n",
      "   chan1: chan1\n",
      "   amplitude_5_0: amplitude\n",
      "   amplitude_2: amplitude\n",
      "   amplitude_3_0: amplitude\n",
      "   chan0: chan0\n",
      "started at 2015-12-18 12:55:06\n"
     ]
    }
   ],
   "source": [
    "data3 = q.Loop(c1[-15:15:1], 0.1).each(\n",
    "    q.Task(c0.set, -10),\n",
    "    q.Task(c2.set, 0),\n",
    "    # a 1D measurement\n",
    "    meter.amplitude,\n",
    "    # a 2D sweep, .each is actually unnecessary bcs this is the default measurement\n",
    "    q.Loop(c0[-15:15:1], 0.01).each(meter.amplitude),\n",
    "    q.Task(c0.set, -10),\n",
    "    # a 2D sweep with the same outer but different inner loop\n",
    "    q.Loop(c2[-10:10:0.2], 0.01)\n",
    ").run(location='test_multi_d')"
   ]
  },
  {
   "cell_type": "code",
   "execution_count": 19,
   "metadata": {
    "collapsed": false
   },
   "outputs": [
    {
     "data": {
      "image/png": "[encoded data removed]",
      "text/plain": [
       "<matplotlib.figure.Figure at 0x105ecaac8>"
      ]
     },
     "metadata": {},
     "output_type": "display_data"
    }
   ],
   "source": [
    "data3.sync()\n",
    "plt.figure(figsize=(12, 5))\n",
    "# pcolormesh needs NaN masked out or it barfs\n",
    "plt.pcolormesh(ma.masked_invalid(data3.chan0),\n",
    "               ma.masked_invalid(data3.chan1),\n",
    "               ma.masked_invalid(data3.amplitude_3_0),\n",
    "               cmap=plt.cm.hot)\n",
    "plt.colorbar()\n",
    "plt.show()"
   ]
  },
  {
   "cell_type": "code",
   "execution_count": 20,
   "metadata": {
    "collapsed": false
   },
   "outputs": [
    {
     "data": {
      "image/png": "[encoded data removed]",
      "text/plain": [
       "<matplotlib.figure.Figure at 0x10674d1d0>"
      ]
     },
     "metadata": {},
     "output_type": "display_data"
    }
   ],
   "source": [
    "plt.figure(figsize=(12, 5))\n",
    "# pcolormesh needs NaN masked out or it barfs\n",
    "plt.pcolormesh(ma.masked_invalid(data3.chan2),\n",
    "               ma.masked_invalid(data3.chan1),\n",
    "               ma.masked_invalid(data3.amplitude_5_0),\n",
    "               cmap=plt.cm.hot)\n",
    "plt.colorbar()\n",
    "plt.show()"
   ]
  },
  {
   "cell_type": "code",
   "execution_count": null,
   "metadata": {
    "collapsed": false,
    "scrolled": false
   },
   "outputs": [],
   "source": []
  }
 ],
 "metadata": {
  "kernelspec": {
   "display_name": "Python 3",
   "language": "python",
   "name": "python3"
  },
  "language_info": {
   "codemirror_mode": {
    "name": "ipython",
    "version": 3
   },
   "file_extension": ".py",
   "mimetype": "text/x-python",
   "name": "python",
   "nbconvert_exporter": "python",
   "pygments_lexer": "ipython3",
   "version": "3.5.0"
  }
 },
 "nbformat": 4,
 "nbformat_minor": 0
}
